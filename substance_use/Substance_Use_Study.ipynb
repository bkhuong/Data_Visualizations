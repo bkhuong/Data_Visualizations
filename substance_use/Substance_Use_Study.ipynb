{
 "cells": [
  {
   "cell_type": "markdown",
   "metadata": {},
   "source": [
    "# Substance Use Study"
   ]
  },
  {
   "cell_type": "markdown",
   "metadata": {},
   "source": [
    "## Data Sources\n",
    "\n",
    "* https://ourworldindata.org/substance-use#data-sources\n",
    "\n",
    "* https://www.cdc.gov/nchs/hus/contents2017.htm?search=Substance_use,"
   ]
  },
  {
   "cell_type": "markdown",
   "metadata": {},
   "source": [
    "## Datasets"
   ]
  },
  {
   "cell_type": "code",
   "execution_count": 1,
   "metadata": {
    "ExecuteTime": {
     "end_time": "2019-05-08T20:07:08.938736Z",
     "start_time": "2019-05-08T20:07:07.943115Z"
    }
   },
   "outputs": [
    {
     "data": {
      "text/html": [
       "<script type=\"text/javascript\">window.PlotlyConfig = {MathJaxConfig: 'local'};</script><script type=\"text/javascript\">if (window.MathJax) {MathJax.Hub.Config({SVG: {font: \"STIX-Web\"}});}</script><script>requirejs.config({paths: { 'plotly': ['https://cdn.plot.ly/plotly-latest.min']},});if(!window._Plotly) {require(['plotly'],function(plotly) {window._Plotly=plotly;});}</script>"
      ],
      "text/vnd.plotly.v1+html": [
       "<script type=\"text/javascript\">window.PlotlyConfig = {MathJaxConfig: 'local'};</script><script type=\"text/javascript\">if (window.MathJax) {MathJax.Hub.Config({SVG: {font: \"STIX-Web\"}});}</script><script>requirejs.config({paths: { 'plotly': ['https://cdn.plot.ly/plotly-latest.min']},});if(!window._Plotly) {require(['plotly'],function(plotly) {window._Plotly=plotly;});}</script>"
      ]
     },
     "metadata": {},
     "output_type": "display_data"
    }
   ],
   "source": [
    "import colorlover as cl\n",
    "from IPython.display import HTML\n",
    "import matplotlib.pyplot as plt\n",
    "import numpy as np\n",
    "from plotly.offline import iplot, init_notebook_mode\n",
    "import plotly.graph_objs as go\n",
    "import pandas as pd \n",
    "\n",
    "init_notebook_mode(connected=True)\n",
    "\n",
    "# Loading Datasets \n",
    "drug_by_age = pd.read_csv('data/prevalence-of-drug-use-disorders-by-age.csv')\n",
    "drug_vs_alcohol = pd.read_csv('data/share-with-alcohol-vs-drug-use-disorder.csv')\n",
    "drug_overdose = pd.read_csv('data/drug-overdose-death-rates.csv')\n",
    "drug_deaths = pd.read_csv('data/mortality-from-alcohol-and-drug-use-disorders.csv')\n",
    "drug_consumption = pd.read_csv('data/uci_drug_consumption.csv', header=None)"
   ]
  },
  {
   "cell_type": "markdown",
   "metadata": {},
   "source": [
    "## Quick Summary"
   ]
  },
  {
   "cell_type": "code",
   "execution_count": 2,
   "metadata": {
    "ExecuteTime": {
     "end_time": "2019-05-08T20:07:08.960626Z",
     "start_time": "2019-05-08T20:07:08.941278Z"
    }
   },
   "outputs": [
    {
     "data": {
      "text/html": [
       "<div>\n",
       "<style scoped>\n",
       "    .dataframe tbody tr th:only-of-type {\n",
       "        vertical-align: middle;\n",
       "    }\n",
       "\n",
       "    .dataframe tbody tr th {\n",
       "        vertical-align: top;\n",
       "    }\n",
       "\n",
       "    .dataframe thead th {\n",
       "        text-align: right;\n",
       "    }\n",
       "</style>\n",
       "<table border=\"1\" class=\"dataframe\">\n",
       "  <thead>\n",
       "    <tr style=\"text-align: right;\">\n",
       "      <th></th>\n",
       "      <th>Entity</th>\n",
       "      <th>Code</th>\n",
       "      <th>Year</th>\n",
       "      <th>30-34 years old (%)</th>\n",
       "      <th>10-14 years old (%)</th>\n",
       "      <th>15-19 years old (%)</th>\n",
       "      <th>25-29 years old (%)</th>\n",
       "      <th>All ages (%)</th>\n",
       "      <th>20-24 years old (%)</th>\n",
       "      <th>70+ years old (%)</th>\n",
       "      <th>5-14 years old (%)</th>\n",
       "      <th>15-49 years old (%)</th>\n",
       "      <th>Age-standardized (%)</th>\n",
       "    </tr>\n",
       "  </thead>\n",
       "  <tbody>\n",
       "    <tr>\n",
       "      <th>0</th>\n",
       "      <td>Afghanistan</td>\n",
       "      <td>AFG</td>\n",
       "      <td>1990</td>\n",
       "      <td>3.784742</td>\n",
       "      <td>0.028011</td>\n",
       "      <td>1.033674</td>\n",
       "      <td>4.359556</td>\n",
       "      <td>1.213738</td>\n",
       "      <td>3.428878</td>\n",
       "      <td>0.626502</td>\n",
       "      <td>0.027814</td>\n",
       "      <td>2.486386</td>\n",
       "      <td>1.677082</td>\n",
       "    </tr>\n",
       "    <tr>\n",
       "      <th>1</th>\n",
       "      <td>Afghanistan</td>\n",
       "      <td>AFG</td>\n",
       "      <td>1991</td>\n",
       "      <td>3.797962</td>\n",
       "      <td>0.028178</td>\n",
       "      <td>1.038626</td>\n",
       "      <td>4.391779</td>\n",
       "      <td>1.248699</td>\n",
       "      <td>3.438235</td>\n",
       "      <td>0.634433</td>\n",
       "      <td>0.027050</td>\n",
       "      <td>2.533613</td>\n",
       "      <td>1.684746</td>\n",
       "    </tr>\n",
       "  </tbody>\n",
       "</table>\n",
       "</div>"
      ],
      "text/plain": [
       "        Entity Code  Year  30-34 years old (%)  10-14 years old (%)  \\\n",
       "0  Afghanistan  AFG  1990             3.784742             0.028011   \n",
       "1  Afghanistan  AFG  1991             3.797962             0.028178   \n",
       "\n",
       "   15-19 years old (%)  25-29 years old (%)  All ages (%)  \\\n",
       "0             1.033674             4.359556      1.213738   \n",
       "1             1.038626             4.391779      1.248699   \n",
       "\n",
       "   20-24 years old (%)  70+ years old (%)  5-14 years old (%)  \\\n",
       "0             3.428878           0.626502            0.027814   \n",
       "1             3.438235           0.634433            0.027050   \n",
       "\n",
       "   15-49 years old (%)  Age-standardized (%)  \n",
       "0             2.486386              1.677082  \n",
       "1             2.533613              1.684746  "
      ]
     },
     "execution_count": 2,
     "metadata": {},
     "output_type": "execute_result"
    }
   ],
   "source": [
    "drug_by_age.head(2)"
   ]
  },
  {
   "cell_type": "code",
   "execution_count": 3,
   "metadata": {
    "ExecuteTime": {
     "end_time": "2019-05-08T20:07:09.258844Z",
     "start_time": "2019-05-08T20:07:09.248040Z"
    }
   },
   "outputs": [
    {
     "name": "stdout",
     "output_type": "stream",
     "text": [
      "<class 'pandas.core.frame.DataFrame'>\n",
      "RangeIndex: 6468 entries, 0 to 6467\n",
      "Data columns (total 13 columns):\n",
      "Entity                  6468 non-null object\n",
      "Code                    5488 non-null object\n",
      "Year                    6468 non-null int64\n",
      "30-34 years old (%)     6468 non-null float64\n",
      "10-14 years old (%)     6468 non-null float64\n",
      "15-19 years old (%)     6468 non-null float64\n",
      "25-29 years old (%)     6468 non-null float64\n",
      "All ages (%)            6468 non-null float64\n",
      "20-24 years old (%)     6468 non-null float64\n",
      "70+ years old (%)       6468 non-null float64\n",
      "5-14 years old (%)      6468 non-null float64\n",
      "15-49 years old (%)     6468 non-null float64\n",
      "Age-standardized (%)    6468 non-null float64\n",
      "dtypes: float64(10), int64(1), object(2)\n",
      "memory usage: 657.0+ KB\n"
     ]
    }
   ],
   "source": [
    "drug_by_age.info()"
   ]
  },
  {
   "cell_type": "code",
   "execution_count": 4,
   "metadata": {
    "ExecuteTime": {
     "end_time": "2019-05-08T20:07:09.766537Z",
     "start_time": "2019-05-08T20:07:09.755817Z"
    }
   },
   "outputs": [
    {
     "data": {
      "text/html": [
       "<div>\n",
       "<style scoped>\n",
       "    .dataframe tbody tr th:only-of-type {\n",
       "        vertical-align: middle;\n",
       "    }\n",
       "\n",
       "    .dataframe tbody tr th {\n",
       "        vertical-align: top;\n",
       "    }\n",
       "\n",
       "    .dataframe thead th {\n",
       "        text-align: right;\n",
       "    }\n",
       "</style>\n",
       "<table border=\"1\" class=\"dataframe\">\n",
       "  <thead>\n",
       "    <tr style=\"text-align: right;\">\n",
       "      <th></th>\n",
       "      <th>Entity</th>\n",
       "      <th>Code</th>\n",
       "      <th>Year</th>\n",
       "      <th>Share of population with alcohol use disorder (%)</th>\n",
       "      <th>Share of population with drug use disorder (%)</th>\n",
       "      <th>Total population (Gapminder)</th>\n",
       "    </tr>\n",
       "  </thead>\n",
       "  <tbody>\n",
       "    <tr>\n",
       "      <th>0</th>\n",
       "      <td>Afghanistan</td>\n",
       "      <td>AFG</td>\n",
       "      <td>1800</td>\n",
       "      <td>NaN</td>\n",
       "      <td>NaN</td>\n",
       "      <td>3280000.0</td>\n",
       "    </tr>\n",
       "    <tr>\n",
       "      <th>1</th>\n",
       "      <td>Afghanistan</td>\n",
       "      <td>AFG</td>\n",
       "      <td>1820</td>\n",
       "      <td>NaN</td>\n",
       "      <td>NaN</td>\n",
       "      <td>3280000.0</td>\n",
       "    </tr>\n",
       "  </tbody>\n",
       "</table>\n",
       "</div>"
      ],
      "text/plain": [
       "        Entity Code  Year  Share of population with alcohol use disorder (%)  \\\n",
       "0  Afghanistan  AFG  1800                                                NaN   \n",
       "1  Afghanistan  AFG  1820                                                NaN   \n",
       "\n",
       "   Share of population with drug use disorder (%)  \\\n",
       "0                                             NaN   \n",
       "1                                             NaN   \n",
       "\n",
       "   Total population (Gapminder)  \n",
       "0                     3280000.0  \n",
       "1                     3280000.0  "
      ]
     },
     "execution_count": 4,
     "metadata": {},
     "output_type": "execute_result"
    }
   ],
   "source": [
    "drug_vs_alcohol.head(2)"
   ]
  },
  {
   "cell_type": "code",
   "execution_count": 5,
   "metadata": {
    "ExecuteTime": {
     "end_time": "2019-05-08T20:07:10.114820Z",
     "start_time": "2019-05-08T20:07:10.102263Z"
    }
   },
   "outputs": [
    {
     "name": "stdout",
     "output_type": "stream",
     "text": [
      "<class 'pandas.core.frame.DataFrame'>\n",
      "RangeIndex: 21989 entries, 0 to 21988\n",
      "Data columns (total 6 columns):\n",
      "Entity                                               21989 non-null object\n",
      "Code                                                 21009 non-null object\n",
      "Year                                                 21989 non-null int64\n",
      "Share of population with alcohol use disorder (%)    6468 non-null float64\n",
      "Share of population with drug use disorder (%)       6468 non-null float64\n",
      "Total population (Gapminder)                         20081 non-null float64\n",
      "dtypes: float64(3), int64(1), object(2)\n",
      "memory usage: 1.0+ MB\n"
     ]
    }
   ],
   "source": [
    "drug_vs_alcohol.info()"
   ]
  },
  {
   "cell_type": "code",
   "execution_count": 6,
   "metadata": {
    "ExecuteTime": {
     "end_time": "2019-05-08T20:07:10.444180Z",
     "start_time": "2019-05-08T20:07:10.432964Z"
    }
   },
   "outputs": [
    {
     "name": "stdout",
     "output_type": "stream",
     "text": [
      "<class 'pandas.core.frame.DataFrame'>\n",
      "RangeIndex: 21989 entries, 0 to 21988\n",
      "Data columns (total 6 columns):\n",
      "Entity                                               21989 non-null object\n",
      "Code                                                 21009 non-null object\n",
      "Year                                                 21989 non-null int64\n",
      "Share of population with alcohol use disorder (%)    6468 non-null float64\n",
      "Share of population with drug use disorder (%)       6468 non-null float64\n",
      "Total population (Gapminder)                         20081 non-null float64\n",
      "dtypes: float64(3), int64(1), object(2)\n",
      "memory usage: 1.0+ MB\n"
     ]
    }
   ],
   "source": [
    "drug_vs_alcohol.info(2)"
   ]
  },
  {
   "cell_type": "code",
   "execution_count": 7,
   "metadata": {
    "ExecuteTime": {
     "end_time": "2019-05-08T20:07:10.778164Z",
     "start_time": "2019-05-08T20:07:10.767260Z"
    }
   },
   "outputs": [
    {
     "data": {
      "text/html": [
       "<div>\n",
       "<style scoped>\n",
       "    .dataframe tbody tr th:only-of-type {\n",
       "        vertical-align: middle;\n",
       "    }\n",
       "\n",
       "    .dataframe tbody tr th {\n",
       "        vertical-align: top;\n",
       "    }\n",
       "\n",
       "    .dataframe thead th {\n",
       "        text-align: right;\n",
       "    }\n",
       "</style>\n",
       "<table border=\"1\" class=\"dataframe\">\n",
       "  <thead>\n",
       "    <tr style=\"text-align: right;\">\n",
       "      <th></th>\n",
       "      <th>Entity</th>\n",
       "      <th>Code</th>\n",
       "      <th>Year</th>\n",
       "      <th>Any Opioids</th>\n",
       "      <th>Cocaine</th>\n",
       "      <th>Heroin</th>\n",
       "      <th>Opioid Pain Relievers</th>\n",
       "    </tr>\n",
       "  </thead>\n",
       "  <tbody>\n",
       "    <tr>\n",
       "      <th>0</th>\n",
       "      <td>United States</td>\n",
       "      <td>USA</td>\n",
       "      <td>1999</td>\n",
       "      <td>2.951326</td>\n",
       "      <td>1.401586</td>\n",
       "      <td>0.718762</td>\n",
       "      <td>1.477863</td>\n",
       "    </tr>\n",
       "    <tr>\n",
       "      <th>1</th>\n",
       "      <td>United States</td>\n",
       "      <td>USA</td>\n",
       "      <td>2000</td>\n",
       "      <td>2.979490</td>\n",
       "      <td>1.256014</td>\n",
       "      <td>0.652816</td>\n",
       "      <td>1.559386</td>\n",
       "    </tr>\n",
       "  </tbody>\n",
       "</table>\n",
       "</div>"
      ],
      "text/plain": [
       "          Entity Code  Year  Any Opioids   Cocaine    Heroin  \\\n",
       "0  United States  USA  1999     2.951326  1.401586  0.718762   \n",
       "1  United States  USA  2000     2.979490  1.256014  0.652816   \n",
       "\n",
       "   Opioid Pain Relievers  \n",
       "0               1.477863  \n",
       "1               1.559386  "
      ]
     },
     "execution_count": 7,
     "metadata": {},
     "output_type": "execute_result"
    }
   ],
   "source": [
    "drug_overdose.head(2)"
   ]
  },
  {
   "cell_type": "code",
   "execution_count": 8,
   "metadata": {
    "ExecuteTime": {
     "end_time": "2019-05-08T20:07:11.082821Z",
     "start_time": "2019-05-08T20:07:11.076042Z"
    }
   },
   "outputs": [
    {
     "name": "stdout",
     "output_type": "stream",
     "text": [
      "<class 'pandas.core.frame.DataFrame'>\n",
      "RangeIndex: 17 entries, 0 to 16\n",
      "Data columns (total 7 columns):\n",
      "Entity                   17 non-null object\n",
      "Code                     17 non-null object\n",
      "Year                     17 non-null int64\n",
      "Any Opioids              17 non-null float64\n",
      "Cocaine                  17 non-null float64\n",
      "Heroin                   17 non-null float64\n",
      "Opioid Pain Relievers    17 non-null float64\n",
      "dtypes: float64(4), int64(1), object(2)\n",
      "memory usage: 1.0+ KB\n"
     ]
    }
   ],
   "source": [
    "drug_overdose.info()"
   ]
  },
  {
   "cell_type": "code",
   "execution_count": 9,
   "metadata": {
    "ExecuteTime": {
     "end_time": "2019-05-08T20:07:11.460002Z",
     "start_time": "2019-05-08T20:07:11.435621Z"
    }
   },
   "outputs": [
    {
     "data": {
      "text/html": [
       "<div>\n",
       "<style scoped>\n",
       "    .dataframe tbody tr th:only-of-type {\n",
       "        vertical-align: middle;\n",
       "    }\n",
       "\n",
       "    .dataframe tbody tr th {\n",
       "        vertical-align: top;\n",
       "    }\n",
       "\n",
       "    .dataframe thead th {\n",
       "        text-align: right;\n",
       "    }\n",
       "</style>\n",
       "<table border=\"1\" class=\"dataframe\">\n",
       "  <thead>\n",
       "    <tr style=\"text-align: right;\">\n",
       "      <th></th>\n",
       "      <th>0</th>\n",
       "      <th>1</th>\n",
       "      <th>2</th>\n",
       "      <th>3</th>\n",
       "      <th>4</th>\n",
       "      <th>5</th>\n",
       "      <th>6</th>\n",
       "      <th>7</th>\n",
       "      <th>8</th>\n",
       "      <th>9</th>\n",
       "      <th>...</th>\n",
       "      <th>22</th>\n",
       "      <th>23</th>\n",
       "      <th>24</th>\n",
       "      <th>25</th>\n",
       "      <th>26</th>\n",
       "      <th>27</th>\n",
       "      <th>28</th>\n",
       "      <th>29</th>\n",
       "      <th>30</th>\n",
       "      <th>31</th>\n",
       "    </tr>\n",
       "  </thead>\n",
       "  <tbody>\n",
       "    <tr>\n",
       "      <th>0</th>\n",
       "      <td>1</td>\n",
       "      <td>0.49788</td>\n",
       "      <td>0.48246</td>\n",
       "      <td>-0.05921</td>\n",
       "      <td>0.96082</td>\n",
       "      <td>0.12600</td>\n",
       "      <td>0.31287</td>\n",
       "      <td>-0.57545</td>\n",
       "      <td>-0.58331</td>\n",
       "      <td>-0.91699</td>\n",
       "      <td>...</td>\n",
       "      <td>CL0</td>\n",
       "      <td>CL0</td>\n",
       "      <td>CL0</td>\n",
       "      <td>CL0</td>\n",
       "      <td>CL0</td>\n",
       "      <td>CL0</td>\n",
       "      <td>CL0</td>\n",
       "      <td>CL2</td>\n",
       "      <td>CL0</td>\n",
       "      <td>CL0</td>\n",
       "    </tr>\n",
       "    <tr>\n",
       "      <th>1</th>\n",
       "      <td>2</td>\n",
       "      <td>-0.07854</td>\n",
       "      <td>-0.48246</td>\n",
       "      <td>1.98437</td>\n",
       "      <td>0.96082</td>\n",
       "      <td>-0.31685</td>\n",
       "      <td>-0.67825</td>\n",
       "      <td>1.93886</td>\n",
       "      <td>1.43533</td>\n",
       "      <td>0.76096</td>\n",
       "      <td>...</td>\n",
       "      <td>CL4</td>\n",
       "      <td>CL0</td>\n",
       "      <td>CL2</td>\n",
       "      <td>CL0</td>\n",
       "      <td>CL2</td>\n",
       "      <td>CL3</td>\n",
       "      <td>CL0</td>\n",
       "      <td>CL4</td>\n",
       "      <td>CL0</td>\n",
       "      <td>CL0</td>\n",
       "    </tr>\n",
       "  </tbody>\n",
       "</table>\n",
       "<p>2 rows × 32 columns</p>\n",
       "</div>"
      ],
      "text/plain": [
       "   0        1        2        3        4        5        6        7        8   \\\n",
       "0   1  0.49788  0.48246 -0.05921  0.96082  0.12600  0.31287 -0.57545 -0.58331   \n",
       "1   2 -0.07854 -0.48246  1.98437  0.96082 -0.31685 -0.67825  1.93886  1.43533   \n",
       "\n",
       "        9   ...   22   23   24   25   26   27   28   29   30   31  \n",
       "0 -0.91699  ...  CL0  CL0  CL0  CL0  CL0  CL0  CL0  CL2  CL0  CL0  \n",
       "1  0.76096  ...  CL4  CL0  CL2  CL0  CL2  CL3  CL0  CL4  CL0  CL0  \n",
       "\n",
       "[2 rows x 32 columns]"
      ]
     },
     "execution_count": 9,
     "metadata": {},
     "output_type": "execute_result"
    }
   ],
   "source": [
    "drug_consumption.head(2)"
   ]
  },
  {
   "cell_type": "code",
   "execution_count": 10,
   "metadata": {
    "ExecuteTime": {
     "end_time": "2019-05-08T20:07:11.775827Z",
     "start_time": "2019-05-08T20:07:11.764037Z"
    }
   },
   "outputs": [
    {
     "name": "stdout",
     "output_type": "stream",
     "text": [
      "<class 'pandas.core.frame.DataFrame'>\n",
      "RangeIndex: 1885 entries, 0 to 1884\n",
      "Data columns (total 32 columns):\n",
      "0     1885 non-null int64\n",
      "1     1885 non-null float64\n",
      "2     1885 non-null float64\n",
      "3     1885 non-null float64\n",
      "4     1885 non-null float64\n",
      "5     1885 non-null float64\n",
      "6     1885 non-null float64\n",
      "7     1885 non-null float64\n",
      "8     1885 non-null float64\n",
      "9     1885 non-null float64\n",
      "10    1885 non-null float64\n",
      "11    1885 non-null float64\n",
      "12    1885 non-null float64\n",
      "13    1885 non-null object\n",
      "14    1885 non-null object\n",
      "15    1885 non-null object\n",
      "16    1885 non-null object\n",
      "17    1885 non-null object\n",
      "18    1885 non-null object\n",
      "19    1885 non-null object\n",
      "20    1885 non-null object\n",
      "21    1885 non-null object\n",
      "22    1885 non-null object\n",
      "23    1885 non-null object\n",
      "24    1885 non-null object\n",
      "25    1885 non-null object\n",
      "26    1885 non-null object\n",
      "27    1885 non-null object\n",
      "28    1885 non-null object\n",
      "29    1885 non-null object\n",
      "30    1885 non-null object\n",
      "31    1885 non-null object\n",
      "dtypes: float64(12), int64(1), object(19)\n",
      "memory usage: 471.3+ KB\n"
     ]
    }
   ],
   "source": [
    "drug_consumption.info()"
   ]
  },
  {
   "cell_type": "markdown",
   "metadata": {},
   "source": [
    "# Plots"
   ]
  },
  {
   "cell_type": "markdown",
   "metadata": {},
   "source": [
    "## Histogram: Distribution of Drug consumption"
   ]
  },
  {
   "cell_type": "markdown",
   "metadata": {},
   "source": [
    "The following are 4 histograms of the distribution of drug consumption by different personality measures. \n",
    "\n",
    "The personality measures taken into account are: \n",
    "* Neuroticism\n",
    "* Extraversion\n",
    "* Openness\n",
    "* Agreeableness\n",
    "\n",
    "For the drug_consumption dataset, the full data dictionary can be found here: https://archive.ics.uci.edu/ml/datasets/Drug+consumption+%28quantified%29#. \n",
    "\n",
    "For this plot, only the following columns will be used: \n",
    "* column 18 (19 in data dictionary): cannabis consumption\n",
    "* column 20 (21 in data dictionary): coke consumption\n",
    "* column 22 (23 in data dictionary): ectasy consumption \n",
    "* column 23 (24 in data dictionary): heroin consumption \n",
    "\n",
    "For each drug columns stated above, there are 7 discrete values for consumption:\n",
    "* CL0 Never Used \n",
    "* CL1 Used over a Decade Ago\n",
    "* CL2 Used in Last Decade \n",
    "* CL3 Used in Last Year \n",
    "* CL4 Used in Last Month\n",
    "* CL5 Used in Last Week\n",
    "* CL6 Used in Last Day \n"
   ]
  },
  {
   "cell_type": "code",
   "execution_count": 11,
   "metadata": {
    "ExecuteTime": {
     "end_time": "2019-05-08T20:07:13.358196Z",
     "start_time": "2019-05-08T20:07:13.336196Z"
    }
   },
   "outputs": [
    {
     "data": {
      "text/html": [
       "<div>\n",
       "<style scoped>\n",
       "    .dataframe tbody tr th:only-of-type {\n",
       "        vertical-align: middle;\n",
       "    }\n",
       "\n",
       "    .dataframe tbody tr th {\n",
       "        vertical-align: top;\n",
       "    }\n",
       "\n",
       "    .dataframe thead th {\n",
       "        text-align: right;\n",
       "    }\n",
       "</style>\n",
       "<table border=\"1\" class=\"dataframe\">\n",
       "  <thead>\n",
       "    <tr style=\"text-align: right;\">\n",
       "      <th></th>\n",
       "      <th>0</th>\n",
       "      <th>1</th>\n",
       "      <th>2</th>\n",
       "      <th>3</th>\n",
       "      <th>4</th>\n",
       "      <th>5</th>\n",
       "      <th>6</th>\n",
       "      <th>7</th>\n",
       "      <th>8</th>\n",
       "      <th>9</th>\n",
       "      <th>...</th>\n",
       "      <th>22</th>\n",
       "      <th>23</th>\n",
       "      <th>24</th>\n",
       "      <th>25</th>\n",
       "      <th>26</th>\n",
       "      <th>27</th>\n",
       "      <th>28</th>\n",
       "      <th>29</th>\n",
       "      <th>30</th>\n",
       "      <th>31</th>\n",
       "    </tr>\n",
       "  </thead>\n",
       "  <tbody>\n",
       "    <tr>\n",
       "      <th>0</th>\n",
       "      <td>1</td>\n",
       "      <td>0.49788</td>\n",
       "      <td>0.48246</td>\n",
       "      <td>-0.05921</td>\n",
       "      <td>0.96082</td>\n",
       "      <td>0.12600</td>\n",
       "      <td>0.31287</td>\n",
       "      <td>-0.57545</td>\n",
       "      <td>-0.58331</td>\n",
       "      <td>-0.91699</td>\n",
       "      <td>...</td>\n",
       "      <td>CL0</td>\n",
       "      <td>CL0</td>\n",
       "      <td>CL0</td>\n",
       "      <td>CL0</td>\n",
       "      <td>CL0</td>\n",
       "      <td>CL0</td>\n",
       "      <td>CL0</td>\n",
       "      <td>CL2</td>\n",
       "      <td>CL0</td>\n",
       "      <td>CL0</td>\n",
       "    </tr>\n",
       "    <tr>\n",
       "      <th>1</th>\n",
       "      <td>2</td>\n",
       "      <td>-0.07854</td>\n",
       "      <td>-0.48246</td>\n",
       "      <td>1.98437</td>\n",
       "      <td>0.96082</td>\n",
       "      <td>-0.31685</td>\n",
       "      <td>-0.67825</td>\n",
       "      <td>1.93886</td>\n",
       "      <td>1.43533</td>\n",
       "      <td>0.76096</td>\n",
       "      <td>...</td>\n",
       "      <td>CL4</td>\n",
       "      <td>CL0</td>\n",
       "      <td>CL2</td>\n",
       "      <td>CL0</td>\n",
       "      <td>CL2</td>\n",
       "      <td>CL3</td>\n",
       "      <td>CL0</td>\n",
       "      <td>CL4</td>\n",
       "      <td>CL0</td>\n",
       "      <td>CL0</td>\n",
       "    </tr>\n",
       "    <tr>\n",
       "      <th>2</th>\n",
       "      <td>3</td>\n",
       "      <td>0.49788</td>\n",
       "      <td>-0.48246</td>\n",
       "      <td>-0.05921</td>\n",
       "      <td>0.96082</td>\n",
       "      <td>-0.31685</td>\n",
       "      <td>-0.46725</td>\n",
       "      <td>0.80523</td>\n",
       "      <td>-0.84732</td>\n",
       "      <td>-1.62090</td>\n",
       "      <td>...</td>\n",
       "      <td>CL0</td>\n",
       "      <td>CL0</td>\n",
       "      <td>CL0</td>\n",
       "      <td>CL0</td>\n",
       "      <td>CL0</td>\n",
       "      <td>CL0</td>\n",
       "      <td>CL1</td>\n",
       "      <td>CL0</td>\n",
       "      <td>CL0</td>\n",
       "      <td>CL0</td>\n",
       "    </tr>\n",
       "    <tr>\n",
       "      <th>3</th>\n",
       "      <td>4</td>\n",
       "      <td>-0.95197</td>\n",
       "      <td>0.48246</td>\n",
       "      <td>1.16365</td>\n",
       "      <td>0.96082</td>\n",
       "      <td>-0.31685</td>\n",
       "      <td>-0.14882</td>\n",
       "      <td>-0.80615</td>\n",
       "      <td>-0.01928</td>\n",
       "      <td>0.59042</td>\n",
       "      <td>...</td>\n",
       "      <td>CL0</td>\n",
       "      <td>CL0</td>\n",
       "      <td>CL2</td>\n",
       "      <td>CL0</td>\n",
       "      <td>CL0</td>\n",
       "      <td>CL0</td>\n",
       "      <td>CL0</td>\n",
       "      <td>CL2</td>\n",
       "      <td>CL0</td>\n",
       "      <td>CL0</td>\n",
       "    </tr>\n",
       "    <tr>\n",
       "      <th>4</th>\n",
       "      <td>5</td>\n",
       "      <td>0.49788</td>\n",
       "      <td>0.48246</td>\n",
       "      <td>1.98437</td>\n",
       "      <td>0.96082</td>\n",
       "      <td>-0.31685</td>\n",
       "      <td>0.73545</td>\n",
       "      <td>-1.63340</td>\n",
       "      <td>-0.45174</td>\n",
       "      <td>-0.30172</td>\n",
       "      <td>...</td>\n",
       "      <td>CL1</td>\n",
       "      <td>CL0</td>\n",
       "      <td>CL0</td>\n",
       "      <td>CL1</td>\n",
       "      <td>CL0</td>\n",
       "      <td>CL0</td>\n",
       "      <td>CL2</td>\n",
       "      <td>CL2</td>\n",
       "      <td>CL0</td>\n",
       "      <td>CL0</td>\n",
       "    </tr>\n",
       "  </tbody>\n",
       "</table>\n",
       "<p>5 rows × 32 columns</p>\n",
       "</div>"
      ],
      "text/plain": [
       "   0        1        2        3        4        5        6        7        8   \\\n",
       "0   1  0.49788  0.48246 -0.05921  0.96082  0.12600  0.31287 -0.57545 -0.58331   \n",
       "1   2 -0.07854 -0.48246  1.98437  0.96082 -0.31685 -0.67825  1.93886  1.43533   \n",
       "2   3  0.49788 -0.48246 -0.05921  0.96082 -0.31685 -0.46725  0.80523 -0.84732   \n",
       "3   4 -0.95197  0.48246  1.16365  0.96082 -0.31685 -0.14882 -0.80615 -0.01928   \n",
       "4   5  0.49788  0.48246  1.98437  0.96082 -0.31685  0.73545 -1.63340 -0.45174   \n",
       "\n",
       "        9   ...   22   23   24   25   26   27   28   29   30   31  \n",
       "0 -0.91699  ...  CL0  CL0  CL0  CL0  CL0  CL0  CL0  CL2  CL0  CL0  \n",
       "1  0.76096  ...  CL4  CL0  CL2  CL0  CL2  CL3  CL0  CL4  CL0  CL0  \n",
       "2 -1.62090  ...  CL0  CL0  CL0  CL0  CL0  CL0  CL1  CL0  CL0  CL0  \n",
       "3  0.59042  ...  CL0  CL0  CL2  CL0  CL0  CL0  CL0  CL2  CL0  CL0  \n",
       "4 -0.30172  ...  CL1  CL0  CL0  CL1  CL0  CL0  CL2  CL2  CL0  CL0  \n",
       "\n",
       "[5 rows x 32 columns]"
      ]
     },
     "execution_count": 11,
     "metadata": {},
     "output_type": "execute_result"
    }
   ],
   "source": [
    "drug_consumption.head()"
   ]
  },
  {
   "cell_type": "markdown",
   "metadata": {},
   "source": [
    "## Barplot: Alcohol vs Drug Use Disorder"
   ]
  },
  {
   "cell_type": "markdown",
   "metadata": {},
   "source": [
    "The following is a grouped barplot of alcohol and drug use disorders for 20 different countries. "
   ]
  },
  {
   "cell_type": "code",
   "execution_count": 12,
   "metadata": {
    "ExecuteTime": {
     "end_time": "2019-05-08T20:07:14.501078Z",
     "start_time": "2019-05-08T20:07:14.451930Z"
    }
   },
   "outputs": [],
   "source": [
    "# Let's just look at the top 20 countries by GDP\n",
    "top_20_gdp = ['Brazil', 'Canada', 'China', 'France', 'Germany',\n",
    "              'India', 'Italy', 'Japan', 'Mexico', 'Nigeria', 'Russia',\n",
    "              'Saudi Arabia', 'South Africa', 'Spain', 'United Kingdom',\n",
    "              'United States']\n",
    "\n",
    "# group and sum by entity and filter \n",
    "drug_vs_alcohol_barplot = drug_vs_alcohol.groupby(by='Entity', as_index=False).mean()\n",
    "drug_vs_alcohol_barplot = drug_vs_alcohol_barplot[drug_vs_alcohol_barplot.Entity.isin(top_20_gdp)]\n",
    "drug_vs_alcohol_barplot.sort_values(by='Share of population with drug use disorder (%)', \n",
    "                                    ascending=True, inplace=True)\n"
   ]
  },
  {
   "cell_type": "code",
   "execution_count": 13,
   "metadata": {
    "ExecuteTime": {
     "end_time": "2019-05-08T20:07:15.303877Z",
     "start_time": "2019-05-08T20:07:14.954283Z"
    }
   },
   "outputs": [
    {
     "data": {
      "application/vnd.plotly.v1+json": {
       "config": {
        "linkText": "Export to plot.ly",
        "plotlyServerURL": "https://plot.ly",
        "showLink": false
       },
       "data": [
        {
         "name": "Drug Disorder",
         "text": [
          "0.45%",
          "0.5%",
          "0.79%",
          "0.84%",
          "0.87%",
          "0.98%",
          "0.99%",
          "1.1%",
          "1.12%",
          "1.14%",
          "1.34%",
          "1.34%",
          "1.47%",
          "1.67%",
          "2.15%",
          "2.84%"
         ],
         "textposition": "auto",
         "type": "bar",
         "uid": "6fb55f68-330a-47dd-a8b8-cdf5144d2055",
         "x": [
          "Nigeria",
          "India",
          "Mexico",
          "Germany",
          "Japan",
          "Russia",
          "Brazil",
          "China",
          "France",
          "South Africa",
          "Italy",
          "Spain",
          "Saudi Arabia",
          "United Kingdom",
          "Canada",
          "United States"
         ],
         "y": [
          0.44651398727107144,
          0.49801811107207145,
          0.7881723011112501,
          0.83699932972175,
          0.8658131030730715,
          0.9788895461263571,
          0.9921524718360001,
          1.098707169179643,
          1.118707800933857,
          1.135423358025536,
          1.3356358807410715,
          1.3392776964303574,
          1.4679526082032146,
          1.6710280937892859,
          2.1503215201774997,
          2.844713366598572
         ]
        },
        {
         "name": "Alcohol Disorder",
         "text": [
          "0.93%",
          "1.35%",
          "1.71%",
          "2.06%",
          "0.57%",
          "5.16%",
          "2.63%",
          "1.15%",
          "1.43%",
          "1.64%",
          "0.46%",
          "0.85%",
          "0.66%",
          "1.7%",
          "1.56%",
          "2.05%"
         ],
         "textposition": "auto",
         "type": "bar",
         "uid": "7cdd5783-b7dc-4b5a-9d57-d238c82f7fef",
         "x": [
          "Nigeria",
          "India",
          "Mexico",
          "Germany",
          "Japan",
          "Russia",
          "Brazil",
          "China",
          "France",
          "South Africa",
          "Italy",
          "Spain",
          "Saudi Arabia",
          "United Kingdom",
          "Canada",
          "United States"
         ],
         "y": [
          0.9300400110263217,
          1.3546587623239286,
          1.708063228975,
          2.0639486184446425,
          0.5655418052638929,
          5.158491009980715,
          2.6292331605917854,
          1.1544610506703215,
          1.4297017232703573,
          1.642015304673928,
          0.45613833846385715,
          0.8541789196591071,
          0.6579682671674284,
          1.7015269159732143,
          1.5605793458971426,
          2.0466428270357144
         ]
        }
       ],
       "layout": {
        "title": {
         "text": "Share of Population with Alcohol & Drug Disorder (%)"
        },
        "xaxis": {
         "tickfont": {
          "size": 9.5
         }
        },
        "yaxis": {
         "tickfont": {
          "size": 9.5
         }
        }
       }
      },
      "text/html": [
       "<div id=\"eb4ed808-0779-4f13-9ed1-75ef496ec9c1\" style=\"height: 525px; width: 100%;\" class=\"plotly-graph-div\"></div><script type=\"text/javascript\">require([\"plotly\"], function(Plotly) { window.PLOTLYENV=window.PLOTLYENV || {};window.PLOTLYENV.BASE_URL=\"https://plot.ly\";\n",
       "if (document.getElementById(\"eb4ed808-0779-4f13-9ed1-75ef496ec9c1\")) {\n",
       "    Plotly.newPlot(\"eb4ed808-0779-4f13-9ed1-75ef496ec9c1\", [{\"name\": \"Drug Disorder\", \"text\": [\"0.45%\", \"0.5%\", \"0.79%\", \"0.84%\", \"0.87%\", \"0.98%\", \"0.99%\", \"1.1%\", \"1.12%\", \"1.14%\", \"1.34%\", \"1.34%\", \"1.47%\", \"1.67%\", \"2.15%\", \"2.84%\"], \"textposition\": \"auto\", \"x\": [\"Nigeria\", \"India\", \"Mexico\", \"Germany\", \"Japan\", \"Russia\", \"Brazil\", \"China\", \"France\", \"South Africa\", \"Italy\", \"Spain\", \"Saudi Arabia\", \"United Kingdom\", \"Canada\", \"United States\"], \"y\": [0.44651398727107144, 0.49801811107207145, 0.7881723011112501, 0.83699932972175, 0.8658131030730715, 0.9788895461263571, 0.9921524718360001, 1.098707169179643, 1.118707800933857, 1.135423358025536, 1.3356358807410715, 1.3392776964303574, 1.4679526082032146, 1.6710280937892859, 2.1503215201774997, 2.844713366598572], \"type\": \"bar\", \"uid\": \"4282e683-3e3b-4c36-a9ce-9d0052acfe1c\"}, {\"name\": \"Alcohol Disorder\", \"text\": [\"0.93%\", \"1.35%\", \"1.71%\", \"2.06%\", \"0.57%\", \"5.16%\", \"2.63%\", \"1.15%\", \"1.43%\", \"1.64%\", \"0.46%\", \"0.85%\", \"0.66%\", \"1.7%\", \"1.56%\", \"2.05%\"], \"textposition\": \"auto\", \"x\": [\"Nigeria\", \"India\", \"Mexico\", \"Germany\", \"Japan\", \"Russia\", \"Brazil\", \"China\", \"France\", \"South Africa\", \"Italy\", \"Spain\", \"Saudi Arabia\", \"United Kingdom\", \"Canada\", \"United States\"], \"y\": [0.9300400110263217, 1.3546587623239286, 1.708063228975, 2.0639486184446425, 0.5655418052638929, 5.158491009980715, 2.6292331605917854, 1.1544610506703215, 1.4297017232703573, 1.642015304673928, 0.45613833846385715, 0.8541789196591071, 0.6579682671674284, 1.7015269159732143, 1.5605793458971426, 2.0466428270357144], \"type\": \"bar\", \"uid\": \"4f37fc9e-312a-4527-8c9c-96edc6470ff0\"}], {\"title\": {\"text\": \"Share of Population with Alcohol & Drug Disorder (%)\"}, \"xaxis\": {\"tickfont\": {\"size\": 9.5}}, \"yaxis\": {\"tickfont\": {\"size\": 9.5}}}, {\"showLink\": false, \"linkText\": \"Export to plot.ly\", \"plotlyServerURL\": \"https://plot.ly\"}); \n",
       "}\n",
       "});</script><script type=\"text/javascript\">window.addEventListener(\"resize\", function(){if (document.getElementById(\"eb4ed808-0779-4f13-9ed1-75ef496ec9c1\")) {window._Plotly.Plots.resize(document.getElementById(\"eb4ed808-0779-4f13-9ed1-75ef496ec9c1\"));};})</script>"
      ],
      "text/vnd.plotly.v1+html": [
       "<div id=\"eb4ed808-0779-4f13-9ed1-75ef496ec9c1\" style=\"height: 525px; width: 100%;\" class=\"plotly-graph-div\"></div><script type=\"text/javascript\">require([\"plotly\"], function(Plotly) { window.PLOTLYENV=window.PLOTLYENV || {};window.PLOTLYENV.BASE_URL=\"https://plot.ly\";\n",
       "if (document.getElementById(\"eb4ed808-0779-4f13-9ed1-75ef496ec9c1\")) {\n",
       "    Plotly.newPlot(\"eb4ed808-0779-4f13-9ed1-75ef496ec9c1\", [{\"name\": \"Drug Disorder\", \"text\": [\"0.45%\", \"0.5%\", \"0.79%\", \"0.84%\", \"0.87%\", \"0.98%\", \"0.99%\", \"1.1%\", \"1.12%\", \"1.14%\", \"1.34%\", \"1.34%\", \"1.47%\", \"1.67%\", \"2.15%\", \"2.84%\"], \"textposition\": \"auto\", \"x\": [\"Nigeria\", \"India\", \"Mexico\", \"Germany\", \"Japan\", \"Russia\", \"Brazil\", \"China\", \"France\", \"South Africa\", \"Italy\", \"Spain\", \"Saudi Arabia\", \"United Kingdom\", \"Canada\", \"United States\"], \"y\": [0.44651398727107144, 0.49801811107207145, 0.7881723011112501, 0.83699932972175, 0.8658131030730715, 0.9788895461263571, 0.9921524718360001, 1.098707169179643, 1.118707800933857, 1.135423358025536, 1.3356358807410715, 1.3392776964303574, 1.4679526082032146, 1.6710280937892859, 2.1503215201774997, 2.844713366598572], \"type\": \"bar\", \"uid\": \"4282e683-3e3b-4c36-a9ce-9d0052acfe1c\"}, {\"name\": \"Alcohol Disorder\", \"text\": [\"0.93%\", \"1.35%\", \"1.71%\", \"2.06%\", \"0.57%\", \"5.16%\", \"2.63%\", \"1.15%\", \"1.43%\", \"1.64%\", \"0.46%\", \"0.85%\", \"0.66%\", \"1.7%\", \"1.56%\", \"2.05%\"], \"textposition\": \"auto\", \"x\": [\"Nigeria\", \"India\", \"Mexico\", \"Germany\", \"Japan\", \"Russia\", \"Brazil\", \"China\", \"France\", \"South Africa\", \"Italy\", \"Spain\", \"Saudi Arabia\", \"United Kingdom\", \"Canada\", \"United States\"], \"y\": [0.9300400110263217, 1.3546587623239286, 1.708063228975, 2.0639486184446425, 0.5655418052638929, 5.158491009980715, 2.6292331605917854, 1.1544610506703215, 1.4297017232703573, 1.642015304673928, 0.45613833846385715, 0.8541789196591071, 0.6579682671674284, 1.7015269159732143, 1.5605793458971426, 2.0466428270357144], \"type\": \"bar\", \"uid\": \"4f37fc9e-312a-4527-8c9c-96edc6470ff0\"}], {\"title\": {\"text\": \"Share of Population with Alcohol & Drug Disorder (%)\"}, \"xaxis\": {\"tickfont\": {\"size\": 9.5}}, \"yaxis\": {\"tickfont\": {\"size\": 9.5}}}, {\"showLink\": false, \"linkText\": \"Export to plot.ly\", \"plotlyServerURL\": \"https://plot.ly\"}); \n",
       "}\n",
       "});</script><script type=\"text/javascript\">window.addEventListener(\"resize\", function(){if (document.getElementById(\"eb4ed808-0779-4f13-9ed1-75ef496ec9c1\")) {window._Plotly.Plots.resize(document.getElementById(\"eb4ed808-0779-4f13-9ed1-75ef496ec9c1\"));};})</script>"
      ]
     },
     "metadata": {},
     "output_type": "display_data"
    }
   ],
   "source": [
    "# plot barplot \n",
    "X_drug = drug_vs_alcohol_barplot.Entity.values\n",
    "Y_drug = drug_vs_alcohol_barplot['Share of population with drug use disorder (%)'].values\n",
    "text_drug = [str(y) + '%' for y in Y_drug.round(decimals=2)]\n",
    "\n",
    "X_alcohol = drug_vs_alcohol_barplot.Entity.values\n",
    "Y_alcohol = drug_vs_alcohol_barplot['Share of population with alcohol use disorder (%)'].values\n",
    "text_alcohol = [str(y) + '%' for y in Y_alcohol.round(decimals=2)]\n",
    "\n",
    "# plot data \n",
    "trace1 = go.Bar(\n",
    "            y=Y_drug,\n",
    "            x=X_drug,\n",
    "            text=text_drug,\n",
    "            textposition = 'auto',\n",
    "#             orientation='h',\n",
    "            name = 'Drug Disorder'\n",
    "    )\n",
    "\n",
    "trace2 = go.Bar(\n",
    "            y=Y_alcohol,\n",
    "            x=X_alcohol,\n",
    "            text=text_alcohol,\n",
    "            textposition = 'auto',\n",
    "#             orientation='h',\n",
    "            name = 'Alcohol Disorder'\n",
    "    )\n",
    "\n",
    "data = [trace1, trace2]\n",
    "\n",
    "\n",
    "# plot layout \n",
    "layout = dict(\n",
    "    title = go.layout.Title(\n",
    "                   text='Share of Population with Alcohol & Drug Disorder (%)'),\n",
    "    yaxis=dict(\n",
    "        tickfont=dict(size=9.5)),\n",
    "    xaxis=dict(\n",
    "        tickfont=dict(size=9.5))\n",
    ")\n",
    "\n",
    "# plot figure \n",
    "figure = dict(data=data, layout=layout)\n",
    "\n",
    "iplot(figure, filename='basic-bar')"
   ]
  },
  {
   "cell_type": "markdown",
   "metadata": {},
   "source": [
    "## Boxplot: Drug Use Disorder"
   ]
  },
  {
   "cell_type": "markdown",
   "metadata": {},
   "source": [
    "The following is a boxplot showing the distributions of drug use disorders of asian, european, african, american, and oceanic countries."
   ]
  },
  {
   "cell_type": "code",
   "execution_count": 14,
   "metadata": {
    "ExecuteTime": {
     "end_time": "2019-05-08T20:07:16.335281Z",
     "start_time": "2019-05-08T20:07:16.331065Z"
    }
   },
   "outputs": [],
   "source": [
    "import country_converter as coco"
   ]
  },
  {
   "cell_type": "code",
   "execution_count": 15,
   "metadata": {
    "ExecuteTime": {
     "end_time": "2019-05-08T20:07:16.745741Z",
     "start_time": "2019-05-08T20:07:16.734268Z"
    }
   },
   "outputs": [],
   "source": [
    "# Grab year and drop NA \n",
    "drug_vs_alcohol_dist = drug_vs_alcohol.dropna()\n",
    "drug_vs_alcohol_dist = drug_vs_alcohol_dist[drug_vs_alcohol_dist.Year == 2013]"
   ]
  },
  {
   "cell_type": "code",
   "execution_count": 16,
   "metadata": {
    "ExecuteTime": {
     "end_time": "2019-05-08T20:07:17.432175Z",
     "start_time": "2019-05-08T20:07:17.176290Z"
    }
   },
   "outputs": [],
   "source": [
    "# convert entities to continents \n",
    "cc = coco.CountryConverter()\n",
    "drug_vs_alcohol_dist['Continents'] = cc.convert(names = list(drug_vs_alcohol_dist.Entity.values), to = 'Continent')\n",
    "\n",
    "# rename continents \n",
    "continents_map = {'Asia':'Asian Countries', 'Europe':'European Countries',\n",
    "              'Africa':'African Countries', 'Oceania':'Oceaniac Countries', \n",
    "              'America':'American Countries'}\n",
    "drug_vs_alcohol_dist.Continents = drug_vs_alcohol_dist.Continents.apply(lambda x: continents_map[x])\n",
    "continents = list(continents_map.values())"
   ]
  },
  {
   "cell_type": "code",
   "execution_count": 17,
   "metadata": {
    "ExecuteTime": {
     "end_time": "2019-05-08T20:07:17.774796Z",
     "start_time": "2019-05-08T20:07:17.660318Z"
    }
   },
   "outputs": [
    {
     "data": {
      "application/vnd.plotly.v1+json": {
       "config": {
        "linkText": "Export to plot.ly",
        "plotlyServerURL": "https://plot.ly",
        "showLink": false
       },
       "data": [
        {
         "name": "European Countries",
         "type": "box",
         "uid": "aad86c2d-71bf-440e-8a57-f3edc5934275",
         "y": [
          0.508049102479,
          0.900575988374,
          0.9142869763060001,
          0.7860342372319999,
          0.8181491426390001,
          0.433727370202,
          0.6889867363140001,
          0.74864103742,
          0.921353660616,
          0.8635833889360001,
          1.13327801549,
          0.905663924399,
          1.21823587814,
          0.899359445803,
          0.53723047694,
          0.7243755903200001,
          0.6891682068230001,
          1.05555815808,
          1.28289227267,
          1.03049567603,
          0.589412526529,
          0.947686046434,
          0.485485529236,
          0.8734970081,
          0.6421810311989999,
          0.615683821651,
          0.941895852138,
          0.8720031790189999,
          0.8048330342560001,
          0.6775296758759999,
          0.45105677875,
          1.00396975503,
          0.4522265503140001,
          0.693418201233,
          0.911442504687,
          1.42611953112,
          0.647248926377,
          1.01138942928,
          0.68251225469,
          1.7260775296700002
         ]
        },
        {
         "name": "American Countries",
         "type": "box",
         "uid": "c7693434-c4c6-4a47-83ee-66912ad9ae30",
         "y": [
          0.7874797233930001,
          0.971257108345,
          0.8064836671369999,
          0.844062228541,
          0.829490073381,
          0.8603643167720001,
          0.907997568223,
          1.04511949042,
          2.19462036967,
          1.21501946176,
          1.11039868748,
          0.7641727677510001,
          0.7665438256910001,
          0.8923770045120001,
          0.6506513562490001,
          0.668269456307,
          0.593759569736,
          1.92133543178,
          0.7719350235469999,
          0.678452383873,
          0.714233441438,
          0.622700818532,
          0.6895837487900001,
          0.9530759925,
          0.7912680991419999,
          0.576708718026,
          0.715976806913,
          0.533490879001,
          0.588465811469,
          1.00670946933,
          0.908111792537,
          0.794768470225,
          0.685710112387,
          0.7249239004260001,
          3.11071187877,
          0.94604560275,
          0.6210573371970001
         ]
        },
        {
         "name": "Oceaniac Countries",
         "type": "box",
         "uid": "f1cbd1a4-2821-49b7-b859-3de4af94d978",
         "y": [
          0.7666452550839999,
          2.06883485183,
          0.7487019080589999,
          0.802913422714,
          0.714449882755,
          0.7693263334260001,
          2.03634430431,
          0.786407378567,
          0.727857332694,
          0.8598683193589999,
          0.688473772358,
          0.7559171779639999,
          0.6799849920809999
         ]
        },
        {
         "name": "Asian Countries",
         "type": "box",
         "uid": "53ca7545-ae14-4395-9559-2b81e5e984cc",
         "y": [
          2.57239567643,
          0.488025658751,
          0.475546619342,
          1.7201064056700002,
          0.504134553674,
          0.5264378930170001,
          0.892631620977,
          0.5581887464459999,
          1.0527179949199998,
          0.560957737047,
          0.474955770591,
          0.5093286477750001,
          0.575353062173,
          2.03856051787,
          1.7180228622500002,
          0.6926018647859999,
          0.8946209738290001,
          1.5739861072299999,
          0.645575621901,
          1.5924357320900002,
          0.538078791678,
          0.67015794624,
          2.13794459209,
          0.6573459946329999,
          0.6722056875619999,
          0.525421328182,
          0.568487338102,
          0.494305967451,
          0.903465741449,
          1.6873966312399997,
          0.6785463188779999,
          0.6357042152869999,
          1.96338295421,
          1.6439380629700002,
          0.90987040424,
          0.899803000004,
          0.664112257415,
          1.4794186799899998,
          0.894505250583,
          0.4617357550919999,
          0.795456799834,
          1.50378211265,
          0.514995614173,
          3.0352449839999998,
          0.47364107198100003,
          0.6735793799090001
         ]
        },
        {
         "name": "African Countries",
         "type": "box",
         "uid": "21c45543-9e1a-4664-b125-febd72141786",
         "y": [
          1.69661309619,
          0.5076109450399999,
          0.494930752177,
          0.741731075397,
          0.429224786371,
          0.49383731456600005,
          0.578880289516,
          0.6176205796509999,
          0.51102444209,
          0.444521178825,
          0.496100833225,
          0.5557464375160001,
          0.503412765115,
          0.500259405492,
          0.516449894347,
          1.43628725729,
          0.542831699683,
          0.520481598457,
          0.487267652263,
          0.570604038374,
          0.48519087774999997,
          0.607083168489,
          0.4402384915350001,
          0.46946408791999994,
          0.47967139914,
          0.7645956054409999,
          0.5073813878719999,
          2.54636629829,
          0.492535101788,
          0.50125469274,
          0.433597256637,
          0.490321892135,
          0.706219948304,
          1.6011024430999998,
          0.517469348443,
          0.768438792485,
          0.451827413433,
          0.452775192779,
          0.5966261879270001,
          0.477702616324,
          0.467184256572,
          0.7828143663220001,
          0.48222583909999994,
          0.491196719817,
          0.997568222324,
          0.4971068972300001,
          1.36835399558,
          0.797438924061,
          0.51046882607,
          0.470095931165,
          1.66584488532,
          0.536157267372,
          0.4998000606490001,
          0.7662801635350001
         ]
        }
       ],
       "layout": {
        "margin": {
         "b": 160,
         "pad": 4
        },
        "showlegend": false,
        "title": {
         "text": "Distribution of Drug Use Disorders in 2013"
        },
        "yaxis": {
         "title": {
          "text": "Percent of Drug Use Disorder "
         }
        }
       }
      },
      "text/html": [
       "<div id=\"33bb5bed-862a-4cd7-a7d3-a5adda897dd5\" style=\"height: 525px; width: 100%;\" class=\"plotly-graph-div\"></div><script type=\"text/javascript\">require([\"plotly\"], function(Plotly) { window.PLOTLYENV=window.PLOTLYENV || {};window.PLOTLYENV.BASE_URL=\"https://plot.ly\";\n",
       "if (document.getElementById(\"33bb5bed-862a-4cd7-a7d3-a5adda897dd5\")) {\n",
       "    Plotly.newPlot(\"33bb5bed-862a-4cd7-a7d3-a5adda897dd5\", [{\"name\": \"European Countries\", \"y\": [0.508049102479, 0.900575988374, 0.9142869763060001, 0.7860342372319999, 0.8181491426390001, 0.433727370202, 0.6889867363140001, 0.74864103742, 0.921353660616, 0.8635833889360001, 1.13327801549, 0.905663924399, 1.21823587814, 0.899359445803, 0.53723047694, 0.7243755903200001, 0.6891682068230001, 1.05555815808, 1.28289227267, 1.03049567603, 0.589412526529, 0.947686046434, 0.485485529236, 0.8734970081, 0.6421810311989999, 0.615683821651, 0.941895852138, 0.8720031790189999, 0.8048330342560001, 0.6775296758759999, 0.45105677875, 1.00396975503, 0.4522265503140001, 0.693418201233, 0.911442504687, 1.42611953112, 0.647248926377, 1.01138942928, 0.68251225469, 1.7260775296700002], \"type\": \"box\", \"uid\": \"aad86c2d-71bf-440e-8a57-f3edc5934275\"}, {\"name\": \"American Countries\", \"y\": [0.7874797233930001, 0.971257108345, 0.8064836671369999, 0.844062228541, 0.829490073381, 0.8603643167720001, 0.907997568223, 1.04511949042, 2.19462036967, 1.21501946176, 1.11039868748, 0.7641727677510001, 0.7665438256910001, 0.8923770045120001, 0.6506513562490001, 0.668269456307, 0.593759569736, 1.92133543178, 0.7719350235469999, 0.678452383873, 0.714233441438, 0.622700818532, 0.6895837487900001, 0.9530759925, 0.7912680991419999, 0.576708718026, 0.715976806913, 0.533490879001, 0.588465811469, 1.00670946933, 0.908111792537, 0.794768470225, 0.685710112387, 0.7249239004260001, 3.11071187877, 0.94604560275, 0.6210573371970001], \"type\": \"box\", \"uid\": \"c7693434-c4c6-4a47-83ee-66912ad9ae30\"}, {\"name\": \"Oceaniac Countries\", \"y\": [0.7666452550839999, 2.06883485183, 0.7487019080589999, 0.802913422714, 0.714449882755, 0.7693263334260001, 2.03634430431, 0.786407378567, 0.727857332694, 0.8598683193589999, 0.688473772358, 0.7559171779639999, 0.6799849920809999], \"type\": \"box\", \"uid\": \"f1cbd1a4-2821-49b7-b859-3de4af94d978\"}, {\"name\": \"Asian Countries\", \"y\": [2.57239567643, 0.488025658751, 0.475546619342, 1.7201064056700002, 0.504134553674, 0.5264378930170001, 0.892631620977, 0.5581887464459999, 1.0527179949199998, 0.560957737047, 0.474955770591, 0.5093286477750001, 0.575353062173, 2.03856051787, 1.7180228622500002, 0.6926018647859999, 0.8946209738290001, 1.5739861072299999, 0.645575621901, 1.5924357320900002, 0.538078791678, 0.67015794624, 2.13794459209, 0.6573459946329999, 0.6722056875619999, 0.525421328182, 0.568487338102, 0.494305967451, 0.903465741449, 1.6873966312399997, 0.6785463188779999, 0.6357042152869999, 1.96338295421, 1.6439380629700002, 0.90987040424, 0.899803000004, 0.664112257415, 1.4794186799899998, 0.894505250583, 0.4617357550919999, 0.795456799834, 1.50378211265, 0.514995614173, 3.0352449839999998, 0.47364107198100003, 0.6735793799090001], \"type\": \"box\", \"uid\": \"53ca7545-ae14-4395-9559-2b81e5e984cc\"}, {\"name\": \"African Countries\", \"y\": [1.69661309619, 0.5076109450399999, 0.494930752177, 0.741731075397, 0.429224786371, 0.49383731456600005, 0.578880289516, 0.6176205796509999, 0.51102444209, 0.444521178825, 0.496100833225, 0.5557464375160001, 0.503412765115, 0.500259405492, 0.516449894347, 1.43628725729, 0.542831699683, 0.520481598457, 0.487267652263, 0.570604038374, 0.48519087774999997, 0.607083168489, 0.4402384915350001, 0.46946408791999994, 0.47967139914, 0.7645956054409999, 0.5073813878719999, 2.54636629829, 0.492535101788, 0.50125469274, 0.433597256637, 0.490321892135, 0.706219948304, 1.6011024430999998, 0.517469348443, 0.768438792485, 0.451827413433, 0.452775192779, 0.5966261879270001, 0.477702616324, 0.467184256572, 0.7828143663220001, 0.48222583909999994, 0.491196719817, 0.997568222324, 0.4971068972300001, 1.36835399558, 0.797438924061, 0.51046882607, 0.470095931165, 1.66584488532, 0.536157267372, 0.4998000606490001, 0.7662801635350001], \"type\": \"box\", \"uid\": \"21c45543-9e1a-4664-b125-febd72141786\"}], {\"margin\": {\"b\": 160, \"pad\": 4}, \"showlegend\": false, \"title\": {\"text\": \"Distribution of Drug Use Disorders in 2013\"}, \"yaxis\": {\"title\": {\"text\": \"Percent of Drug Use Disorder \"}}}, {\"showLink\": false, \"linkText\": \"Export to plot.ly\", \"plotlyServerURL\": \"https://plot.ly\"}); \n",
       "}\n",
       "});</script><script type=\"text/javascript\">window.addEventListener(\"resize\", function(){if (document.getElementById(\"33bb5bed-862a-4cd7-a7d3-a5adda897dd5\")) {window._Plotly.Plots.resize(document.getElementById(\"33bb5bed-862a-4cd7-a7d3-a5adda897dd5\"));};})</script>"
      ],
      "text/vnd.plotly.v1+html": [
       "<div id=\"33bb5bed-862a-4cd7-a7d3-a5adda897dd5\" style=\"height: 525px; width: 100%;\" class=\"plotly-graph-div\"></div><script type=\"text/javascript\">require([\"plotly\"], function(Plotly) { window.PLOTLYENV=window.PLOTLYENV || {};window.PLOTLYENV.BASE_URL=\"https://plot.ly\";\n",
       "if (document.getElementById(\"33bb5bed-862a-4cd7-a7d3-a5adda897dd5\")) {\n",
       "    Plotly.newPlot(\"33bb5bed-862a-4cd7-a7d3-a5adda897dd5\", [{\"name\": \"European Countries\", \"y\": [0.508049102479, 0.900575988374, 0.9142869763060001, 0.7860342372319999, 0.8181491426390001, 0.433727370202, 0.6889867363140001, 0.74864103742, 0.921353660616, 0.8635833889360001, 1.13327801549, 0.905663924399, 1.21823587814, 0.899359445803, 0.53723047694, 0.7243755903200001, 0.6891682068230001, 1.05555815808, 1.28289227267, 1.03049567603, 0.589412526529, 0.947686046434, 0.485485529236, 0.8734970081, 0.6421810311989999, 0.615683821651, 0.941895852138, 0.8720031790189999, 0.8048330342560001, 0.6775296758759999, 0.45105677875, 1.00396975503, 0.4522265503140001, 0.693418201233, 0.911442504687, 1.42611953112, 0.647248926377, 1.01138942928, 0.68251225469, 1.7260775296700002], \"type\": \"box\", \"uid\": \"aad86c2d-71bf-440e-8a57-f3edc5934275\"}, {\"name\": \"American Countries\", \"y\": [0.7874797233930001, 0.971257108345, 0.8064836671369999, 0.844062228541, 0.829490073381, 0.8603643167720001, 0.907997568223, 1.04511949042, 2.19462036967, 1.21501946176, 1.11039868748, 0.7641727677510001, 0.7665438256910001, 0.8923770045120001, 0.6506513562490001, 0.668269456307, 0.593759569736, 1.92133543178, 0.7719350235469999, 0.678452383873, 0.714233441438, 0.622700818532, 0.6895837487900001, 0.9530759925, 0.7912680991419999, 0.576708718026, 0.715976806913, 0.533490879001, 0.588465811469, 1.00670946933, 0.908111792537, 0.794768470225, 0.685710112387, 0.7249239004260001, 3.11071187877, 0.94604560275, 0.6210573371970001], \"type\": \"box\", \"uid\": \"c7693434-c4c6-4a47-83ee-66912ad9ae30\"}, {\"name\": \"Oceaniac Countries\", \"y\": [0.7666452550839999, 2.06883485183, 0.7487019080589999, 0.802913422714, 0.714449882755, 0.7693263334260001, 2.03634430431, 0.786407378567, 0.727857332694, 0.8598683193589999, 0.688473772358, 0.7559171779639999, 0.6799849920809999], \"type\": \"box\", \"uid\": \"f1cbd1a4-2821-49b7-b859-3de4af94d978\"}, {\"name\": \"Asian Countries\", \"y\": [2.57239567643, 0.488025658751, 0.475546619342, 1.7201064056700002, 0.504134553674, 0.5264378930170001, 0.892631620977, 0.5581887464459999, 1.0527179949199998, 0.560957737047, 0.474955770591, 0.5093286477750001, 0.575353062173, 2.03856051787, 1.7180228622500002, 0.6926018647859999, 0.8946209738290001, 1.5739861072299999, 0.645575621901, 1.5924357320900002, 0.538078791678, 0.67015794624, 2.13794459209, 0.6573459946329999, 0.6722056875619999, 0.525421328182, 0.568487338102, 0.494305967451, 0.903465741449, 1.6873966312399997, 0.6785463188779999, 0.6357042152869999, 1.96338295421, 1.6439380629700002, 0.90987040424, 0.899803000004, 0.664112257415, 1.4794186799899998, 0.894505250583, 0.4617357550919999, 0.795456799834, 1.50378211265, 0.514995614173, 3.0352449839999998, 0.47364107198100003, 0.6735793799090001], \"type\": \"box\", \"uid\": \"53ca7545-ae14-4395-9559-2b81e5e984cc\"}, {\"name\": \"African Countries\", \"y\": [1.69661309619, 0.5076109450399999, 0.494930752177, 0.741731075397, 0.429224786371, 0.49383731456600005, 0.578880289516, 0.6176205796509999, 0.51102444209, 0.444521178825, 0.496100833225, 0.5557464375160001, 0.503412765115, 0.500259405492, 0.516449894347, 1.43628725729, 0.542831699683, 0.520481598457, 0.487267652263, 0.570604038374, 0.48519087774999997, 0.607083168489, 0.4402384915350001, 0.46946408791999994, 0.47967139914, 0.7645956054409999, 0.5073813878719999, 2.54636629829, 0.492535101788, 0.50125469274, 0.433597256637, 0.490321892135, 0.706219948304, 1.6011024430999998, 0.517469348443, 0.768438792485, 0.451827413433, 0.452775192779, 0.5966261879270001, 0.477702616324, 0.467184256572, 0.7828143663220001, 0.48222583909999994, 0.491196719817, 0.997568222324, 0.4971068972300001, 1.36835399558, 0.797438924061, 0.51046882607, 0.470095931165, 1.66584488532, 0.536157267372, 0.4998000606490001, 0.7662801635350001], \"type\": \"box\", \"uid\": \"21c45543-9e1a-4664-b125-febd72141786\"}], {\"margin\": {\"b\": 160, \"pad\": 4}, \"showlegend\": false, \"title\": {\"text\": \"Distribution of Drug Use Disorders in 2013\"}, \"yaxis\": {\"title\": {\"text\": \"Percent of Drug Use Disorder \"}}}, {\"showLink\": false, \"linkText\": \"Export to plot.ly\", \"plotlyServerURL\": \"https://plot.ly\"}); \n",
       "}\n",
       "});</script><script type=\"text/javascript\">window.addEventListener(\"resize\", function(){if (document.getElementById(\"33bb5bed-862a-4cd7-a7d3-a5adda897dd5\")) {window._Plotly.Plots.resize(document.getElementById(\"33bb5bed-862a-4cd7-a7d3-a5adda897dd5\"));};})</script>"
      ]
     },
     "metadata": {},
     "output_type": "display_data"
    }
   ],
   "source": [
    "# sort by medians \n",
    "medians = []\n",
    "\n",
    "for i in range(len(continents)):\n",
    "    medians.append(drug_vs_alcohol_dist[drug_vs_alcohol_dist.Continents==continents[i]]\n",
    "                   ['Share of population with drug use disorder (%)'].median())\n",
    "    \n",
    "misc_data = list(zip(medians,continents))\n",
    "misc_data.sort(key=lambda x: x[0], reverse=True)\n",
    "\n",
    "# create traces \n",
    "traces = [] \n",
    "\n",
    "for i in range(len(misc_data)):\n",
    "    traces.append(go.Box(y=drug_vs_alcohol_dist[drug_vs_alcohol_dist.Continents==misc_data[i][1]]\n",
    "                         ['Share of population with drug use disorder (%)'],\n",
    "                         name=misc_data[i][1]))\n",
    "\n",
    "# plot box plots \n",
    "layout = go.Layout(\n",
    "    showlegend=False,\n",
    "    margin=go.layout.Margin(\n",
    "        b=160,\n",
    "        pad=4\n",
    "    ),\n",
    "    title=go.layout.Title(\n",
    "        text='Distribution of Drug Use Disorders in 2013'),\n",
    "    yaxis=dict(\n",
    "        title='Percent of Drug Use Disorder ')\n",
    ")\n",
    "\n",
    "fig = go.Figure(data=traces, layout=layout)\n",
    "iplot(fig)       "
   ]
  },
  {
   "cell_type": "markdown",
   "metadata": {},
   "source": [
    "## Scatterplot: "
   ]
  },
  {
   "cell_type": "code",
   "execution_count": null,
   "metadata": {},
   "outputs": [],
   "source": []
  },
  {
   "cell_type": "markdown",
   "metadata": {},
   "source": [
    "## Bubble Map:"
   ]
  },
  {
   "cell_type": "code",
   "execution_count": null,
   "metadata": {},
   "outputs": [],
   "source": []
  },
  {
   "cell_type": "markdown",
   "metadata": {},
   "source": [
    "## Chloropleth Map:"
   ]
  },
  {
   "cell_type": "code",
   "execution_count": null,
   "metadata": {},
   "outputs": [],
   "source": []
  },
  {
   "cell_type": "markdown",
   "metadata": {},
   "source": [
    "## Connection Map:"
   ]
  },
  {
   "cell_type": "code",
   "execution_count": null,
   "metadata": {},
   "outputs": [],
   "source": []
  },
  {
   "cell_type": "markdown",
   "metadata": {},
   "source": [
    "## Heatmap: Drug Use by Age "
   ]
  },
  {
   "cell_type": "markdown",
   "metadata": {},
   "source": [
    "The following is a heat map of drug use by age groups for 20 different countries between 1990 and 2017. The following age groups were considered: \n",
    "* 15-19\n",
    "* 20-24\n",
    "* 25-29\n",
    "* 30-34"
   ]
  },
  {
   "cell_type": "code",
   "execution_count": 18,
   "metadata": {
    "ExecuteTime": {
     "end_time": "2019-05-08T20:07:20.866110Z",
     "start_time": "2019-05-08T20:07:20.851125Z"
    }
   },
   "outputs": [],
   "source": [
    "# Let's just look at the top 20 countries by GDP\n",
    "top_20_gdp = ['Brazil', 'Canada', 'China', 'France', 'Germany',\n",
    "              'India', 'Italy', 'Japan', 'Mexico', 'Nigeria', 'Russia',\n",
    "              'Saudi Arabia', 'South Africa', 'Spain', 'United Kingdom',\n",
    "              'United States']\n",
    "drug_by_age_heatmap = drug_by_age[drug_by_age.Entity.isin(top_20_gdp)]\n",
    "drug_by_age_heatmap = drug_by_age_heatmap.groupby(by=['Entity','Year'], as_index=False).mean()\n",
    "drug_by_age_heatmap.rename(columns={\n",
    "    col: col.replace(' years old (%)', '') for col in list(drug_by_age_heatmap.columns[2:-1])},\n",
    "    inplace=True)\n",
    "drug_by_age_heatmap.Entity = drug_by_age_heatmap.\\\n",
    "    Entity.apply(lambda x: 'U.S.' if x == 'United States' else x)\n",
    "drug_by_age_heatmap.Entity = drug_by_age_heatmap.\\\n",
    "    Entity.apply(lambda x: 'U.K.' if x == 'United Kingdom' else x)"
   ]
  },
  {
   "cell_type": "code",
   "execution_count": 19,
   "metadata": {
    "ExecuteTime": {
     "end_time": "2019-05-08T20:07:21.445128Z",
     "start_time": "2019-05-08T20:07:21.435673Z"
    }
   },
   "outputs": [],
   "source": [
    "# grab age_buckets, continents, and years for the heat map axis \n",
    "age_buckets = list(drug_by_age_heatmap.columns[2:-1])\n",
    "age_buckets.sort()\n",
    "age_buckets = age_buckets[1:2] + age_buckets[3:6]\n",
    "age_buckets_labels = [bucket.replace(' years old (%)', '') for bucket in age_buckets]\n",
    "years = list(drug_by_age_heatmap.Year.unique())\n",
    "countries = list(drug_by_age_heatmap.Entity.unique())\n",
    "countries.sort()\n",
    "\n",
    "# create colorscale \n",
    "bins = 4\n",
    "# cl_interp = cl.interp(cl.scales['5']['seq']['BuPu'], bins)\n",
    "cl_interp = cl.scales['4']['div']['RdYlBu'][::-1]\n",
    "x = np.linspace(0,1,bins)\n",
    "bupu = [[x[i], cl_interp[i]] for i in range(bins)]\n",
    "\n",
    "# min, max for constant color scale\n",
    "min_percent = np.min(drug_by_age_heatmap[age_buckets].values)\n",
    "max_percent = np.max(drug_by_age_heatmap[age_buckets].values)"
   ]
  },
  {
   "cell_type": "code",
   "execution_count": 20,
   "metadata": {
    "ExecuteTime": {
     "end_time": "2019-05-08T20:07:22.040584Z",
     "start_time": "2019-05-08T20:07:21.902166Z"
    }
   },
   "outputs": [],
   "source": [
    "# create list of data by year\n",
    "traces = []\n",
    "\n",
    "for year in years:\n",
    "    traces.append(go.Heatmap(z=drug_by_age_heatmap[drug_by_age_heatmap.Year == year][age_buckets].values,\n",
    "                             x=age_buckets, y=countries, colorscale=bupu, visible=False, name=str(year),\n",
    "                             zmin=min_percent, zmax=max_percent, colorbar=dict(title='Drug Use (%)'),\n",
    "                             dx=1))\n",
    "traces[0]['visible'] = True"
   ]
  },
  {
   "cell_type": "code",
   "execution_count": 21,
   "metadata": {
    "ExecuteTime": {
     "end_time": "2019-05-08T20:07:22.495600Z",
     "start_time": "2019-05-08T20:07:22.491545Z"
    }
   },
   "outputs": [],
   "source": [
    "# create steps \n",
    "steps = []\n",
    "for i in range(len(traces)):\n",
    "    step = dict(\n",
    "        args = ['visible', [False] * len(traces)],\n",
    "        label = str(years[i])\n",
    "    )\n",
    "    step['args'][1][i] = True # Toggle i'th trace to \"visible\"\n",
    "    steps.append(step)"
   ]
  },
  {
   "cell_type": "code",
   "execution_count": 22,
   "metadata": {
    "ExecuteTime": {
     "end_time": "2019-05-08T20:07:23.614459Z",
     "start_time": "2019-05-08T20:07:23.611392Z"
    }
   },
   "outputs": [],
   "source": [
    "# create sliders \n",
    "sliders = [dict(\n",
    "    active = 0,\n",
    "    currentvalue = {\"prefix\": \"Year: \"},\n",
    "    pad = {\"t\": 25},\n",
    "    steps = steps\n",
    ")]"
   ]
  },
  {
   "cell_type": "code",
   "execution_count": 23,
   "metadata": {
    "ExecuteTime": {
     "end_time": "2019-05-08T20:07:24.644460Z",
     "start_time": "2019-05-08T20:07:24.371624Z"
    },
    "scrolled": false
   },
   "outputs": [
    {
     "data": {
      "application/vnd.plotly.v1+json": {
       "config": {
        "linkText": "Export to plot.ly",
        "plotlyServerURL": "https://plot.ly",
        "showLink": false
       },
       "data": [
        {
         "colorbar": {
          "title": {
           "text": "Drug Use (%)"
          }
         },
         "colorscale": [
          [
           0,
           "rgb(44,123,182)"
          ],
          [
           0.3333333333333333,
           "rgb(171,217,233)"
          ],
          [
           0.6666666666666666,
           "rgb(253,174,97)"
          ],
          [
           1,
           "rgb(215,25,28)"
          ]
         ],
         "dx": 1,
         "name": "1990",
         "type": "heatmap",
         "uid": "3f5bdce9-3310-488b-9232-3a5d7674aa3a",
         "visible": true,
         "x": [
          "15-19",
          "20-24",
          "25-29",
          "30-34"
         ],
         "y": [
          "Brazil",
          "Canada",
          "China",
          "France",
          "Germany",
          "India",
          "Italy",
          "Japan",
          "Mexico",
          "Nigeria",
          "Russia",
          "Saudi Arabia",
          "South Africa",
          "Spain",
          "U.K.",
          "U.S."
         ],
         "z": [
          [
           1.6633605892399999,
           2.2978419034,
           2.09982288413,
           1.6382403631299998
          ],
          [
           4.81463031055,
           4.74208148322,
           3.51161279227,
           2.50894924383
          ],
          [
           1.65172804557,
           3.0641978265499996,
           3.06689662769,
           2.2874401185099997
          ],
          [
           2.64245556414,
           2.57434546373,
           2.13294615803,
           1.6106765049899998
          ],
          [
           1.9490555321599998,
           1.9578386114200002,
           1.62050147308,
           1.2286484897
          ],
          [
           0.456663990744,
           1.05931661813,
           1.22250042836,
           1.0372360115
          ],
          [
           3.11030695207,
           3.2631325594800002,
           2.7027772221599995,
           2.0372354263099997
          ],
          [
           1.88306876875,
           2.24913343432,
           1.86148974968,
           1.35495733921
          ],
          [
           1.30104364611,
           1.88768897519,
           1.74182768348,
           1.32856415737
          ],
          [
           0.325727350016,
           1.0307749342299999,
           1.19599213267,
           0.9180517020360001
          ],
          [
           1.57072588561,
           2.26947895515,
           2.10259262427,
           1.5937998006099998
          ],
          [
           0.892179734943,
           2.67909821744,
           3.4609362641300003,
           3.0705232295099996
          ],
          [
           1.5828893394999999,
           2.96310908162,
           3.27643411186,
           2.6884652603799997
          ],
          [
           3.03070066852,
           3.0688772857999997,
           2.46458715874,
           1.79458994322
          ],
          [
           3.94787987515,
           3.7604055097099995,
           2.8134561423199997,
           2.10305017329
          ],
          [
           5.25457371961,
           6.10912680489,
           4.96662168808,
           3.6551757648300005
          ]
         ],
         "zmax": 8.56955510337,
         "zmin": 0.325727350016
        },
        {
         "colorbar": {
          "title": {
           "text": "Drug Use (%)"
          }
         },
         "colorscale": [
          [
           0,
           "rgb(44,123,182)"
          ],
          [
           0.3333333333333333,
           "rgb(171,217,233)"
          ],
          [
           0.6666666666666666,
           "rgb(253,174,97)"
          ],
          [
           1,
           "rgb(215,25,28)"
          ]
         ],
         "dx": 1,
         "name": "1991",
         "type": "heatmap",
         "uid": "9ac75421-e3ab-4050-b0fe-defca80811f8",
         "visible": false,
         "x": [
          "15-19",
          "20-24",
          "25-29",
          "30-34"
         ],
         "y": [
          "Brazil",
          "Canada",
          "China",
          "France",
          "Germany",
          "India",
          "Italy",
          "Japan",
          "Mexico",
          "Nigeria",
          "Russia",
          "Saudi Arabia",
          "South Africa",
          "Spain",
          "U.K.",
          "U.S."
         ],
         "z": [
          [
           1.67329844455,
           2.30859923545,
           2.10158895318,
           1.6400366063499998
          ],
          [
           4.856538196340002,
           4.7685904934800005,
           3.5220844306699997,
           2.5201247811200003
          ],
          [
           1.65386518468,
           3.08352371773,
           3.0942123485,
           2.3015187236099997
          ],
          [
           2.56774856441,
           2.5018081705400004,
           2.09197295064,
           1.58548801831
          ],
          [
           1.94487840982,
           1.9332718858000002,
           1.59371899067,
           1.21242412161
          ],
          [
           0.435687610859,
           1.04293887269,
           1.21242692327,
           1.0289859530399998
          ],
          [
           3.11008714599,
           3.27054834906,
           2.71496270334,
           2.04338536901
          ],
          [
           1.8841520981200002,
           2.24492530995,
           1.85575700747,
           1.35220153461
          ],
          [
           1.2944520274200002,
           1.88831241187,
           1.74444000574,
           1.33140971185
          ],
          [
           0.33206532681400003,
           1.04496350597,
           1.21217083652,
           0.924260411172
          ],
          [
           1.58538941683,
           2.3103479244400003,
           2.1395073858,
           1.6159595906899995
          ],
          [
           0.898275837406,
           2.69004730196,
           3.47654512312,
           3.09232821108
          ],
          [
           1.63670792563,
           3.0499953177499997,
           3.3512263998600003,
           2.7276178002599996
          ],
          [
           3.0358227770200004,
           3.03728387898,
           2.4595672895900003,
           1.79777507319
          ],
          [
           3.9957123608,
           3.84203175279,
           2.89620878755,
           2.16279321522
          ],
          [
           5.403151801569999,
           6.06425195982,
           4.79390337824,
           3.5124678831000002
          ]
         ],
         "zmax": 8.56955510337,
         "zmin": 0.325727350016
        },
        {
         "colorbar": {
          "title": {
           "text": "Drug Use (%)"
          }
         },
         "colorscale": [
          [
           0,
           "rgb(44,123,182)"
          ],
          [
           0.3333333333333333,
           "rgb(171,217,233)"
          ],
          [
           0.6666666666666666,
           "rgb(253,174,97)"
          ],
          [
           1,
           "rgb(215,25,28)"
          ]
         ],
         "dx": 1,
         "name": "1992",
         "type": "heatmap",
         "uid": "0dbf9ab1-5118-4098-8205-54765d971613",
         "visible": false,
         "x": [
          "15-19",
          "20-24",
          "25-29",
          "30-34"
         ],
         "y": [
          "Brazil",
          "Canada",
          "China",
          "France",
          "Germany",
          "India",
          "Italy",
          "Japan",
          "Mexico",
          "Nigeria",
          "Russia",
          "Saudi Arabia",
          "South Africa",
          "Spain",
          "U.K.",
          "U.S."
         ],
         "z": [
          [
           1.6831343931000002,
           2.31596963051,
           2.10674199226,
           1.6403185756299998
          ],
          [
           4.94227824458,
           4.816009396459999,
           3.5482613250000004,
           2.53415736002
          ],
          [
           1.6555787100100001,
           3.0967904979900003,
           3.11258285941,
           2.31327645209
          ],
          [
           2.49774492927,
           2.4382554534,
           2.05713663785,
           1.57132543859
          ],
          [
           1.94877454502,
           1.9158628104099997,
           1.57704374731,
           1.1983392497799998
          ],
          [
           0.4233473049630001,
           1.03282995508,
           1.20625850775,
           1.02412808037
          ],
          [
           3.12090844343,
           3.2790670656700005,
           2.72585248734,
           2.05197181598
          ],
          [
           1.8854964655500002,
           2.24104830261,
           1.84961603413,
           1.3485557164200002
          ],
          [
           1.29001963874,
           1.8880081278099998,
           1.7479415306,
           1.3351335150399999
          ],
          [
           0.330378089184,
           1.05636354886,
           1.2312956937700001,
           0.934636581422
          ],
          [
           1.60030435176,
           2.3517192520599997,
           2.17885433788,
           1.6391062397899998
          ],
          [
           0.8973715917920001,
           2.70299439022,
           3.48638811885,
           3.10359454782
          ],
          [
           1.6836038095299999,
           3.1261013216299998,
           3.4123149487199997,
           2.7626137125200003
          ],
          [
           3.0568136966500004,
           3.0107241540400005,
           2.46120038091,
           1.8098422258200002
          ],
          [
           4.046342355159999,
           3.919296626830001,
           2.9738086024699997,
           2.21829686074
          ],
          [
           5.58262154602,
           6.0509265051100005,
           4.668558106590001,
           3.41003027166
          ]
         ],
         "zmax": 8.56955510337,
         "zmin": 0.325727350016
        },
        {
         "colorbar": {
          "title": {
           "text": "Drug Use (%)"
          }
         },
         "colorscale": [
          [
           0,
           "rgb(44,123,182)"
          ],
          [
           0.3333333333333333,
           "rgb(171,217,233)"
          ],
          [
           0.6666666666666666,
           "rgb(253,174,97)"
          ],
          [
           1,
           "rgb(215,25,28)"
          ]
         ],
         "dx": 1,
         "name": "1993",
         "type": "heatmap",
         "uid": "11434827-2d9e-4246-a77a-0eb89b535c93",
         "visible": false,
         "x": [
          "15-19",
          "20-24",
          "25-29",
          "30-34"
         ],
         "y": [
          "Brazil",
          "Canada",
          "China",
          "France",
          "Germany",
          "India",
          "Italy",
          "Japan",
          "Mexico",
          "Nigeria",
          "Russia",
          "Saudi Arabia",
          "South Africa",
          "Spain",
          "U.K.",
          "U.S."
         ],
         "z": [
          [
           1.6891689122500002,
           2.3234967661700003,
           2.1072220765700003,
           1.64014426413
          ],
          [
           5.04804681245,
           4.886650825,
           3.58091156697,
           2.55777152319
          ],
          [
           1.6540241528100001,
           3.1060041821900004,
           3.12472018682,
           2.32231961221
          ],
          [
           2.4615479471599997,
           2.38561086737,
           2.02986173189,
           1.55859661118
          ],
          [
           1.96188522688,
           1.9034741073,
           1.56408954128,
           1.1885048159
          ],
          [
           0.416580280285,
           1.02637972927,
           1.20233353787,
           1.02091820911
          ],
          [
           3.15190985768,
           3.2965029394500003,
           2.7379708575,
           2.05995789768
          ],
          [
           1.8868768340900002,
           2.2396857835599997,
           1.84505591721,
           1.34628500568
          ],
          [
           1.2856608151,
           1.88612696922,
           1.7500897817200003,
           1.33707064963
          ],
          [
           0.33191308265,
           1.0668443299,
           1.2425165768700002,
           0.9420912088339999
          ],
          [
           1.61661581856,
           2.39247894328,
           2.22003328352,
           1.6647044999999998
          ],
          [
           0.8990115251440001,
           2.71211798638,
           3.4958457913300003,
           3.1214495561799995
          ],
          [
           1.71783543068,
           3.1840074022900002,
           3.4630539084099996,
           2.78754655306
          ],
          [
           3.0663749321499996,
           3.0033236178099996,
           2.4660461217400003,
           1.8232246026599996
          ],
          [
           4.09660929941,
           3.98716154991,
           3.03963513268,
           2.26650231727
          ],
          [
           5.78510888546,
           6.0640623382399985,
           4.58765291009,
           3.3415071402999996
          ]
         ],
         "zmax": 8.56955510337,
         "zmin": 0.325727350016
        },
        {
         "colorbar": {
          "title": {
           "text": "Drug Use (%)"
          }
         },
         "colorscale": [
          [
           0,
           "rgb(44,123,182)"
          ],
          [
           0.3333333333333333,
           "rgb(171,217,233)"
          ],
          [
           0.6666666666666666,
           "rgb(253,174,97)"
          ],
          [
           1,
           "rgb(215,25,28)"
          ]
         ],
         "dx": 1,
         "name": "1994",
         "type": "heatmap",
         "uid": "a97d30d5-e7fb-4453-907d-1c900ce095ac",
         "visible": false,
         "x": [
          "15-19",
          "20-24",
          "25-29",
          "30-34"
         ],
         "y": [
          "Brazil",
          "Canada",
          "China",
          "France",
          "Germany",
          "India",
          "Italy",
          "Japan",
          "Mexico",
          "Nigeria",
          "Russia",
          "Saudi Arabia",
          "South Africa",
          "Spain",
          "U.K.",
          "U.S."
         ],
         "z": [
          [
           1.6943877930000002,
           2.3254909066900002,
           2.10710187459,
           1.6399375123299997
          ],
          [
           5.17687311335,
           4.9569814626,
           3.62961438781,
           2.5845266817400003
          ],
          [
           1.6522244375,
           3.11037752059,
           3.1328699231,
           2.32936965403
          ],
          [
           2.42486449402,
           2.35582049578,
           2.0178502539600003,
           1.5530264393000002
          ],
          [
           1.98182368496,
           1.9021394798299998,
           1.55502198211,
           1.1843837445
          ],
          [
           0.413221916134,
           1.02366560351,
           1.20088772141,
           1.01877910687
          ],
          [
           3.1743130225800003,
           3.31559784957,
           2.7524987128400005,
           2.0781652095900003
          ],
          [
           1.8883050382599997,
           2.2388164077200003,
           1.8428866710200005,
           1.345410302
          ],
          [
           1.28324083143,
           1.88514129399,
           1.75129714529,
           1.33842213879
          ],
          [
           0.335323335413,
           1.0753185339700002,
           1.24835101953,
           0.949404603012
          ],
          [
           1.6314944087099998,
           2.43244441551,
           2.2615691979299997,
           1.69122791791
          ],
          [
           0.903274535338,
           2.7125989338800003,
           3.4994029331800003,
           3.13144233298
          ],
          [
           1.7412406039,
           3.22534879022,
           3.4969028954300003,
           2.8063876065499995
          ],
          [
           3.08801527381,
           3.00498205222,
           2.47592298152,
           1.8363774726
          ],
          [
           4.1431708380000005,
           4.0444754002900005,
           3.09168666943,
           2.30552250272
          ],
          [
           6.00654981786,
           6.10049745608,
           4.5430843459600005,
           3.3049335337400003
          ]
         ],
         "zmax": 8.56955510337,
         "zmin": 0.325727350016
        },
        {
         "colorbar": {
          "title": {
           "text": "Drug Use (%)"
          }
         },
         "colorscale": [
          [
           0,
           "rgb(44,123,182)"
          ],
          [
           0.3333333333333333,
           "rgb(171,217,233)"
          ],
          [
           0.6666666666666666,
           "rgb(253,174,97)"
          ],
          [
           1,
           "rgb(215,25,28)"
          ]
         ],
         "dx": 1,
         "name": "1995",
         "type": "heatmap",
         "uid": "e658bc6d-fbbc-4f0e-a456-d182cfb298ad",
         "visible": false,
         "x": [
          "15-19",
          "20-24",
          "25-29",
          "30-34"
         ],
         "y": [
          "Brazil",
          "Canada",
          "China",
          "France",
          "Germany",
          "India",
          "Italy",
          "Japan",
          "Mexico",
          "Nigeria",
          "Russia",
          "Saudi Arabia",
          "South Africa",
          "Spain",
          "U.K.",
          "U.S."
         ],
         "z": [
          [
           1.6968111173299998,
           2.32517996954,
           2.10592248152,
           1.6392077601
          ],
          [
           5.312956210489999,
           5.0393888017199995,
           3.67803636881,
           2.6116249268900003
          ],
          [
           1.64874344103,
           3.1095043946599996,
           3.1358680209599994,
           2.3338953385599996
          ],
          [
           2.41779810442,
           2.34352672809,
           2.01149819034,
           1.55296833178
          ],
          [
           2.00136263955,
           1.90728693698,
           1.55553663019,
           1.1839426438299998
          ],
          [
           0.412808853824,
           1.0232216291299998,
           1.20104928154,
           1.0177094151700001
          ],
          [
           3.19482787385,
           3.33329093222,
           2.7672926863800003,
           2.09076842742
          ],
          [
           1.8888199491099997,
           2.2396804706299998,
           1.8418786141900003,
           1.34434990455
          ],
          [
           1.28267066943,
           1.88575494657,
           1.7524012644799998,
           1.33991566824
          ],
          [
           0.335933928732,
           1.0787554881799999,
           1.2524210430299998,
           0.953513078581
          ],
          [
           1.6465035419799998,
           2.4700383904599996,
           2.30506870598,
           1.71776461072
          ],
          [
           0.90468497373,
           2.7239512265400005,
           3.51306531068,
           3.1365168204100002
          ],
          [
           1.75126485979,
           3.24816209688,
           3.5148323722500003,
           2.8165901364700003
          ],
          [
           3.1062347969,
           3.0176105319700004,
           2.47827878547,
           1.84602057304
          ],
          [
           4.184997244340002,
           4.08755474047,
           3.1249336535200003,
           2.33398493282
          ],
          [
           6.242017723019999,
           6.1547712832900014,
           4.5294925808199995,
           3.29355496348
          ]
         ],
         "zmax": 8.56955510337,
         "zmin": 0.325727350016
        },
        {
         "colorbar": {
          "title": {
           "text": "Drug Use (%)"
          }
         },
         "colorscale": [
          [
           0,
           "rgb(44,123,182)"
          ],
          [
           0.3333333333333333,
           "rgb(171,217,233)"
          ],
          [
           0.6666666666666666,
           "rgb(253,174,97)"
          ],
          [
           1,
           "rgb(215,25,28)"
          ]
         ],
         "dx": 1,
         "name": "1996",
         "type": "heatmap",
         "uid": "0b8960a7-d746-4407-8a09-334dca279852",
         "visible": false,
         "x": [
          "15-19",
          "20-24",
          "25-29",
          "30-34"
         ],
         "y": [
          "Brazil",
          "Canada",
          "China",
          "France",
          "Germany",
          "India",
          "Italy",
          "Japan",
          "Mexico",
          "Nigeria",
          "Russia",
          "Saudi Arabia",
          "South Africa",
          "Spain",
          "U.K.",
          "U.S."
         ],
         "z": [
          [
           1.6993191530799998,
           2.32514074814,
           2.1051758603299997,
           1.6349430516699999
          ],
          [
           5.53651116633,
           5.21369001365,
           3.7929616837999998,
           2.6797228898
          ],
          [
           1.64129295041,
           3.09550452252,
           3.12456572954,
           2.32872235436
          ],
          [
           2.44432953955,
           2.35009698977,
           2.0192082307200003,
           1.55550094074
          ],
          [
           2.0314008770500003,
           1.92382114695,
           1.5638897982799997,
           1.19282014133
          ],
          [
           0.42585278651600006,
           1.03253855847,
           1.20640606037,
           1.0208440138
          ],
          [
           3.2461453301,
           3.3703688187600003,
           2.80610836005,
           2.12018853877
          ],
          [
           1.88738462556,
           2.23950060555,
           1.84182320004,
           1.34473309919
          ],
          [
           1.28117717328,
           1.88214411174,
           1.75073127558,
           1.3395551453299999
          ],
          [
           0.33741498396499997,
           1.07651702783,
           1.25216217248,
           0.95411468513
          ],
          [
           1.66275000706,
           2.51345630579,
           2.35678269994,
           1.75211847936
          ],
          [
           0.905482705736,
           2.72909503601,
           3.5201168315800007,
           3.14088896742
          ],
          [
           1.7344605457099997,
           3.24215428681,
           3.5146842840300008,
           2.81233180619
          ],
          [
           3.1621665293900003,
           3.03988246456,
           2.49633725682,
           1.86801508312
          ],
          [
           4.25364463861,
           4.12035409417,
           3.1442529610500003,
           2.3535177116500003
          ],
          [
           6.5559857079100015,
           6.321377375469999,
           4.6044421057600005,
           3.3470711746
          ]
         ],
         "zmax": 8.56955510337,
         "zmin": 0.325727350016
        },
        {
         "colorbar": {
          "title": {
           "text": "Drug Use (%)"
          }
         },
         "colorscale": [
          [
           0,
           "rgb(44,123,182)"
          ],
          [
           0.3333333333333333,
           "rgb(171,217,233)"
          ],
          [
           0.6666666666666666,
           "rgb(253,174,97)"
          ],
          [
           1,
           "rgb(215,25,28)"
          ]
         ],
         "dx": 1,
         "name": "1997",
         "type": "heatmap",
         "uid": "8f560525-1493-4f06-b715-0141c93e8198",
         "visible": false,
         "x": [
          "15-19",
          "20-24",
          "25-29",
          "30-34"
         ],
         "y": [
          "Brazil",
          "Canada",
          "China",
          "France",
          "Germany",
          "India",
          "Italy",
          "Japan",
          "Mexico",
          "Nigeria",
          "Russia",
          "Saudi Arabia",
          "South Africa",
          "Spain",
          "U.K.",
          "U.S."
         ],
         "z": [
          [
           1.70705829422,
           2.3256801786500003,
           2.10343866593,
           1.6327202016100002
          ],
          [
           5.84599105913,
           5.49549410737,
           3.9987673636000003,
           2.80379463399
          ],
          [
           1.62950796677,
           3.05835286088,
           3.09231369082,
           2.31039257072
          ],
          [
           2.49745653021,
           2.38819772018,
           2.03905512212,
           1.56817749514
          ],
          [
           2.09288807373,
           1.96455873559,
           1.5852062592700003,
           1.21007072312
          ],
          [
           0.454102664414,
           1.0523246652399998,
           1.21789289961,
           1.02683540395
          ],
          [
           3.31303096292,
           3.43033974069,
           2.8656091869,
           2.17538129528
          ],
          [
           1.8818640573,
           2.2372670861099997,
           1.8421320331400002,
           1.34572288835
          ],
          [
           1.27827084277,
           1.87425166129,
           1.7463975770099998,
           1.33734952909
          ],
          [
           0.34008736229900005,
           1.0766020349599998,
           1.2513999263,
           0.951430687902
          ],
          [
           1.6817861234999998,
           2.56549248157,
           2.41828521882,
           1.7948142511200003
          ],
          [
           0.908058066555,
           2.7403050136,
           3.5363492777900003,
           3.14680984103
          ],
          [
           1.6918954563799997,
           3.20724976144,
           3.4879960164400003,
           2.7945767761799996
          ],
          [
           3.2664117906,
           3.10838906815,
           2.54170162055,
           1.91500476281
          ],
          [
           4.3646552721499985,
           4.15030264394,
           3.15793495569,
           2.3699089946900003
          ],
          [
           6.958617782869999,
           6.625228257720001,
           4.7879857236499985,
           3.4769969301199994
          ]
         ],
         "zmax": 8.56955510337,
         "zmin": 0.325727350016
        },
        {
         "colorbar": {
          "title": {
           "text": "Drug Use (%)"
          }
         },
         "colorscale": [
          [
           0,
           "rgb(44,123,182)"
          ],
          [
           0.3333333333333333,
           "rgb(171,217,233)"
          ],
          [
           0.6666666666666666,
           "rgb(253,174,97)"
          ],
          [
           1,
           "rgb(215,25,28)"
          ]
         ],
         "dx": 1,
         "name": "1998",
         "type": "heatmap",
         "uid": "506d56e3-16b7-416f-937e-5f81c7ceb1c3",
         "visible": false,
         "x": [
          "15-19",
          "20-24",
          "25-29",
          "30-34"
         ],
         "y": [
          "Brazil",
          "Canada",
          "China",
          "France",
          "Germany",
          "India",
          "Italy",
          "Japan",
          "Mexico",
          "Nigeria",
          "Russia",
          "Saudi Arabia",
          "South Africa",
          "Spain",
          "U.K.",
          "U.S."
         ],
         "z": [
          [
           1.7144656771899998,
           2.3281367255400003,
           2.10307737194,
           1.6293112932999998
          ],
          [
           6.1766668109800005,
           5.80132342034,
           4.2222182935,
           2.9466026770599996
          ],
          [
           1.61241488944,
           3.0075904463200005,
           3.0486773858999996,
           2.28414084345
          ],
          [
           2.5742492448700003,
           2.43235742363,
           2.0595127632400003,
           1.58274101919
          ],
          [
           2.15450070771,
           1.9999913788599997,
           1.61278182802,
           1.2263548856
          ],
          [
           0.489744165241,
           1.07540258145,
           1.2310020748200001,
           1.0364613565799998
          ],
          [
           3.3883549840200002,
           3.50413821676,
           2.9324721952900004,
           2.2354279220400004
          ],
          [
           1.8757348782,
           2.23654039336,
           1.84290317367,
           1.3460482774
          ],
          [
           1.27560246444,
           1.86354217348,
           1.7391767109799998,
           1.33436981618
          ],
          [
           0.342507437833,
           1.07423913974,
           1.24772857373,
           0.949126554329
          ],
          [
           1.6990424164000002,
           2.61614301525,
           2.47933614629,
           1.83816411211
          ],
          [
           0.9107850059029999,
           2.7521987153099996,
           3.54359380026,
           3.15079687201
          ],
          [
           1.6373699053500002,
           3.1585739848100003,
           3.45327602638,
           2.76904629025
          ],
          [
           3.39911833403,
           3.1981646016900003,
           2.60738403509,
           1.9663411838599998
          ],
          [
           4.486748264059999,
           4.17659961044,
           3.17205804481,
           2.3855929386200003
          ],
          [
           7.36679078303,
           6.981196291940002,
           5.01942929354,
           3.64259540012
          ]
         ],
         "zmax": 8.56955510337,
         "zmin": 0.325727350016
        },
        {
         "colorbar": {
          "title": {
           "text": "Drug Use (%)"
          }
         },
         "colorscale": [
          [
           0,
           "rgb(44,123,182)"
          ],
          [
           0.3333333333333333,
           "rgb(171,217,233)"
          ],
          [
           0.6666666666666666,
           "rgb(253,174,97)"
          ],
          [
           1,
           "rgb(215,25,28)"
          ]
         ],
         "dx": 1,
         "name": "1999",
         "type": "heatmap",
         "uid": "15addfd6-89ab-4538-9517-c85fa5e82cb7",
         "visible": false,
         "x": [
          "15-19",
          "20-24",
          "25-29",
          "30-34"
         ],
         "y": [
          "Brazil",
          "Canada",
          "China",
          "France",
          "Germany",
          "India",
          "Italy",
          "Japan",
          "Mexico",
          "Nigeria",
          "Russia",
          "Saudi Arabia",
          "South Africa",
          "Spain",
          "U.K.",
          "U.S."
         ],
         "z": [
          [
           1.7197856124200002,
           2.3314516222500004,
           2.10390859187,
           1.6286124910600002
          ],
          [
           6.45241357882,
           6.055351817640001,
           4.40575393984,
           3.0640492703400004
          ],
          [
           1.59611259689,
           2.95380359003,
           2.9995070899600003,
           2.25718567545
          ],
          [
           2.65272379253,
           2.47886111408,
           2.08420376699,
           1.5983375752300002
          ],
          [
           2.21005206529,
           2.04867662089,
           1.64214631366,
           1.24387158414
          ],
          [
           0.5192073047820001,
           1.09639578789,
           1.24175468146,
           1.0441955449
          ],
          [
           3.4555209217000002,
           3.5707439543199997,
           2.99357368084,
           2.28252072854
          ],
          [
           1.87030507533,
           2.2364241249,
           1.8440805871000001,
           1.34684180203
          ],
          [
           1.27044502046,
           1.85524009561,
           1.7345318244,
           1.33276622081
          ],
          [
           0.344567872557,
           1.0744416945,
           1.24466853647,
           0.9466593866840001
          ],
          [
           1.7129397282299998,
           2.65599914664,
           2.5285943267900004,
           1.87724878887
          ],
          [
           0.9109495181299999,
           2.7586563560000004,
           3.5563700650400003,
           3.1529309226200004
          ],
          [
           1.58633238145,
           3.10695126805,
           3.4114344862299997,
           2.73141954583
          ],
          [
           3.52342836564,
           3.29020369009,
           2.66295892845,
           2.02102120986
          ],
          [
           4.5844409306300005,
           4.19845002122,
           3.1882979106200002,
           2.40224667866
          ],
          [
           7.703584212010001,
           7.305844062929999,
           5.240939200990001,
           3.80006497271
          ]
         ],
         "zmax": 8.56955510337,
         "zmin": 0.325727350016
        },
        {
         "colorbar": {
          "title": {
           "text": "Drug Use (%)"
          }
         },
         "colorscale": [
          [
           0,
           "rgb(44,123,182)"
          ],
          [
           0.3333333333333333,
           "rgb(171,217,233)"
          ],
          [
           0.6666666666666666,
           "rgb(253,174,97)"
          ],
          [
           1,
           "rgb(215,25,28)"
          ]
         ],
         "dx": 1,
         "name": "2000",
         "type": "heatmap",
         "uid": "7a788a3f-3394-4be9-8db2-9b5768c186ef",
         "visible": false,
         "x": [
          "15-19",
          "20-24",
          "25-29",
          "30-34"
         ],
         "y": [
          "Brazil",
          "Canada",
          "China",
          "France",
          "Germany",
          "India",
          "Italy",
          "Japan",
          "Mexico",
          "Nigeria",
          "Russia",
          "Saudi Arabia",
          "South Africa",
          "Spain",
          "U.K.",
          "U.S."
         ],
         "z": [
          [
           1.7239842305800002,
           2.33319213074,
           2.1052265558000003,
           1.62757859636
          ],
          [
           6.58740833595,
           6.179277356669999,
           4.494533426309999,
           3.1194793068
          ],
          [
           1.5827790242000002,
           2.90685554331,
           2.9540552095,
           2.2314409905700003
          ],
          [
           2.69004759608,
           2.52396904002,
           2.11062263175,
           1.60965642935
          ],
          [
           2.24704568893,
           2.08687762826,
           1.6714001484199998,
           1.26203915569
          ],
          [
           0.531951441655,
           1.10415603561,
           1.24591059115,
           1.04733691052
          ],
          [
           3.4822463590599995,
           3.6049557257,
           3.02314145006,
           2.30418245769
          ],
          [
           1.86861730664,
           2.23670486904,
           1.84573184023,
           1.34722694919
          ],
          [
           1.26559081626,
           1.8481424912400002,
           1.73171710232,
           1.3330209935200001
          ],
          [
           0.34466899773000004,
           1.07589706062,
           1.24175630404,
           0.9435523920100001
          ],
          [
           1.7207697999100002,
           2.67610000713,
           2.5544444211900004,
           1.9050895280400002
          ],
          [
           0.9117477642,
           2.76642520105,
           3.55332008052,
           3.1518239122000002
          ],
          [
           1.55583049361,
           3.0642448748400004,
           3.3717389968500004,
           2.69464223055
          ],
          [
           3.6141074203800003,
           3.36414849929,
           2.7251268226599996,
           2.06495718052
          ],
          [
           4.625120979069999,
           4.2161839456,
           3.2089932939700003,
           2.4228760355200003
          ],
          [
           7.879788756960001,
           7.506116506230001,
           5.3902132834000005,
           3.90747426583
          ]
         ],
         "zmax": 8.56955510337,
         "zmin": 0.325727350016
        },
        {
         "colorbar": {
          "title": {
           "text": "Drug Use (%)"
          }
         },
         "colorscale": [
          [
           0,
           "rgb(44,123,182)"
          ],
          [
           0.3333333333333333,
           "rgb(171,217,233)"
          ],
          [
           0.6666666666666666,
           "rgb(253,174,97)"
          ],
          [
           1,
           "rgb(215,25,28)"
          ]
         ],
         "dx": 1,
         "name": "2001",
         "type": "heatmap",
         "uid": "fb83c0eb-7356-4fa2-9cf8-a8c620828846",
         "visible": false,
         "x": [
          "15-19",
          "20-24",
          "25-29",
          "30-34"
         ],
         "y": [
          "Brazil",
          "Canada",
          "China",
          "France",
          "Germany",
          "India",
          "Italy",
          "Japan",
          "Mexico",
          "Nigeria",
          "Russia",
          "Saudi Arabia",
          "South Africa",
          "Spain",
          "U.K.",
          "U.S."
         ],
         "z": [
          [
           1.7235076409,
           2.33736778902,
           2.10968699096,
           1.63085270233
          ],
          [
           6.60227851896,
           6.206838893169999,
           4.50995047464,
           3.1245203081999997
          ],
          [
           1.5680042771000002,
           2.8604073590599994,
           2.90954475181,
           2.2059223126200003
          ],
          [
           2.7118938614999997,
           2.56098102336,
           2.14458615887,
           1.6284244553100002
          ],
          [
           2.2671880329,
           2.11745672175,
           1.6961435025099998,
           1.2841921243799999
          ],
          [
           0.532204654728,
           1.10200313154,
           1.24369079172,
           1.04744243549
          ],
          [
           3.5107849098900004,
           3.62841531251,
           3.04177022066,
           2.32181211307
          ],
          [
           1.86746900972,
           2.23754497751,
           1.84621424768,
           1.34661876493
          ],
          [
           1.25721372458,
           1.84391073554,
           1.7336984515599998,
           1.33812018059
          ],
          [
           0.345576196853,
           1.07142640192,
           1.24182931288,
           0.943762380453
          ],
          [
           1.7303158660500002,
           2.68529444043,
           2.56484332054,
           1.9236527240599999
          ],
          [
           0.909989913486,
           2.7578730704299996,
           3.5357984839200003,
           3.1551868413300004
          ],
          [
           1.53546099814,
           3.01408274706,
           3.30595667032,
           2.63827123527
          ],
          [
           3.6850378989499997,
           3.4263135292199998,
           2.7668605609599997,
           2.09170284805
          ],
          [
           4.61512190691,
           4.23487929873,
           3.2500616071399997,
           2.46508679177
          ],
          [
           7.924068958239999,
           7.62111499046,
           5.48432390842,
           3.97509702211
          ]
         ],
         "zmax": 8.56955510337,
         "zmin": 0.325727350016
        },
        {
         "colorbar": {
          "title": {
           "text": "Drug Use (%)"
          }
         },
         "colorscale": [
          [
           0,
           "rgb(44,123,182)"
          ],
          [
           0.3333333333333333,
           "rgb(171,217,233)"
          ],
          [
           0.6666666666666666,
           "rgb(253,174,97)"
          ],
          [
           1,
           "rgb(215,25,28)"
          ]
         ],
         "dx": 1,
         "name": "2002",
         "type": "heatmap",
         "uid": "dde56718-49bc-4265-9aec-80063d541586",
         "visible": false,
         "x": [
          "15-19",
          "20-24",
          "25-29",
          "30-34"
         ],
         "y": [
          "Brazil",
          "Canada",
          "China",
          "France",
          "Germany",
          "India",
          "Italy",
          "Japan",
          "Mexico",
          "Nigeria",
          "Russia",
          "Saudi Arabia",
          "South Africa",
          "Spain",
          "U.K.",
          "U.S."
         ],
         "z": [
          [
           1.72307714955,
           2.34532438978,
           2.1203567325,
           1.63884437778
          ],
          [
           6.59824317583,
           6.23631085381,
           4.5094922336400005,
           3.1117884421099995
          ],
          [
           1.55105733838,
           2.81032487605,
           2.8572566861799995,
           2.17513032588
          ],
          [
           2.7447657804600003,
           2.61164879829,
           2.19107203354,
           1.66779320741
          ],
          [
           2.2789905586100003,
           2.1518734988599997,
           1.72919267785,
           1.30043726214
          ],
          [
           0.530869038021,
           1.09881896737,
           1.24025503951,
           1.04700754611
          ],
          [
           3.5644543903200003,
           3.67936895585,
           3.07399138828,
           2.3461492544499998
          ],
          [
           1.86543636129,
           2.2379475963599997,
           1.84567072305,
           1.34616090449
          ],
          [
           1.24346113557,
           1.84085056867,
           1.7367988827599998,
           1.3454560542200003
          ],
          [
           0.344697028342,
           1.0720700537799999,
           1.23958470571,
           0.9421613559540001
          ],
          [
           1.7478935862999998,
           2.69441310995,
           2.57442202466,
           1.9396739214200003
          ],
          [
           0.909814583169,
           2.7427886662700005,
           3.5131734234500005,
           3.13361143544
          ],
          [
           1.5102263928100002,
           2.9369485990599995,
           3.2026985317800003,
           2.55510404251
          ],
          [
           3.7580527653900004,
           3.49548782572,
           2.80920521221,
           2.11698517032
          ],
          [
           4.585952160030001,
           4.2580660931,
           3.3124972949299996,
           2.53268484267
          ],
          [
           7.92680513913,
           7.71771043913,
           5.575993616340001,
           4.03496773459
          ]
         ],
         "zmax": 8.56955510337,
         "zmin": 0.325727350016
        },
        {
         "colorbar": {
          "title": {
           "text": "Drug Use (%)"
          }
         },
         "colorscale": [
          [
           0,
           "rgb(44,123,182)"
          ],
          [
           0.3333333333333333,
           "rgb(171,217,233)"
          ],
          [
           0.6666666666666666,
           "rgb(253,174,97)"
          ],
          [
           1,
           "rgb(215,25,28)"
          ]
         ],
         "dx": 1,
         "name": "2003",
         "type": "heatmap",
         "uid": "233ed284-fe11-4b97-89bf-ae5b7981a8a3",
         "visible": false,
         "x": [
          "15-19",
          "20-24",
          "25-29",
          "30-34"
         ],
         "y": [
          "Brazil",
          "Canada",
          "China",
          "France",
          "Germany",
          "India",
          "Italy",
          "Japan",
          "Mexico",
          "Nigeria",
          "Russia",
          "Saudi Arabia",
          "South Africa",
          "Spain",
          "U.K.",
          "U.S."
         ],
         "z": [
          [
           1.7244851954099998,
           2.3567448167,
           2.13080442256,
           1.6474008396800002
          ],
          [
           6.56761338638,
           6.26711084496,
           4.50891136611,
           3.1086673429400005
          ],
          [
           1.53349978435,
           2.7598518916900003,
           2.8013208828,
           2.14278968089
          ],
          [
           2.7689779254799998,
           2.661163066,
           2.25133401551,
           1.7196118314900002
          ],
          [
           2.28948215809,
           2.17933194178,
           1.7573639402599999,
           1.3166789159
          ],
          [
           0.528404816036,
           1.09518815041,
           1.23723953583,
           1.0474818453299999
          ],
          [
           3.62136254134,
           3.73429109336,
           3.10802467912,
           2.37542701136
          ],
          [
           1.86420019571,
           2.2377054463499997,
           1.8460246171599999,
           1.34538761412
          ],
          [
           1.2292324534,
           1.83781224708,
           1.7436904397900002,
           1.3542070198700003
          ],
          [
           0.340701754548,
           1.0699949569,
           1.23484302339,
           0.947825541782
          ],
          [
           1.76735857596,
           2.70348477718,
           2.5800751895400005,
           1.95424906762
          ],
          [
           0.903118488237,
           2.72225154258,
           3.49827804454,
           3.1207961068799994
          ],
          [
           1.4805392919100002,
           2.84761457,
           3.08908373386,
           2.4622276504799996
          ],
          [
           3.81812132694,
           3.55773126449,
           2.8455025572,
           2.13933412323
          ],
          [
           4.54764755778,
           4.28229479269,
           3.3812819955299998,
           2.60735921438
          ],
          [
           7.906434043960002,
           7.8007101205,
           5.6651411576,
           4.09545968888
          ]
         ],
         "zmax": 8.56955510337,
         "zmin": 0.325727350016
        },
        {
         "colorbar": {
          "title": {
           "text": "Drug Use (%)"
          }
         },
         "colorscale": [
          [
           0,
           "rgb(44,123,182)"
          ],
          [
           0.3333333333333333,
           "rgb(171,217,233)"
          ],
          [
           0.6666666666666666,
           "rgb(253,174,97)"
          ],
          [
           1,
           "rgb(215,25,28)"
          ]
         ],
         "dx": 1,
         "name": "2004",
         "type": "heatmap",
         "uid": "a9f772e5-b497-49b1-81ad-de6e0f210f81",
         "visible": false,
         "x": [
          "15-19",
          "20-24",
          "25-29",
          "30-34"
         ],
         "y": [
          "Brazil",
          "Canada",
          "China",
          "France",
          "Germany",
          "India",
          "Italy",
          "Japan",
          "Mexico",
          "Nigeria",
          "Russia",
          "Saudi Arabia",
          "South Africa",
          "Spain",
          "U.K.",
          "U.S."
         ],
         "z": [
          [
           1.7275889748900002,
           2.36625067366,
           2.1394656971200003,
           1.6538307357000002
          ],
          [
           6.5384371325,
           6.2706591083599985,
           4.50352975894,
           3.09198287268
          ],
          [
           1.5175703102000002,
           2.7168559396200003,
           2.7520047766,
           2.1121501080300003
          ],
          [
           2.7872752200099997,
           2.71645663499,
           2.31213298539,
           1.7684032415099995
          ],
          [
           2.29660103948,
           2.2067680979400004,
           1.77556424351,
           1.3344153253
          ],
          [
           0.524577925674,
           1.09112089953,
           1.2346436204,
           1.0479995173299999
          ],
          [
           3.6590127512699997,
           3.77253391952,
           3.13050627055,
           2.40246570203
          ],
          [
           1.8631539186400001,
           2.23877459403,
           1.84697212916,
           1.34544557944
          ],
          [
           1.21747679589,
           1.83509857699,
           1.74828262153,
           1.35948592419
          ],
          [
           0.339266028916,
           1.06804229295,
           1.23530237666,
           0.947653108181
          ],
          [
           1.7820794054,
           2.7074945312,
           2.5858039116,
           1.9665182506599999
          ],
          [
           0.903863152527,
           2.7034726863599996,
           3.4840045628199996,
           3.1108189692400003
          ],
          [
           1.4516133668,
           2.7662502420400004,
           2.98653978486,
           2.37624449217
          ],
          [
           3.8720308646099997,
           3.61130722664,
           2.8766411402700003,
           2.1546865447599997
          ],
          [
           4.51002390665,
           4.3028645261800005,
           3.43955231812,
           2.67100217727
          ],
          [
           7.87962274913,
           7.855294747249999,
           5.74628452439,
           4.1512299964900015
          ]
         ],
         "zmax": 8.56955510337,
         "zmin": 0.325727350016
        },
        {
         "colorbar": {
          "title": {
           "text": "Drug Use (%)"
          }
         },
         "colorscale": [
          [
           0,
           "rgb(44,123,182)"
          ],
          [
           0.3333333333333333,
           "rgb(171,217,233)"
          ],
          [
           0.6666666666666666,
           "rgb(253,174,97)"
          ],
          [
           1,
           "rgb(215,25,28)"
          ]
         ],
         "dx": 1,
         "name": "2005",
         "type": "heatmap",
         "uid": "6a1d1cca-b10a-491c-8df7-e116a6aa3d7d",
         "visible": false,
         "x": [
          "15-19",
          "20-24",
          "25-29",
          "30-34"
         ],
         "y": [
          "Brazil",
          "Canada",
          "China",
          "France",
          "Germany",
          "India",
          "Italy",
          "Japan",
          "Mexico",
          "Nigeria",
          "Russia",
          "Saudi Arabia",
          "South Africa",
          "Spain",
          "U.K.",
          "U.S."
         ],
         "z": [
          [
           1.73176410632,
           2.3721320668,
           2.14704732986,
           1.65955347058
          ],
          [
           6.495690002359999,
           6.27405772941,
           4.494107565359999,
           3.0752528944099997
          ],
          [
           1.5080276180899999,
           2.6866282050900003,
           2.71571071141,
           2.08904550874
          ],
          [
           2.80003770319,
           2.7567601401700004,
           2.35781419693,
           1.8105479155200002
          ],
          [
           2.3045858433099995,
           2.22209841184,
           1.8054025166099998,
           1.35002368179
          ],
          [
           0.52085839285,
           1.0887571969899998,
           1.23328383424,
           1.05020376905
          ],
          [
           3.65766204338,
           3.77373230675,
           3.1301853582700003,
           2.40458018623
          ],
          [
           1.86287932768,
           2.24054584652,
           1.84920816711,
           1.3472721211799998
          ],
          [
           1.21354893715,
           1.8345874472400001,
           1.75000123028,
           1.36205669122
          ],
          [
           0.33945354422799995,
           1.06847761159,
           1.23275553743,
           0.944716136786
          ],
          [
           1.7877331489400001,
           2.7077784050200004,
           2.58797160202,
           1.9764532824799999
          ],
          [
           0.904601249382,
           2.7005122631600003,
           3.4793814603200004,
           3.10993977013
          ],
          [
           1.42036855179,
           2.70571325955,
           2.9160810766500003,
           2.31811421018
          ],
          [
           3.90743135847,
           3.6464236116400004,
           2.89795957435,
           2.15839893328
          ],
          [
           4.48313572711,
           4.318569974,
           3.47160649602,
           2.7034257853500003
          ],
          [
           7.857519689580001,
           7.8776756059899995,
           5.819002778610001,
           4.2087073861199995
          ]
         ],
         "zmax": 8.56955510337,
         "zmin": 0.325727350016
        },
        {
         "colorbar": {
          "title": {
           "text": "Drug Use (%)"
          }
         },
         "colorscale": [
          [
           0,
           "rgb(44,123,182)"
          ],
          [
           0.3333333333333333,
           "rgb(171,217,233)"
          ],
          [
           0.6666666666666666,
           "rgb(253,174,97)"
          ],
          [
           1,
           "rgb(215,25,28)"
          ]
         ],
         "dx": 1,
         "name": "2006",
         "type": "heatmap",
         "uid": "c0626549-af57-4c6b-a476-e4b6702f1396",
         "visible": false,
         "x": [
          "15-19",
          "20-24",
          "25-29",
          "30-34"
         ],
         "y": [
          "Brazil",
          "Canada",
          "China",
          "France",
          "Germany",
          "India",
          "Italy",
          "Japan",
          "Mexico",
          "Nigeria",
          "Russia",
          "Saudi Arabia",
          "South Africa",
          "Spain",
          "U.K.",
          "U.S."
         ],
         "z": [
          [
           1.7476537417400002,
           2.38538698304,
           2.15815836839,
           1.66992515845
          ],
          [
           6.429056170369999,
           6.24124028545,
           4.46493251111,
           3.06550239954
          ],
          [
           1.50322086432,
           2.66665835884,
           2.6881116804799996,
           2.07002319333
          ],
          [
           2.7927878597,
           2.80152284176,
           2.4164709471,
           1.84655406513
          ],
          [
           2.28476577585,
           2.23937802434,
           1.82936335588,
           1.37029258912
          ],
          [
           0.511407818313,
           1.08586522444,
           1.2341483413,
           1.05250816935
          ],
          [
           3.60165721806,
           3.73526515,
           3.1080013536299997,
           2.3791606646
          ],
          [
           1.86647413362,
           2.24769301801,
           1.85682007009,
           1.3517400550299998
          ],
          [
           1.2324633766200002,
           1.8316552479700001,
           1.7374075291799997,
           1.35266521717
          ],
          [
           0.33900303317900005,
           1.06969201451,
           1.23410387117,
           0.946449730665
          ],
          [
           1.78178218418,
           2.70185480038,
           2.5905834951099997,
           1.9879985033099996
          ],
          [
           0.915516490308,
           2.7338297628099997,
           3.5338825006600003,
           3.15464204467
          ],
          [
           1.39084171224,
           2.66823238521,
           2.87989883755,
           2.28454822612
          ],
          [
           3.92432062824,
           3.67091396881,
           2.89427049778,
           2.15391577305
          ],
          [
           4.4778719568800005,
           4.3364722006299985,
           3.4788537524699996,
           2.71122550319
          ],
          [
           7.76204986497,
           7.856968901739999,
           5.88424551057,
           4.267677186969999
          ]
         ],
         "zmax": 8.56955510337,
         "zmin": 0.325727350016
        },
        {
         "colorbar": {
          "title": {
           "text": "Drug Use (%)"
          }
         },
         "colorscale": [
          [
           0,
           "rgb(44,123,182)"
          ],
          [
           0.3333333333333333,
           "rgb(171,217,233)"
          ],
          [
           0.6666666666666666,
           "rgb(253,174,97)"
          ],
          [
           1,
           "rgb(215,25,28)"
          ]
         ],
         "dx": 1,
         "name": "2007",
         "type": "heatmap",
         "uid": "6e274f17-00ee-48fd-86d3-21bf63a1a224",
         "visible": false,
         "x": [
          "15-19",
          "20-24",
          "25-29",
          "30-34"
         ],
         "y": [
          "Brazil",
          "Canada",
          "China",
          "France",
          "Germany",
          "India",
          "Italy",
          "Japan",
          "Mexico",
          "Nigeria",
          "Russia",
          "Saudi Arabia",
          "South Africa",
          "Spain",
          "U.K.",
          "U.S."
         ],
         "z": [
          [
           1.7803996279699998,
           2.41096096363,
           2.1795084191400003,
           1.68804879777
          ],
          [
           6.3348418862,
           6.166496685,
           4.4213977385500005,
           3.0346225602599994
          ],
          [
           1.5034268762,
           2.6557678685900004,
           2.66738293964,
           2.05408143896
          ],
          [
           2.76282471638,
           2.84335146679,
           2.47247446681,
           1.89650809918
          ],
          [
           2.23668762285,
           2.26069401832,
           1.87346096177,
           1.4004743042399999
          ],
          [
           0.4955802611920001,
           1.08031354817,
           1.23561409832,
           1.0555858256
          ],
          [
           3.5221499136000003,
           3.665832736260001,
           3.05829646481,
           2.34548770318
          ],
          [
           1.87450837458,
           2.26189834168,
           1.86945974297,
           1.3601415182499998
          ],
          [
           1.27485968325,
           1.8262042392,
           1.71123387486,
           1.32933508353
          ],
          [
           0.339734871307,
           1.07034814239,
           1.23644388029,
           0.9503615136110001
          ],
          [
           1.7706616086700002,
           2.69227770912,
           2.5936610169799996,
           2.00208880325
          ],
          [
           0.9338339085189999,
           2.81172661504,
           3.63797422373,
           3.2487391531800003
          ],
          [
           1.3595692017899998,
           2.63398079375,
           2.8525595331299995,
           2.2585099358300003
          ],
          [
           3.93098355751,
           3.6887255813,
           2.87535137696,
           2.12618499221
          ],
          [
           4.49302397465,
           4.35739502656,
           3.4741845703400003,
           2.7107930639399997
          ],
          [
           7.55731485041,
           7.803418633950001,
           5.94777940977,
           4.3279083197800015
          ]
         ],
         "zmax": 8.56955510337,
         "zmin": 0.325727350016
        },
        {
         "colorbar": {
          "title": {
           "text": "Drug Use (%)"
          }
         },
         "colorscale": [
          [
           0,
           "rgb(44,123,182)"
          ],
          [
           0.3333333333333333,
           "rgb(171,217,233)"
          ],
          [
           0.6666666666666666,
           "rgb(253,174,97)"
          ],
          [
           1,
           "rgb(215,25,28)"
          ]
         ],
         "dx": 1,
         "name": "2008",
         "type": "heatmap",
         "uid": "e09d8a8f-c208-4406-9f04-a8b456c27cfc",
         "visible": false,
         "x": [
          "15-19",
          "20-24",
          "25-29",
          "30-34"
         ],
         "y": [
          "Brazil",
          "Canada",
          "China",
          "France",
          "Germany",
          "India",
          "Italy",
          "Japan",
          "Mexico",
          "Nigeria",
          "Russia",
          "Saudi Arabia",
          "South Africa",
          "Spain",
          "U.K.",
          "U.S."
         ],
         "z": [
          [
           1.81852615883,
           2.44004508206,
           2.20536222614,
           1.71033196475
          ],
          [
           6.22146017026,
           6.054711231919999,
           4.37451766536,
           3.01102568533
          ],
          [
           1.50495395826,
           2.64834235953,
           2.65312483809,
           2.04193308553
          ],
          [
           2.72976980793,
           2.88726346517,
           2.53197769812,
           1.9391389576099998
          ],
          [
           2.17701186148,
           2.2839044682200003,
           1.91414159156,
           1.43598792553
          ],
          [
           0.477897864841,
           1.07475547732,
           1.2382222618799998,
           1.06072627173
          ],
          [
           3.4164747566100004,
           3.5940243453500003,
           2.99960859699,
           2.3017807791900005
          ],
          [
           1.88434738511,
           2.2782815622599997,
           1.88621670218,
           1.3720938689500002
          ],
          [
           1.3291867375700002,
           1.82259131075,
           1.67855936211,
           1.3016116191299998
          ],
          [
           0.341251838101,
           1.07255854639,
           1.2412593372499998,
           0.954377268823
          ],
          [
           1.75676183042,
           2.68027590387,
           2.59476082628,
           2.01601359857
          ],
          [
           0.959191750691,
           2.90896397974,
           3.76636661018,
           3.368657388
          ],
          [
           1.32650416343,
           2.60428830413,
           2.8254189921,
           2.2351753373900003
          ],
          [
           3.94438802556,
           3.70182934031,
           2.8541082989099995,
           2.09726014794
          ],
          [
           4.508641068409999,
           4.37854397158,
           3.4619989298400005,
           2.7048596630199997
          ],
          [
           7.313616884479999,
           7.743735072750001,
           6.0136242283599985,
           4.39659410416
          ]
         ],
         "zmax": 8.56955510337,
         "zmin": 0.325727350016
        },
        {
         "colorbar": {
          "title": {
           "text": "Drug Use (%)"
          }
         },
         "colorscale": [
          [
           0,
           "rgb(44,123,182)"
          ],
          [
           0.3333333333333333,
           "rgb(171,217,233)"
          ],
          [
           0.6666666666666666,
           "rgb(253,174,97)"
          ],
          [
           1,
           "rgb(215,25,28)"
          ]
         ],
         "dx": 1,
         "name": "2009",
         "type": "heatmap",
         "uid": "7b5d7947-2b00-411b-b414-e0808fe70627",
         "visible": false,
         "x": [
          "15-19",
          "20-24",
          "25-29",
          "30-34"
         ],
         "y": [
          "Brazil",
          "Canada",
          "China",
          "France",
          "Germany",
          "India",
          "Italy",
          "Japan",
          "Mexico",
          "Nigeria",
          "Russia",
          "Saudi Arabia",
          "South Africa",
          "Spain",
          "U.K.",
          "U.S."
         ],
         "z": [
          [
           1.85349091149,
           2.46566101306,
           2.22572893512,
           1.73095406179
          ],
          [
           6.1162408016,
           5.967698609109999,
           4.32842496433,
           2.9946079880000003
          ],
          [
           1.50885768351,
           2.6493208557,
           2.64739359127,
           2.03631773317
          ],
          [
           2.70273585814,
           2.92316517369,
           2.57570497931,
           1.97246218533
          ],
          [
           2.12200925942,
           2.2965657499,
           1.95343009036,
           1.4611143242700002
          ],
          [
           0.463725079866,
           1.07210861006,
           1.24329596979,
           1.06605417038
          ],
          [
           3.31436630242,
           3.5241087835400005,
           2.94718207463,
           2.25381129963
          ],
          [
           1.8929903987099999,
           2.2962216203,
           1.9005243871400002,
           1.3834708518499998
          ],
          [
           1.37897281018,
           1.81898019358,
           1.65125144954,
           1.27738207978
          ],
          [
           0.341298079024,
           1.07271917607,
           1.24407743296,
           0.954804118556
          ],
          [
           1.74332174211,
           2.66483841199,
           2.5932780581099997,
           2.02745149956
          ],
          [
           0.982428558656,
           3.0083578547000003,
           3.89614165313,
           3.4845412757300003
          ],
          [
           1.2934658205399998,
           2.57217010874,
           2.79864116759,
           2.21348131049
          ],
          [
           3.9484386847800006,
           3.7093431083699997,
           2.83394832701,
           2.0753747542
          ],
          [
           4.50962050539,
           4.38790036508,
           3.44239558391,
           2.69447727475
          ],
          [
           7.110168121219998,
           7.705070413690001,
           6.08590736678,
           4.4698510449199995
          ]
         ],
         "zmax": 8.56955510337,
         "zmin": 0.325727350016
        },
        {
         "colorbar": {
          "title": {
           "text": "Drug Use (%)"
          }
         },
         "colorscale": [
          [
           0,
           "rgb(44,123,182)"
          ],
          [
           0.3333333333333333,
           "rgb(171,217,233)"
          ],
          [
           0.6666666666666666,
           "rgb(253,174,97)"
          ],
          [
           1,
           "rgb(215,25,28)"
          ]
         ],
         "dx": 1,
         "name": "2010",
         "type": "heatmap",
         "uid": "91794cd5-f87c-4d75-af47-5238f9bbde6f",
         "visible": false,
         "x": [
          "15-19",
          "20-24",
          "25-29",
          "30-34"
         ],
         "y": [
          "Brazil",
          "Canada",
          "China",
          "France",
          "Germany",
          "India",
          "Italy",
          "Japan",
          "Mexico",
          "Nigeria",
          "Russia",
          "Saudi Arabia",
          "South Africa",
          "Spain",
          "U.K.",
          "U.S."
         ],
         "z": [
          [
           1.8755062846200001,
           2.4817247462100003,
           2.24002486656,
           1.7425473920299999
          ],
          [
           6.02928505098,
           5.89079929872,
           4.29430414655,
           2.9857457967200003
          ],
          [
           1.51316396555,
           2.6506974212200003,
           2.64980079782,
           2.03647419001
          ],
          [
           2.69091647059,
           2.94111692995,
           2.5900082156599997,
           1.98715874095
          ],
          [
           2.10379536458,
           2.29868659819,
           1.97121274217,
           1.47364552587
          ],
          [
           0.458176179155,
           1.07216316404,
           1.24974946457,
           1.07307322844
          ],
          [
           3.2418992395700004,
           3.46533679368,
           2.89876326252,
           2.21643938496
          ],
          [
           1.8977281615700001,
           2.3057574139200003,
           1.91418051792,
           1.3955347379299998
          ],
          [
           1.4145292028,
           1.82202945303,
           1.64018731732,
           1.2684068422299999
          ],
          [
           0.340883673157,
           1.0750688755,
           1.24147363709,
           0.956669931541
          ],
          [
           1.7327722920900002,
           2.64886743752,
           2.58929045064,
           2.03239037647
          ],
          [
           0.9997886233580001,
           3.0747789965900005,
           3.98036634245,
           3.56296637014
          ],
          [
           1.26366381044,
           2.53810516068,
           2.77055524083,
           2.18634657562
          ],
          [
           3.95658622519,
           3.7145395766900005,
           2.8351534018700004,
           2.07232678376
          ],
          [
           4.47651901161,
           4.37716534309,
           3.41748367893,
           2.6809318928500003
          ],
          [
           7.020227267530001,
           7.71366651402,
           6.166594999580001,
           4.5503422788800005
          ]
         ],
         "zmax": 8.56955510337,
         "zmin": 0.325727350016
        },
        {
         "colorbar": {
          "title": {
           "text": "Drug Use (%)"
          }
         },
         "colorscale": [
          [
           0,
           "rgb(44,123,182)"
          ],
          [
           0.3333333333333333,
           "rgb(171,217,233)"
          ],
          [
           0.6666666666666666,
           "rgb(253,174,97)"
          ],
          [
           1,
           "rgb(215,25,28)"
          ]
         ],
         "dx": 1,
         "name": "2011",
         "type": "heatmap",
         "uid": "20f5e6f3-0d9e-4ad6-9883-4e7a14032dd8",
         "visible": false,
         "x": [
          "15-19",
          "20-24",
          "25-29",
          "30-34"
         ],
         "y": [
          "Brazil",
          "Canada",
          "China",
          "France",
          "Germany",
          "India",
          "Italy",
          "Japan",
          "Mexico",
          "Nigeria",
          "Russia",
          "Saudi Arabia",
          "South Africa",
          "Spain",
          "U.K.",
          "U.S."
         ],
         "z": [
          [
           1.88807649245,
           2.48933100058,
           2.2469155129700003,
           1.75045083499
          ],
          [
           5.9657085035,
           5.85234406254,
           4.27815233582,
           2.99037824503
          ],
          [
           1.5168037238,
           2.65937035897,
           2.65624498954,
           2.04268403438
          ],
          [
           2.69432317686,
           2.9491457962700003,
           2.5936061505700003,
           1.99295763161
          ],
          [
           2.10048264535,
           2.2904788320800002,
           1.97150784143,
           1.4740815166299999
          ],
          [
           0.45848170590899995,
           1.07553114183,
           1.2556963752399999,
           1.0801073514200001
          ],
          [
           3.1840117885500003,
           3.41599304202,
           2.85423088518,
           2.1878452905700003
          ],
          [
           1.89916264282,
           2.31478968441,
           1.92576680858,
           1.4059191987300002
          ],
          [
           1.43725582277,
           1.8300174485599998,
           1.64155528902,
           1.26983065089
          ],
          [
           0.34159667577200004,
           1.07380542137,
           1.24538320502,
           0.959442589871
          ],
          [
           1.7211733484599998,
           2.6223971751499997,
           2.57168322934,
           2.02836191634
          ],
          [
           1.01178004256,
           3.12431636378,
           4.03509615634,
           3.62478431167
          ],
          [
           1.23423356138,
           2.50054464637,
           2.73753264111,
           2.1531881421900003
          ],
          [
           3.9708730510400003,
           3.71896381396,
           2.8467946630000003,
           2.0759916401
          ],
          [
           4.422559393769999,
           4.350668712659998,
           3.3909833244,
           2.6642911506
          ],
          [
           7.01294773863,
           7.7643233056300005,
           6.26600280426,
           4.64728933692
          ]
         ],
         "zmax": 8.56955510337,
         "zmin": 0.325727350016
        },
        {
         "colorbar": {
          "title": {
           "text": "Drug Use (%)"
          }
         },
         "colorscale": [
          [
           0,
           "rgb(44,123,182)"
          ],
          [
           0.3333333333333333,
           "rgb(171,217,233)"
          ],
          [
           0.6666666666666666,
           "rgb(253,174,97)"
          ],
          [
           1,
           "rgb(215,25,28)"
          ]
         ],
         "dx": 1,
         "name": "2012",
         "type": "heatmap",
         "uid": "d552bb8e-c931-4f4b-8618-5b6475a9f259",
         "visible": false,
         "x": [
          "15-19",
          "20-24",
          "25-29",
          "30-34"
         ],
         "y": [
          "Brazil",
          "Canada",
          "China",
          "France",
          "Germany",
          "India",
          "Italy",
          "Japan",
          "Mexico",
          "Nigeria",
          "Russia",
          "Saudi Arabia",
          "South Africa",
          "Spain",
          "U.K.",
          "U.S."
         ],
         "z": [
          [
           1.89389733944,
           2.4987571289900004,
           2.2577943745200004,
           1.7590504807799998
          ],
          [
           5.91498291155,
           5.8300185534399995,
           4.27983898167,
           3.00261670213
          ],
          [
           1.5230136317700003,
           2.67429621293,
           2.67093943485,
           2.05425165778
          ],
          [
           2.69928286278,
           2.95245745696,
           2.59434205805,
           1.98853376607
          ],
          [
           2.0915285304599998,
           2.28302483159,
           1.96646026235,
           1.47347534081
          ],
          [
           0.45985574748499997,
           1.07856893266,
           1.2619700923700001,
           1.08654144812
          ],
          [
           3.1147318770499997,
           3.34895491887,
           2.80405933153,
           2.14482507738
          ],
          [
           1.900324151,
           2.3260095456,
           1.94121379733,
           1.4164247801699998
          ],
          [
           1.4585399304100002,
           1.83871288284,
           1.64517302282,
           1.27454508644
          ],
          [
           0.34084914892499996,
           1.0740301222000002,
           1.24413449606,
           0.964884916859
          ],
          [
           1.70390241537,
           2.57915965429,
           2.53515981978,
           2.01199784694
          ],
          [
           1.02042084681,
           3.17319273946,
           4.09753264056,
           3.6666085917
          ],
          [
           1.21018892495,
           2.45677783287,
           2.69318578919,
           2.1143802095299997
          ],
          [
           3.9855809673500002,
           3.73455374206,
           2.8514286837,
           2.0833048582
          ],
          [
           4.36993823781,
           4.318979369719999,
           3.3604937092,
           2.64441888208
          ],
          [
           7.017891699480001,
           7.84140912602,
           6.39102784779,
           4.75970593141
          ]
         ],
         "zmax": 8.56955510337,
         "zmin": 0.325727350016
        },
        {
         "colorbar": {
          "title": {
           "text": "Drug Use (%)"
          }
         },
         "colorscale": [
          [
           0,
           "rgb(44,123,182)"
          ],
          [
           0.3333333333333333,
           "rgb(171,217,233)"
          ],
          [
           0.6666666666666666,
           "rgb(253,174,97)"
          ],
          [
           1,
           "rgb(215,25,28)"
          ]
         ],
         "dx": 1,
         "name": "2013",
         "type": "heatmap",
         "uid": "cdce8c30-6144-44b3-8b8b-19f502784397",
         "visible": false,
         "x": [
          "15-19",
          "20-24",
          "25-29",
          "30-34"
         ],
         "y": [
          "Brazil",
          "Canada",
          "China",
          "France",
          "Germany",
          "India",
          "Italy",
          "Japan",
          "Mexico",
          "Nigeria",
          "Russia",
          "Saudi Arabia",
          "South Africa",
          "Spain",
          "U.K.",
          "U.S."
         ],
         "z": [
          [
           1.89928546907,
           2.51018203821,
           2.27090901386,
           1.76864035561
          ],
          [
           5.875453321869999,
           5.83002367151,
           4.29763623712,
           3.0248175191500004
          ],
          [
           1.5306621583700002,
           2.69649003468,
           2.69193564571,
           2.0709676705
          ],
          [
           2.70434034082,
           2.94835658001,
           2.58114463987,
           1.97987560259
          ],
          [
           2.08754890341,
           2.26225313699,
           1.95619352937,
           1.47005839326
          ],
          [
           0.462482450161,
           1.08181786685,
           1.2679677496100001,
           1.09392288338
          ],
          [
           3.0350065095599996,
           3.27105392941,
           2.74436078435,
           2.10128267997
          ],
          [
           1.9014178120900003,
           2.33741968188,
           1.95585450373,
           1.4285421851
          ],
          [
           1.47848598331,
           1.85284144478,
           1.6527828670000002,
           1.28015260451
          ],
          [
           0.34044627921000004,
           1.0768695551799998,
           1.24743702516,
           0.968154923638
          ],
          [
           1.68102040264,
           2.52182563901,
           2.4817353391599997,
           1.98486314046
          ],
          [
           1.03327505653,
           3.21267922638,
           4.15046407857,
           3.7083648766800006
          ],
          [
           1.18618930126,
           2.41034892464,
           2.64115012593,
           2.07073354732
          ],
          [
           4.001674233459999,
           3.76404097189,
           2.86515949761,
           2.09238038099
          ],
          [
           4.31308582329,
           4.281134817190001,
           3.3287517944200005,
           2.6216742205
          ],
          [
           7.033786961110001,
           7.941815887410001,
           6.5338723418699995,
           4.8925107701
          ]
         ],
         "zmax": 8.56955510337,
         "zmin": 0.325727350016
        },
        {
         "colorbar": {
          "title": {
           "text": "Drug Use (%)"
          }
         },
         "colorscale": [
          [
           0,
           "rgb(44,123,182)"
          ],
          [
           0.3333333333333333,
           "rgb(171,217,233)"
          ],
          [
           0.6666666666666666,
           "rgb(253,174,97)"
          ],
          [
           1,
           "rgb(215,25,28)"
          ]
         ],
         "dx": 1,
         "name": "2014",
         "type": "heatmap",
         "uid": "8d217051-092b-4860-8a76-8b1716d69aeb",
         "visible": false,
         "x": [
          "15-19",
          "20-24",
          "25-29",
          "30-34"
         ],
         "y": [
          "Brazil",
          "Canada",
          "China",
          "France",
          "Germany",
          "India",
          "Italy",
          "Japan",
          "Mexico",
          "Nigeria",
          "Russia",
          "Saudi Arabia",
          "South Africa",
          "Spain",
          "U.K.",
          "U.S."
         ],
         "z": [
          [
           1.90198870836,
           2.52310869681,
           2.2850008601600003,
           1.7801964373900003
          ],
          [
           5.84985630483,
           5.83663337278,
           4.31759343828,
           3.06354573752
          ],
          [
           1.53967401937,
           2.72367397931,
           2.7203769503,
           2.0949242976900004
          ],
          [
           2.70773058884,
           2.93899033977,
           2.5655268820500003,
           1.96585660509
          ],
          [
           2.09078677806,
           2.24887741211,
           1.9364263723500001,
           1.46285468125
          ],
          [
           0.467096384883,
           1.08625792001,
           1.27363991656,
           1.10132695887
          ],
          [
           2.94884806422,
           3.18307964473,
           2.6769078091100003,
           2.05482323618
          ],
          [
           1.90360065019,
           2.35100660806,
           1.97383733285,
           1.4412941916100002
          ],
          [
           1.4956521991299998,
           1.86747887063,
           1.6642693520899998,
           1.28993341035
          ],
          [
           0.33983450174099994,
           1.07719909207,
           1.2491363604299999,
           0.973865644937
          ],
          [
           1.6531686106499999,
           2.45211696665,
           2.41176015465,
           1.9471409086400002
          ],
          [
           1.0427247954899999,
           3.2615215669700004,
           4.19419393209,
           3.75002627473
          ],
          [
           1.16651499515,
           2.3580899263,
           2.5832523587900003,
           2.02286782317
          ],
          [
           4.01729352915,
           3.7913745622099997,
           2.89184577293,
           2.10198653759
          ],
          [
           4.2524278003600005,
           4.23776674919,
           3.2939174287899995,
           2.59667610327
          ],
          [
           7.06237171599,
           8.06476903671,
           6.694422586669999,
           5.03882321518
          ]
         ],
         "zmax": 8.56955510337,
         "zmin": 0.325727350016
        },
        {
         "colorbar": {
          "title": {
           "text": "Drug Use (%)"
          }
         },
         "colorscale": [
          [
           0,
           "rgb(44,123,182)"
          ],
          [
           0.3333333333333333,
           "rgb(171,217,233)"
          ],
          [
           0.6666666666666666,
           "rgb(253,174,97)"
          ],
          [
           1,
           "rgb(215,25,28)"
          ]
         ],
         "dx": 1,
         "name": "2015",
         "type": "heatmap",
         "uid": "b138baed-22b3-43d5-91ac-873567325f30",
         "visible": false,
         "x": [
          "15-19",
          "20-24",
          "25-29",
          "30-34"
         ],
         "y": [
          "Brazil",
          "Canada",
          "China",
          "France",
          "Germany",
          "India",
          "Italy",
          "Japan",
          "Mexico",
          "Nigeria",
          "Russia",
          "Saudi Arabia",
          "South Africa",
          "Spain",
          "U.K.",
          "U.S."
         ],
         "z": [
          [
           1.90026256036,
           2.53468908787,
           2.30211131435,
           1.7923681053599998
          ],
          [
           5.83461280839,
           5.857913029100001,
           4.34812289637,
           3.1120477713200003
          ],
          [
           1.55050396506,
           2.76089241834,
           2.75752031223,
           2.12449284075
          ],
          [
           2.7181570580799996,
           2.92228944348,
           2.53947413225,
           1.94246680396
          ],
          [
           2.0953648468400004,
           2.2443576067900004,
           1.91677867808,
           1.45389109456
          ],
          [
           0.474345779848,
           1.09165067043,
           1.28002159057,
           1.10883178594
          ],
          [
           2.85975354288,
           3.0850395640599997,
           2.6036505219099997,
           2.00263384652
          ],
          [
           1.90567838658,
           2.36511540201,
           1.99184654332,
           1.45516527861
          ],
          [
           1.5113952579499998,
           1.88735463638,
           1.6782464675600002,
           1.30175710717
          ],
          [
           0.341279844515,
           1.07946716649,
           1.25586862892,
           0.9759772023019999
          ],
          [
           1.6214376765499998,
           2.37200499494,
           2.33011148957,
           1.9009044500999999
          ],
          [
           1.0538666883,
           3.29277930098,
           4.23720721836,
           3.77019236708
          ],
          [
           1.1467446828299999,
           2.3052202491,
           2.5209775566,
           1.97157186016
          ],
          [
           4.04068447805,
           3.82498630982,
           2.91563005255,
           2.1134627775799997
          ],
          [
           4.1880411874300005,
           4.18707186904,
           3.2577022306500005,
           2.5705925717
          ],
          [
           7.10475028174,
           8.2113884477,
           6.872668824600001,
           5.19770796111
          ]
         ],
         "zmax": 8.56955510337,
         "zmin": 0.325727350016
        },
        {
         "colorbar": {
          "title": {
           "text": "Drug Use (%)"
          }
         },
         "colorscale": [
          [
           0,
           "rgb(44,123,182)"
          ],
          [
           0.3333333333333333,
           "rgb(171,217,233)"
          ],
          [
           0.6666666666666666,
           "rgb(253,174,97)"
          ],
          [
           1,
           "rgb(215,25,28)"
          ]
         ],
         "dx": 1,
         "name": "2016",
         "type": "heatmap",
         "uid": "82c4867b-5a76-446a-a075-2836b2ed9ed6",
         "visible": false,
         "x": [
          "15-19",
          "20-24",
          "25-29",
          "30-34"
         ],
         "y": [
          "Brazil",
          "Canada",
          "China",
          "France",
          "Germany",
          "India",
          "Italy",
          "Japan",
          "Mexico",
          "Nigeria",
          "Russia",
          "Saudi Arabia",
          "South Africa",
          "Spain",
          "U.K.",
          "U.S."
         ],
         "z": [
          [
           1.89487161796,
           2.546020474,
           2.32074495474,
           1.80412041963
          ],
          [
           5.82973804375,
           5.89308515319,
           4.40132858017,
           3.1608961728
          ],
          [
           1.56136013463,
           2.80119140273,
           2.8017098652,
           2.1576687899
          ],
          [
           2.7328658686300003,
           2.8984226952500003,
           2.50691709882,
           1.91560703252
          ],
          [
           2.1103795060299997,
           2.2353410119,
           1.8906478082599998,
           1.44110291128
          ],
          [
           0.484992572345,
           1.0983225863700001,
           1.2863201896799998,
           1.11650670734
          ],
          [
           2.7610564071100003,
           2.98344041451,
           2.52818154224,
           1.94774060427
          ],
          [
           1.907232234,
           2.3792825173299996,
           2.0094167891,
           1.4686940328
          ],
          [
           1.5244130935100002,
           1.9102669907,
           1.69700458856,
           1.31750007434
          ],
          [
           0.339377434997,
           1.08077708322,
           1.25949198371,
           0.981546647131
          ],
          [
           1.58562908726,
           2.28375650204,
           2.23656568741,
           1.8470863007599998
          ],
          [
           1.0585931822499999,
           3.32189044676,
           4.2648593573700015,
           3.7969650935300003
          ],
          [
           1.12707909867,
           2.25044475836,
           2.4563776678,
           1.91554876652
          ],
          [
           4.05930626394,
           3.8497642197900004,
           2.94360593115,
           2.12523172313
          ],
          [
           4.1157314000300005,
           4.13067387421,
           3.21839027308,
           2.54280525896
          ],
          [
           7.16132436087,
           8.37808301109,
           7.063820177939999,
           5.3660356181500015
          ]
         ],
         "zmax": 8.56955510337,
         "zmin": 0.325727350016
        },
        {
         "colorbar": {
          "title": {
           "text": "Drug Use (%)"
          }
         },
         "colorscale": [
          [
           0,
           "rgb(44,123,182)"
          ],
          [
           0.3333333333333333,
           "rgb(171,217,233)"
          ],
          [
           0.6666666666666666,
           "rgb(253,174,97)"
          ],
          [
           1,
           "rgb(215,25,28)"
          ]
         ],
         "dx": 1,
         "name": "2017",
         "type": "heatmap",
         "uid": "ecb179e8-4b37-4273-a7e3-52f4d7538ac2",
         "visible": false,
         "x": [
          "15-19",
          "20-24",
          "25-29",
          "30-34"
         ],
         "y": [
          "Brazil",
          "Canada",
          "China",
          "France",
          "Germany",
          "India",
          "Italy",
          "Japan",
          "Mexico",
          "Nigeria",
          "Russia",
          "Saudi Arabia",
          "South Africa",
          "Spain",
          "U.K.",
          "U.S."
         ],
         "z": [
          [
           1.88483694787,
           2.55558149301,
           2.33759626727,
           1.8161089766499998
          ],
          [
           5.832441503359999,
           5.95114673712,
           4.45137739786,
           3.22177583587
          ],
          [
           1.57518003141,
           2.84832969648,
           2.8543946540599996,
           2.19774621201
          ],
          [
           2.74279443802,
           2.86034750997,
           2.46099562251,
           1.8741171845900002
          ],
          [
           2.11407314657,
           2.21190992199,
           1.85197185847,
           1.42500798745
          ],
          [
           0.498977545109,
           1.10698639151,
           1.2930693826000002,
           1.1235530270799998
          ],
          [
           2.65800956517,
           2.86982519385,
           2.4420154161400003,
           1.89246735704
          ],
          [
           1.9104232627200002,
           2.39577938411,
           2.02993864721,
           1.4842154909599998
          ],
          [
           1.53463957099,
           1.93636430791,
           1.72022090604,
           1.33386178796
          ],
          [
           0.339167273094,
           1.08387500994,
           1.2645978195299998,
           0.988625220808
          ],
          [
           1.54663970803,
           2.18731156458,
           2.1332039974200003,
           1.7861810590199998
          ],
          [
           1.06510396998,
           3.33750484662,
           4.29999881194,
           3.81130690579
          ],
          [
           1.10949445715,
           2.1932346574,
           2.38864831497,
           1.8595647208099997
          ],
          [
           4.0789674621700005,
           3.88135638103,
           2.97875396885,
           2.13627900561
          ],
          [
           4.037589477719999,
           4.06962176789,
           3.1761337109600003,
           2.51178456245
          ],
          [
           7.234779111210001,
           8.56955510337,
           7.262913203869999,
           5.54771992446
          ]
         ],
         "zmax": 8.56955510337,
         "zmin": 0.325727350016
        }
       ],
       "layout": {
        "sliders": [
         {
          "active": 0,
          "currentvalue": {
           "prefix": "Year: "
          },
          "pad": {
           "t": 25
          },
          "steps": [
           {
            "args": [
             "visible",
             [
              true,
              false,
              false,
              false,
              false,
              false,
              false,
              false,
              false,
              false,
              false,
              false,
              false,
              false,
              false,
              false,
              false,
              false,
              false,
              false,
              false,
              false,
              false,
              false,
              false,
              false,
              false,
              false
             ]
            ],
            "label": "1990"
           },
           {
            "args": [
             "visible",
             [
              false,
              true,
              false,
              false,
              false,
              false,
              false,
              false,
              false,
              false,
              false,
              false,
              false,
              false,
              false,
              false,
              false,
              false,
              false,
              false,
              false,
              false,
              false,
              false,
              false,
              false,
              false,
              false
             ]
            ],
            "label": "1991"
           },
           {
            "args": [
             "visible",
             [
              false,
              false,
              true,
              false,
              false,
              false,
              false,
              false,
              false,
              false,
              false,
              false,
              false,
              false,
              false,
              false,
              false,
              false,
              false,
              false,
              false,
              false,
              false,
              false,
              false,
              false,
              false,
              false
             ]
            ],
            "label": "1992"
           },
           {
            "args": [
             "visible",
             [
              false,
              false,
              false,
              true,
              false,
              false,
              false,
              false,
              false,
              false,
              false,
              false,
              false,
              false,
              false,
              false,
              false,
              false,
              false,
              false,
              false,
              false,
              false,
              false,
              false,
              false,
              false,
              false
             ]
            ],
            "label": "1993"
           },
           {
            "args": [
             "visible",
             [
              false,
              false,
              false,
              false,
              true,
              false,
              false,
              false,
              false,
              false,
              false,
              false,
              false,
              false,
              false,
              false,
              false,
              false,
              false,
              false,
              false,
              false,
              false,
              false,
              false,
              false,
              false,
              false
             ]
            ],
            "label": "1994"
           },
           {
            "args": [
             "visible",
             [
              false,
              false,
              false,
              false,
              false,
              true,
              false,
              false,
              false,
              false,
              false,
              false,
              false,
              false,
              false,
              false,
              false,
              false,
              false,
              false,
              false,
              false,
              false,
              false,
              false,
              false,
              false,
              false
             ]
            ],
            "label": "1995"
           },
           {
            "args": [
             "visible",
             [
              false,
              false,
              false,
              false,
              false,
              false,
              true,
              false,
              false,
              false,
              false,
              false,
              false,
              false,
              false,
              false,
              false,
              false,
              false,
              false,
              false,
              false,
              false,
              false,
              false,
              false,
              false,
              false
             ]
            ],
            "label": "1996"
           },
           {
            "args": [
             "visible",
             [
              false,
              false,
              false,
              false,
              false,
              false,
              false,
              true,
              false,
              false,
              false,
              false,
              false,
              false,
              false,
              false,
              false,
              false,
              false,
              false,
              false,
              false,
              false,
              false,
              false,
              false,
              false,
              false
             ]
            ],
            "label": "1997"
           },
           {
            "args": [
             "visible",
             [
              false,
              false,
              false,
              false,
              false,
              false,
              false,
              false,
              true,
              false,
              false,
              false,
              false,
              false,
              false,
              false,
              false,
              false,
              false,
              false,
              false,
              false,
              false,
              false,
              false,
              false,
              false,
              false
             ]
            ],
            "label": "1998"
           },
           {
            "args": [
             "visible",
             [
              false,
              false,
              false,
              false,
              false,
              false,
              false,
              false,
              false,
              true,
              false,
              false,
              false,
              false,
              false,
              false,
              false,
              false,
              false,
              false,
              false,
              false,
              false,
              false,
              false,
              false,
              false,
              false
             ]
            ],
            "label": "1999"
           },
           {
            "args": [
             "visible",
             [
              false,
              false,
              false,
              false,
              false,
              false,
              false,
              false,
              false,
              false,
              true,
              false,
              false,
              false,
              false,
              false,
              false,
              false,
              false,
              false,
              false,
              false,
              false,
              false,
              false,
              false,
              false,
              false
             ]
            ],
            "label": "2000"
           },
           {
            "args": [
             "visible",
             [
              false,
              false,
              false,
              false,
              false,
              false,
              false,
              false,
              false,
              false,
              false,
              true,
              false,
              false,
              false,
              false,
              false,
              false,
              false,
              false,
              false,
              false,
              false,
              false,
              false,
              false,
              false,
              false
             ]
            ],
            "label": "2001"
           },
           {
            "args": [
             "visible",
             [
              false,
              false,
              false,
              false,
              false,
              false,
              false,
              false,
              false,
              false,
              false,
              false,
              true,
              false,
              false,
              false,
              false,
              false,
              false,
              false,
              false,
              false,
              false,
              false,
              false,
              false,
              false,
              false
             ]
            ],
            "label": "2002"
           },
           {
            "args": [
             "visible",
             [
              false,
              false,
              false,
              false,
              false,
              false,
              false,
              false,
              false,
              false,
              false,
              false,
              false,
              true,
              false,
              false,
              false,
              false,
              false,
              false,
              false,
              false,
              false,
              false,
              false,
              false,
              false,
              false
             ]
            ],
            "label": "2003"
           },
           {
            "args": [
             "visible",
             [
              false,
              false,
              false,
              false,
              false,
              false,
              false,
              false,
              false,
              false,
              false,
              false,
              false,
              false,
              true,
              false,
              false,
              false,
              false,
              false,
              false,
              false,
              false,
              false,
              false,
              false,
              false,
              false
             ]
            ],
            "label": "2004"
           },
           {
            "args": [
             "visible",
             [
              false,
              false,
              false,
              false,
              false,
              false,
              false,
              false,
              false,
              false,
              false,
              false,
              false,
              false,
              false,
              true,
              false,
              false,
              false,
              false,
              false,
              false,
              false,
              false,
              false,
              false,
              false,
              false
             ]
            ],
            "label": "2005"
           },
           {
            "args": [
             "visible",
             [
              false,
              false,
              false,
              false,
              false,
              false,
              false,
              false,
              false,
              false,
              false,
              false,
              false,
              false,
              false,
              false,
              true,
              false,
              false,
              false,
              false,
              false,
              false,
              false,
              false,
              false,
              false,
              false
             ]
            ],
            "label": "2006"
           },
           {
            "args": [
             "visible",
             [
              false,
              false,
              false,
              false,
              false,
              false,
              false,
              false,
              false,
              false,
              false,
              false,
              false,
              false,
              false,
              false,
              false,
              true,
              false,
              false,
              false,
              false,
              false,
              false,
              false,
              false,
              false,
              false
             ]
            ],
            "label": "2007"
           },
           {
            "args": [
             "visible",
             [
              false,
              false,
              false,
              false,
              false,
              false,
              false,
              false,
              false,
              false,
              false,
              false,
              false,
              false,
              false,
              false,
              false,
              false,
              true,
              false,
              false,
              false,
              false,
              false,
              false,
              false,
              false,
              false
             ]
            ],
            "label": "2008"
           },
           {
            "args": [
             "visible",
             [
              false,
              false,
              false,
              false,
              false,
              false,
              false,
              false,
              false,
              false,
              false,
              false,
              false,
              false,
              false,
              false,
              false,
              false,
              false,
              true,
              false,
              false,
              false,
              false,
              false,
              false,
              false,
              false
             ]
            ],
            "label": "2009"
           },
           {
            "args": [
             "visible",
             [
              false,
              false,
              false,
              false,
              false,
              false,
              false,
              false,
              false,
              false,
              false,
              false,
              false,
              false,
              false,
              false,
              false,
              false,
              false,
              false,
              true,
              false,
              false,
              false,
              false,
              false,
              false,
              false
             ]
            ],
            "label": "2010"
           },
           {
            "args": [
             "visible",
             [
              false,
              false,
              false,
              false,
              false,
              false,
              false,
              false,
              false,
              false,
              false,
              false,
              false,
              false,
              false,
              false,
              false,
              false,
              false,
              false,
              false,
              true,
              false,
              false,
              false,
              false,
              false,
              false
             ]
            ],
            "label": "2011"
           },
           {
            "args": [
             "visible",
             [
              false,
              false,
              false,
              false,
              false,
              false,
              false,
              false,
              false,
              false,
              false,
              false,
              false,
              false,
              false,
              false,
              false,
              false,
              false,
              false,
              false,
              false,
              true,
              false,
              false,
              false,
              false,
              false
             ]
            ],
            "label": "2012"
           },
           {
            "args": [
             "visible",
             [
              false,
              false,
              false,
              false,
              false,
              false,
              false,
              false,
              false,
              false,
              false,
              false,
              false,
              false,
              false,
              false,
              false,
              false,
              false,
              false,
              false,
              false,
              false,
              true,
              false,
              false,
              false,
              false
             ]
            ],
            "label": "2013"
           },
           {
            "args": [
             "visible",
             [
              false,
              false,
              false,
              false,
              false,
              false,
              false,
              false,
              false,
              false,
              false,
              false,
              false,
              false,
              false,
              false,
              false,
              false,
              false,
              false,
              false,
              false,
              false,
              false,
              true,
              false,
              false,
              false
             ]
            ],
            "label": "2014"
           },
           {
            "args": [
             "visible",
             [
              false,
              false,
              false,
              false,
              false,
              false,
              false,
              false,
              false,
              false,
              false,
              false,
              false,
              false,
              false,
              false,
              false,
              false,
              false,
              false,
              false,
              false,
              false,
              false,
              false,
              true,
              false,
              false
             ]
            ],
            "label": "2015"
           },
           {
            "args": [
             "visible",
             [
              false,
              false,
              false,
              false,
              false,
              false,
              false,
              false,
              false,
              false,
              false,
              false,
              false,
              false,
              false,
              false,
              false,
              false,
              false,
              false,
              false,
              false,
              false,
              false,
              false,
              false,
              true,
              false
             ]
            ],
            "label": "2016"
           },
           {
            "args": [
             "visible",
             [
              false,
              false,
              false,
              false,
              false,
              false,
              false,
              false,
              false,
              false,
              false,
              false,
              false,
              false,
              false,
              false,
              false,
              false,
              false,
              false,
              false,
              false,
              false,
              false,
              false,
              false,
              false,
              true
             ]
            ],
            "label": "2017"
           }
          ]
         }
        ],
        "title": {
         "text": "Drug Use per Age Group (1990-2017)"
        },
        "xaxis": {
         "tickmode": "array",
         "title": {
          "text": "Age Group"
         }
        }
       }
      },
      "text/html": [
       "<div id=\"5fbf5cdb-3e5d-454e-9f7b-3f2f73fd36ac\" style=\"height: 525px; width: 100%;\" class=\"plotly-graph-div\"></div><script type=\"text/javascript\">require([\"plotly\"], function(Plotly) { window.PLOTLYENV=window.PLOTLYENV || {};window.PLOTLYENV.BASE_URL=\"https://plot.ly\";\n",
       "if (document.getElementById(\"5fbf5cdb-3e5d-454e-9f7b-3f2f73fd36ac\")) {\n",
       "    Plotly.newPlot(\"5fbf5cdb-3e5d-454e-9f7b-3f2f73fd36ac\", [{\"colorbar\": {\"title\": {\"text\": \"Drug Use (%)\"}}, \"colorscale\": [[0.0, \"rgb(44,123,182)\"], [0.3333333333333333, \"rgb(171,217,233)\"], [0.6666666666666666, \"rgb(253,174,97)\"], [1.0, \"rgb(215,25,28)\"]], \"dx\": 1, \"name\": \"1990\", \"visible\": true, \"x\": [\"15-19\", \"20-24\", \"25-29\", \"30-34\"], \"y\": [\"Brazil\", \"Canada\", \"China\", \"France\", \"Germany\", \"India\", \"Italy\", \"Japan\", \"Mexico\", \"Nigeria\", \"Russia\", \"Saudi Arabia\", \"South Africa\", \"Spain\", \"U.K.\", \"U.S.\"], \"z\": [[1.6633605892399999, 2.2978419034, 2.09982288413, 1.6382403631299998], [4.81463031055, 4.74208148322, 3.51161279227, 2.50894924383], [1.65172804557, 3.0641978265499996, 3.06689662769, 2.2874401185099997], [2.64245556414, 2.57434546373, 2.13294615803, 1.6106765049899998], [1.9490555321599998, 1.9578386114200002, 1.62050147308, 1.2286484897], [0.456663990744, 1.05931661813, 1.22250042836, 1.0372360115], [3.11030695207, 3.2631325594800002, 2.7027772221599995, 2.0372354263099997], [1.88306876875, 2.24913343432, 1.86148974968, 1.35495733921], [1.30104364611, 1.88768897519, 1.74182768348, 1.32856415737], [0.325727350016, 1.0307749342299999, 1.19599213267, 0.9180517020360001], [1.57072588561, 2.26947895515, 2.10259262427, 1.5937998006099998], [0.892179734943, 2.67909821744, 3.4609362641300003, 3.0705232295099996], [1.5828893394999999, 2.96310908162, 3.27643411186, 2.6884652603799997], [3.03070066852, 3.0688772857999997, 2.46458715874, 1.79458994322], [3.94787987515, 3.7604055097099995, 2.8134561423199997, 2.10305017329], [5.25457371961, 6.10912680489, 4.96662168808, 3.6551757648300005]], \"zmax\": 8.56955510337, \"zmin\": 0.325727350016, \"type\": \"heatmap\", \"uid\": \"334fe853-e956-4c4f-b30a-c7feccd573e2\"}, {\"colorbar\": {\"title\": {\"text\": \"Drug Use (%)\"}}, \"colorscale\": [[0.0, \"rgb(44,123,182)\"], [0.3333333333333333, \"rgb(171,217,233)\"], [0.6666666666666666, \"rgb(253,174,97)\"], [1.0, \"rgb(215,25,28)\"]], \"dx\": 1, \"name\": \"1991\", \"visible\": false, \"x\": [\"15-19\", \"20-24\", \"25-29\", \"30-34\"], \"y\": [\"Brazil\", \"Canada\", \"China\", \"France\", \"Germany\", \"India\", \"Italy\", \"Japan\", \"Mexico\", \"Nigeria\", \"Russia\", \"Saudi Arabia\", \"South Africa\", \"Spain\", \"U.K.\", \"U.S.\"], \"z\": [[1.67329844455, 2.30859923545, 2.10158895318, 1.6400366063499998], [4.856538196340002, 4.7685904934800005, 3.5220844306699997, 2.5201247811200003], [1.65386518468, 3.08352371773, 3.0942123485, 2.3015187236099997], [2.56774856441, 2.5018081705400004, 2.09197295064, 1.58548801831], [1.94487840982, 1.9332718858000002, 1.59371899067, 1.21242412161], [0.435687610859, 1.04293887269, 1.21242692327, 1.0289859530399998], [3.11008714599, 3.27054834906, 2.71496270334, 2.04338536901], [1.8841520981200002, 2.24492530995, 1.85575700747, 1.35220153461], [1.2944520274200002, 1.88831241187, 1.74444000574, 1.33140971185], [0.33206532681400003, 1.04496350597, 1.21217083652, 0.924260411172], [1.58538941683, 2.3103479244400003, 2.1395073858, 1.6159595906899995], [0.898275837406, 2.69004730196, 3.47654512312, 3.09232821108], [1.63670792563, 3.0499953177499997, 3.3512263998600003, 2.7276178002599996], [3.0358227770200004, 3.03728387898, 2.4595672895900003, 1.79777507319], [3.9957123608, 3.84203175279, 2.89620878755, 2.16279321522], [5.403151801569999, 6.06425195982, 4.79390337824, 3.5124678831000002]], \"zmax\": 8.56955510337, \"zmin\": 0.325727350016, \"type\": \"heatmap\", \"uid\": \"2859c7b4-3cdd-40c4-8fa1-03471d8a90a0\"}, {\"colorbar\": {\"title\": {\"text\": \"Drug Use (%)\"}}, \"colorscale\": [[0.0, \"rgb(44,123,182)\"], [0.3333333333333333, \"rgb(171,217,233)\"], [0.6666666666666666, \"rgb(253,174,97)\"], [1.0, \"rgb(215,25,28)\"]], \"dx\": 1, \"name\": \"1992\", \"visible\": false, \"x\": [\"15-19\", \"20-24\", \"25-29\", \"30-34\"], \"y\": [\"Brazil\", \"Canada\", \"China\", \"France\", \"Germany\", \"India\", \"Italy\", \"Japan\", \"Mexico\", \"Nigeria\", \"Russia\", \"Saudi Arabia\", \"South Africa\", \"Spain\", \"U.K.\", \"U.S.\"], \"z\": [[1.6831343931000002, 2.31596963051, 2.10674199226, 1.6403185756299998], [4.94227824458, 4.816009396459999, 3.5482613250000004, 2.53415736002], [1.6555787100100001, 3.0967904979900003, 3.11258285941, 2.31327645209], [2.49774492927, 2.4382554534, 2.05713663785, 1.57132543859], [1.94877454502, 1.9158628104099997, 1.57704374731, 1.1983392497799998], [0.4233473049630001, 1.03282995508, 1.20625850775, 1.02412808037], [3.12090844343, 3.2790670656700005, 2.72585248734, 2.05197181598], [1.8854964655500002, 2.24104830261, 1.84961603413, 1.3485557164200002], [1.29001963874, 1.8880081278099998, 1.7479415306, 1.3351335150399999], [0.330378089184, 1.05636354886, 1.2312956937700001, 0.934636581422], [1.60030435176, 2.3517192520599997, 2.17885433788, 1.6391062397899998], [0.8973715917920001, 2.70299439022, 3.48638811885, 3.10359454782], [1.6836038095299999, 3.1261013216299998, 3.4123149487199997, 2.7626137125200003], [3.0568136966500004, 3.0107241540400005, 2.46120038091, 1.8098422258200002], [4.046342355159999, 3.919296626830001, 2.9738086024699997, 2.21829686074], [5.58262154602, 6.0509265051100005, 4.668558106590001, 3.41003027166]], \"zmax\": 8.56955510337, \"zmin\": 0.325727350016, \"type\": \"heatmap\", \"uid\": \"8dc4ca3f-e20c-4a51-b765-f0e33c1ff6ed\"}, {\"colorbar\": {\"title\": {\"text\": \"Drug Use (%)\"}}, \"colorscale\": [[0.0, \"rgb(44,123,182)\"], [0.3333333333333333, \"rgb(171,217,233)\"], [0.6666666666666666, \"rgb(253,174,97)\"], [1.0, \"rgb(215,25,28)\"]], \"dx\": 1, \"name\": \"1993\", \"visible\": false, \"x\": [\"15-19\", \"20-24\", \"25-29\", \"30-34\"], \"y\": [\"Brazil\", \"Canada\", \"China\", \"France\", \"Germany\", \"India\", \"Italy\", \"Japan\", \"Mexico\", \"Nigeria\", \"Russia\", \"Saudi Arabia\", \"South Africa\", \"Spain\", \"U.K.\", \"U.S.\"], \"z\": [[1.6891689122500002, 2.3234967661700003, 2.1072220765700003, 1.64014426413], [5.04804681245, 4.886650825, 3.58091156697, 2.55777152319], [1.6540241528100001, 3.1060041821900004, 3.12472018682, 2.32231961221], [2.4615479471599997, 2.38561086737, 2.02986173189, 1.55859661118], [1.96188522688, 1.9034741073, 1.56408954128, 1.1885048159], [0.416580280285, 1.02637972927, 1.20233353787, 1.02091820911], [3.15190985768, 3.2965029394500003, 2.7379708575, 2.05995789768], [1.8868768340900002, 2.2396857835599997, 1.84505591721, 1.34628500568], [1.2856608151, 1.88612696922, 1.7500897817200003, 1.33707064963], [0.33191308265, 1.0668443299, 1.2425165768700002, 0.9420912088339999], [1.61661581856, 2.39247894328, 2.22003328352, 1.6647044999999998], [0.8990115251440001, 2.71211798638, 3.4958457913300003, 3.1214495561799995], [1.71783543068, 3.1840074022900002, 3.4630539084099996, 2.78754655306], [3.0663749321499996, 3.0033236178099996, 2.4660461217400003, 1.8232246026599996], [4.09660929941, 3.98716154991, 3.03963513268, 2.26650231727], [5.78510888546, 6.0640623382399985, 4.58765291009, 3.3415071402999996]], \"zmax\": 8.56955510337, \"zmin\": 0.325727350016, \"type\": \"heatmap\", \"uid\": \"5198a7aa-70bd-487f-ae98-00e2254b99d4\"}, {\"colorbar\": {\"title\": {\"text\": \"Drug Use (%)\"}}, \"colorscale\": [[0.0, \"rgb(44,123,182)\"], [0.3333333333333333, \"rgb(171,217,233)\"], [0.6666666666666666, \"rgb(253,174,97)\"], [1.0, \"rgb(215,25,28)\"]], \"dx\": 1, \"name\": \"1994\", \"visible\": false, \"x\": [\"15-19\", \"20-24\", \"25-29\", \"30-34\"], \"y\": [\"Brazil\", \"Canada\", \"China\", \"France\", \"Germany\", \"India\", \"Italy\", \"Japan\", \"Mexico\", \"Nigeria\", \"Russia\", \"Saudi Arabia\", \"South Africa\", \"Spain\", \"U.K.\", \"U.S.\"], \"z\": [[1.6943877930000002, 2.3254909066900002, 2.10710187459, 1.6399375123299997], [5.17687311335, 4.9569814626, 3.62961438781, 2.5845266817400003], [1.6522244375, 3.11037752059, 3.1328699231, 2.32936965403], [2.42486449402, 2.35582049578, 2.0178502539600003, 1.5530264393000002], [1.98182368496, 1.9021394798299998, 1.55502198211, 1.1843837445], [0.413221916134, 1.02366560351, 1.20088772141, 1.01877910687], [3.1743130225800003, 3.31559784957, 2.7524987128400005, 2.0781652095900003], [1.8883050382599997, 2.2388164077200003, 1.8428866710200005, 1.345410302], [1.28324083143, 1.88514129399, 1.75129714529, 1.33842213879], [0.335323335413, 1.0753185339700002, 1.24835101953, 0.949404603012], [1.6314944087099998, 2.43244441551, 2.2615691979299997, 1.69122791791], [0.903274535338, 2.7125989338800003, 3.4994029331800003, 3.13144233298], [1.7412406039, 3.22534879022, 3.4969028954300003, 2.8063876065499995], [3.08801527381, 3.00498205222, 2.47592298152, 1.8363774726], [4.1431708380000005, 4.0444754002900005, 3.09168666943, 2.30552250272], [6.00654981786, 6.10049745608, 4.5430843459600005, 3.3049335337400003]], \"zmax\": 8.56955510337, \"zmin\": 0.325727350016, \"type\": \"heatmap\", \"uid\": \"cbf37c9e-b4ea-41ff-87aa-ad5f975b9703\"}, {\"colorbar\": {\"title\": {\"text\": \"Drug Use (%)\"}}, \"colorscale\": [[0.0, \"rgb(44,123,182)\"], [0.3333333333333333, \"rgb(171,217,233)\"], [0.6666666666666666, \"rgb(253,174,97)\"], [1.0, \"rgb(215,25,28)\"]], \"dx\": 1, \"name\": \"1995\", \"visible\": false, \"x\": [\"15-19\", \"20-24\", \"25-29\", \"30-34\"], \"y\": [\"Brazil\", \"Canada\", \"China\", \"France\", \"Germany\", \"India\", \"Italy\", \"Japan\", \"Mexico\", \"Nigeria\", \"Russia\", \"Saudi Arabia\", \"South Africa\", \"Spain\", \"U.K.\", \"U.S.\"], \"z\": [[1.6968111173299998, 2.32517996954, 2.10592248152, 1.6392077601], [5.312956210489999, 5.0393888017199995, 3.67803636881, 2.6116249268900003], [1.64874344103, 3.1095043946599996, 3.1358680209599994, 2.3338953385599996], [2.41779810442, 2.34352672809, 2.01149819034, 1.55296833178], [2.00136263955, 1.90728693698, 1.55553663019, 1.1839426438299998], [0.412808853824, 1.0232216291299998, 1.20104928154, 1.0177094151700001], [3.19482787385, 3.33329093222, 2.7672926863800003, 2.09076842742], [1.8888199491099997, 2.2396804706299998, 1.8418786141900003, 1.34434990455], [1.28267066943, 1.88575494657, 1.7524012644799998, 1.33991566824], [0.335933928732, 1.0787554881799999, 1.2524210430299998, 0.953513078581], [1.6465035419799998, 2.4700383904599996, 2.30506870598, 1.71776461072], [0.90468497373, 2.7239512265400005, 3.51306531068, 3.1365168204100002], [1.75126485979, 3.24816209688, 3.5148323722500003, 2.8165901364700003], [3.1062347969, 3.0176105319700004, 2.47827878547, 1.84602057304], [4.184997244340002, 4.08755474047, 3.1249336535200003, 2.33398493282], [6.242017723019999, 6.1547712832900014, 4.5294925808199995, 3.29355496348]], \"zmax\": 8.56955510337, \"zmin\": 0.325727350016, \"type\": \"heatmap\", \"uid\": \"d17cf457-3a57-4c2e-b4fa-1d47133dbaa1\"}, {\"colorbar\": {\"title\": {\"text\": \"Drug Use (%)\"}}, \"colorscale\": [[0.0, \"rgb(44,123,182)\"], [0.3333333333333333, \"rgb(171,217,233)\"], [0.6666666666666666, \"rgb(253,174,97)\"], [1.0, \"rgb(215,25,28)\"]], \"dx\": 1, \"name\": \"1996\", \"visible\": false, \"x\": [\"15-19\", \"20-24\", \"25-29\", \"30-34\"], \"y\": [\"Brazil\", \"Canada\", \"China\", \"France\", \"Germany\", \"India\", \"Italy\", \"Japan\", \"Mexico\", \"Nigeria\", \"Russia\", \"Saudi Arabia\", \"South Africa\", \"Spain\", \"U.K.\", \"U.S.\"], \"z\": [[1.6993191530799998, 2.32514074814, 2.1051758603299997, 1.6349430516699999], [5.53651116633, 5.21369001365, 3.7929616837999998, 2.6797228898], [1.64129295041, 3.09550452252, 3.12456572954, 2.32872235436], [2.44432953955, 2.35009698977, 2.0192082307200003, 1.55550094074], [2.0314008770500003, 1.92382114695, 1.5638897982799997, 1.19282014133], [0.42585278651600006, 1.03253855847, 1.20640606037, 1.0208440138], [3.2461453301, 3.3703688187600003, 2.80610836005, 2.12018853877], [1.88738462556, 2.23950060555, 1.84182320004, 1.34473309919], [1.28117717328, 1.88214411174, 1.75073127558, 1.3395551453299999], [0.33741498396499997, 1.07651702783, 1.25216217248, 0.95411468513], [1.66275000706, 2.51345630579, 2.35678269994, 1.75211847936], [0.905482705736, 2.72909503601, 3.5201168315800007, 3.14088896742], [1.7344605457099997, 3.24215428681, 3.5146842840300008, 2.81233180619], [3.1621665293900003, 3.03988246456, 2.49633725682, 1.86801508312], [4.25364463861, 4.12035409417, 3.1442529610500003, 2.3535177116500003], [6.5559857079100015, 6.321377375469999, 4.6044421057600005, 3.3470711746]], \"zmax\": 8.56955510337, \"zmin\": 0.325727350016, \"type\": \"heatmap\", \"uid\": \"87a97776-9e63-4aee-9c9f-f30c369a5109\"}, {\"colorbar\": {\"title\": {\"text\": \"Drug Use (%)\"}}, \"colorscale\": [[0.0, \"rgb(44,123,182)\"], [0.3333333333333333, \"rgb(171,217,233)\"], [0.6666666666666666, \"rgb(253,174,97)\"], [1.0, \"rgb(215,25,28)\"]], \"dx\": 1, \"name\": \"1997\", \"visible\": false, \"x\": [\"15-19\", \"20-24\", \"25-29\", \"30-34\"], \"y\": [\"Brazil\", \"Canada\", \"China\", \"France\", \"Germany\", \"India\", \"Italy\", \"Japan\", \"Mexico\", \"Nigeria\", \"Russia\", \"Saudi Arabia\", \"South Africa\", \"Spain\", \"U.K.\", \"U.S.\"], \"z\": [[1.70705829422, 2.3256801786500003, 2.10343866593, 1.6327202016100002], [5.84599105913, 5.49549410737, 3.9987673636000003, 2.80379463399], [1.62950796677, 3.05835286088, 3.09231369082, 2.31039257072], [2.49745653021, 2.38819772018, 2.03905512212, 1.56817749514], [2.09288807373, 1.96455873559, 1.5852062592700003, 1.21007072312], [0.454102664414, 1.0523246652399998, 1.21789289961, 1.02683540395], [3.31303096292, 3.43033974069, 2.8656091869, 2.17538129528], [1.8818640573, 2.2372670861099997, 1.8421320331400002, 1.34572288835], [1.27827084277, 1.87425166129, 1.7463975770099998, 1.33734952909], [0.34008736229900005, 1.0766020349599998, 1.2513999263, 0.951430687902], [1.6817861234999998, 2.56549248157, 2.41828521882, 1.7948142511200003], [0.908058066555, 2.7403050136, 3.5363492777900003, 3.14680984103], [1.6918954563799997, 3.20724976144, 3.4879960164400003, 2.7945767761799996], [3.2664117906, 3.10838906815, 2.54170162055, 1.91500476281], [4.3646552721499985, 4.15030264394, 3.15793495569, 2.3699089946900003], [6.958617782869999, 6.625228257720001, 4.7879857236499985, 3.4769969301199994]], \"zmax\": 8.56955510337, \"zmin\": 0.325727350016, \"type\": \"heatmap\", \"uid\": \"a762eba1-d0ac-4d80-8966-666919184531\"}, {\"colorbar\": {\"title\": {\"text\": \"Drug Use (%)\"}}, \"colorscale\": [[0.0, \"rgb(44,123,182)\"], [0.3333333333333333, \"rgb(171,217,233)\"], [0.6666666666666666, \"rgb(253,174,97)\"], [1.0, \"rgb(215,25,28)\"]], \"dx\": 1, \"name\": \"1998\", \"visible\": false, \"x\": [\"15-19\", \"20-24\", \"25-29\", \"30-34\"], \"y\": [\"Brazil\", \"Canada\", \"China\", \"France\", \"Germany\", \"India\", \"Italy\", \"Japan\", \"Mexico\", \"Nigeria\", \"Russia\", \"Saudi Arabia\", \"South Africa\", \"Spain\", \"U.K.\", \"U.S.\"], \"z\": [[1.7144656771899998, 2.3281367255400003, 2.10307737194, 1.6293112932999998], [6.1766668109800005, 5.80132342034, 4.2222182935, 2.9466026770599996], [1.61241488944, 3.0075904463200005, 3.0486773858999996, 2.28414084345], [2.5742492448700003, 2.43235742363, 2.0595127632400003, 1.58274101919], [2.15450070771, 1.9999913788599997, 1.61278182802, 1.2263548856], [0.489744165241, 1.07540258145, 1.2310020748200001, 1.0364613565799998], [3.3883549840200002, 3.50413821676, 2.9324721952900004, 2.2354279220400004], [1.8757348782, 2.23654039336, 1.84290317367, 1.3460482774], [1.27560246444, 1.86354217348, 1.7391767109799998, 1.33436981618], [0.342507437833, 1.07423913974, 1.24772857373, 0.949126554329], [1.6990424164000002, 2.61614301525, 2.47933614629, 1.83816411211], [0.9107850059029999, 2.7521987153099996, 3.54359380026, 3.15079687201], [1.6373699053500002, 3.1585739848100003, 3.45327602638, 2.76904629025], [3.39911833403, 3.1981646016900003, 2.60738403509, 1.9663411838599998], [4.486748264059999, 4.17659961044, 3.17205804481, 2.3855929386200003], [7.36679078303, 6.981196291940002, 5.01942929354, 3.64259540012]], \"zmax\": 8.56955510337, \"zmin\": 0.325727350016, \"type\": \"heatmap\", \"uid\": \"6b2d9de9-ea9c-4e3e-9c96-a6159ac98382\"}, {\"colorbar\": {\"title\": {\"text\": \"Drug Use (%)\"}}, \"colorscale\": [[0.0, \"rgb(44,123,182)\"], [0.3333333333333333, \"rgb(171,217,233)\"], [0.6666666666666666, \"rgb(253,174,97)\"], [1.0, \"rgb(215,25,28)\"]], \"dx\": 1, \"name\": \"1999\", \"visible\": false, \"x\": [\"15-19\", \"20-24\", \"25-29\", \"30-34\"], \"y\": [\"Brazil\", \"Canada\", \"China\", \"France\", \"Germany\", \"India\", \"Italy\", \"Japan\", \"Mexico\", \"Nigeria\", \"Russia\", \"Saudi Arabia\", \"South Africa\", \"Spain\", \"U.K.\", \"U.S.\"], \"z\": [[1.7197856124200002, 2.3314516222500004, 2.10390859187, 1.6286124910600002], [6.45241357882, 6.055351817640001, 4.40575393984, 3.0640492703400004], [1.59611259689, 2.95380359003, 2.9995070899600003, 2.25718567545], [2.65272379253, 2.47886111408, 2.08420376699, 1.5983375752300002], [2.21005206529, 2.04867662089, 1.64214631366, 1.24387158414], [0.5192073047820001, 1.09639578789, 1.24175468146, 1.0441955449], [3.4555209217000002, 3.5707439543199997, 2.99357368084, 2.28252072854], [1.87030507533, 2.2364241249, 1.8440805871000001, 1.34684180203], [1.27044502046, 1.85524009561, 1.7345318244, 1.33276622081], [0.344567872557, 1.0744416945, 1.24466853647, 0.9466593866840001], [1.7129397282299998, 2.65599914664, 2.5285943267900004, 1.87724878887], [0.9109495181299999, 2.7586563560000004, 3.5563700650400003, 3.1529309226200004], [1.58633238145, 3.10695126805, 3.4114344862299997, 2.73141954583], [3.52342836564, 3.29020369009, 2.66295892845, 2.02102120986], [4.5844409306300005, 4.19845002122, 3.1882979106200002, 2.40224667866], [7.703584212010001, 7.305844062929999, 5.240939200990001, 3.80006497271]], \"zmax\": 8.56955510337, \"zmin\": 0.325727350016, \"type\": \"heatmap\", \"uid\": \"96cc14c4-4aa4-42f5-8874-238688694979\"}, {\"colorbar\": {\"title\": {\"text\": \"Drug Use (%)\"}}, \"colorscale\": [[0.0, \"rgb(44,123,182)\"], [0.3333333333333333, \"rgb(171,217,233)\"], [0.6666666666666666, \"rgb(253,174,97)\"], [1.0, \"rgb(215,25,28)\"]], \"dx\": 1, \"name\": \"2000\", \"visible\": false, \"x\": [\"15-19\", \"20-24\", \"25-29\", \"30-34\"], \"y\": [\"Brazil\", \"Canada\", \"China\", \"France\", \"Germany\", \"India\", \"Italy\", \"Japan\", \"Mexico\", \"Nigeria\", \"Russia\", \"Saudi Arabia\", \"South Africa\", \"Spain\", \"U.K.\", \"U.S.\"], \"z\": [[1.7239842305800002, 2.33319213074, 2.1052265558000003, 1.62757859636], [6.58740833595, 6.179277356669999, 4.494533426309999, 3.1194793068], [1.5827790242000002, 2.90685554331, 2.9540552095, 2.2314409905700003], [2.69004759608, 2.52396904002, 2.11062263175, 1.60965642935], [2.24704568893, 2.08687762826, 1.6714001484199998, 1.26203915569], [0.531951441655, 1.10415603561, 1.24591059115, 1.04733691052], [3.4822463590599995, 3.6049557257, 3.02314145006, 2.30418245769], [1.86861730664, 2.23670486904, 1.84573184023, 1.34722694919], [1.26559081626, 1.8481424912400002, 1.73171710232, 1.3330209935200001], [0.34466899773000004, 1.07589706062, 1.24175630404, 0.9435523920100001], [1.7207697999100002, 2.67610000713, 2.5544444211900004, 1.9050895280400002], [0.9117477642, 2.76642520105, 3.55332008052, 3.1518239122000002], [1.55583049361, 3.0642448748400004, 3.3717389968500004, 2.69464223055], [3.6141074203800003, 3.36414849929, 2.7251268226599996, 2.06495718052], [4.625120979069999, 4.2161839456, 3.2089932939700003, 2.4228760355200003], [7.879788756960001, 7.506116506230001, 5.3902132834000005, 3.90747426583]], \"zmax\": 8.56955510337, \"zmin\": 0.325727350016, \"type\": \"heatmap\", \"uid\": \"bbed1716-b3c3-4859-8859-29f09a9a20d0\"}, {\"colorbar\": {\"title\": {\"text\": \"Drug Use (%)\"}}, \"colorscale\": [[0.0, \"rgb(44,123,182)\"], [0.3333333333333333, \"rgb(171,217,233)\"], [0.6666666666666666, \"rgb(253,174,97)\"], [1.0, \"rgb(215,25,28)\"]], \"dx\": 1, \"name\": \"2001\", \"visible\": false, \"x\": [\"15-19\", \"20-24\", \"25-29\", \"30-34\"], \"y\": [\"Brazil\", \"Canada\", \"China\", \"France\", \"Germany\", \"India\", \"Italy\", \"Japan\", \"Mexico\", \"Nigeria\", \"Russia\", \"Saudi Arabia\", \"South Africa\", \"Spain\", \"U.K.\", \"U.S.\"], \"z\": [[1.7235076409, 2.33736778902, 2.10968699096, 1.63085270233], [6.60227851896, 6.206838893169999, 4.50995047464, 3.1245203081999997], [1.5680042771000002, 2.8604073590599994, 2.90954475181, 2.2059223126200003], [2.7118938614999997, 2.56098102336, 2.14458615887, 1.6284244553100002], [2.2671880329, 2.11745672175, 1.6961435025099998, 1.2841921243799999], [0.532204654728, 1.10200313154, 1.24369079172, 1.04744243549], [3.5107849098900004, 3.62841531251, 3.04177022066, 2.32181211307], [1.86746900972, 2.23754497751, 1.84621424768, 1.34661876493], [1.25721372458, 1.84391073554, 1.7336984515599998, 1.33812018059], [0.345576196853, 1.07142640192, 1.24182931288, 0.943762380453], [1.7303158660500002, 2.68529444043, 2.56484332054, 1.9236527240599999], [0.909989913486, 2.7578730704299996, 3.5357984839200003, 3.1551868413300004], [1.53546099814, 3.01408274706, 3.30595667032, 2.63827123527], [3.6850378989499997, 3.4263135292199998, 2.7668605609599997, 2.09170284805], [4.61512190691, 4.23487929873, 3.2500616071399997, 2.46508679177], [7.924068958239999, 7.62111499046, 5.48432390842, 3.97509702211]], \"zmax\": 8.56955510337, \"zmin\": 0.325727350016, \"type\": \"heatmap\", \"uid\": \"51fc9643-8f82-4881-82ca-c7cf54734339\"}, {\"colorbar\": {\"title\": {\"text\": \"Drug Use (%)\"}}, \"colorscale\": [[0.0, \"rgb(44,123,182)\"], [0.3333333333333333, \"rgb(171,217,233)\"], [0.6666666666666666, \"rgb(253,174,97)\"], [1.0, \"rgb(215,25,28)\"]], \"dx\": 1, \"name\": \"2002\", \"visible\": false, \"x\": [\"15-19\", \"20-24\", \"25-29\", \"30-34\"], \"y\": [\"Brazil\", \"Canada\", \"China\", \"France\", \"Germany\", \"India\", \"Italy\", \"Japan\", \"Mexico\", \"Nigeria\", \"Russia\", \"Saudi Arabia\", \"South Africa\", \"Spain\", \"U.K.\", \"U.S.\"], \"z\": [[1.72307714955, 2.34532438978, 2.1203567325, 1.63884437778], [6.59824317583, 6.23631085381, 4.5094922336400005, 3.1117884421099995], [1.55105733838, 2.81032487605, 2.8572566861799995, 2.17513032588], [2.7447657804600003, 2.61164879829, 2.19107203354, 1.66779320741], [2.2789905586100003, 2.1518734988599997, 1.72919267785, 1.30043726214], [0.530869038021, 1.09881896737, 1.24025503951, 1.04700754611], [3.5644543903200003, 3.67936895585, 3.07399138828, 2.3461492544499998], [1.86543636129, 2.2379475963599997, 1.84567072305, 1.34616090449], [1.24346113557, 1.84085056867, 1.7367988827599998, 1.3454560542200003], [0.344697028342, 1.0720700537799999, 1.23958470571, 0.9421613559540001], [1.7478935862999998, 2.69441310995, 2.57442202466, 1.9396739214200003], [0.909814583169, 2.7427886662700005, 3.5131734234500005, 3.13361143544], [1.5102263928100002, 2.9369485990599995, 3.2026985317800003, 2.55510404251], [3.7580527653900004, 3.49548782572, 2.80920521221, 2.11698517032], [4.585952160030001, 4.2580660931, 3.3124972949299996, 2.53268484267], [7.92680513913, 7.71771043913, 5.575993616340001, 4.03496773459]], \"zmax\": 8.56955510337, \"zmin\": 0.325727350016, \"type\": \"heatmap\", \"uid\": \"0e1caa47-3aae-4ece-a809-5f1aef45a298\"}, {\"colorbar\": {\"title\": {\"text\": \"Drug Use (%)\"}}, \"colorscale\": [[0.0, \"rgb(44,123,182)\"], [0.3333333333333333, \"rgb(171,217,233)\"], [0.6666666666666666, \"rgb(253,174,97)\"], [1.0, \"rgb(215,25,28)\"]], \"dx\": 1, \"name\": \"2003\", \"visible\": false, \"x\": [\"15-19\", \"20-24\", \"25-29\", \"30-34\"], \"y\": [\"Brazil\", \"Canada\", \"China\", \"France\", \"Germany\", \"India\", \"Italy\", \"Japan\", \"Mexico\", \"Nigeria\", \"Russia\", \"Saudi Arabia\", \"South Africa\", \"Spain\", \"U.K.\", \"U.S.\"], \"z\": [[1.7244851954099998, 2.3567448167, 2.13080442256, 1.6474008396800002], [6.56761338638, 6.26711084496, 4.50891136611, 3.1086673429400005], [1.53349978435, 2.7598518916900003, 2.8013208828, 2.14278968089], [2.7689779254799998, 2.661163066, 2.25133401551, 1.7196118314900002], [2.28948215809, 2.17933194178, 1.7573639402599999, 1.3166789159], [0.528404816036, 1.09518815041, 1.23723953583, 1.0474818453299999], [3.62136254134, 3.73429109336, 3.10802467912, 2.37542701136], [1.86420019571, 2.2377054463499997, 1.8460246171599999, 1.34538761412], [1.2292324534, 1.83781224708, 1.7436904397900002, 1.3542070198700003], [0.340701754548, 1.0699949569, 1.23484302339, 0.947825541782], [1.76735857596, 2.70348477718, 2.5800751895400005, 1.95424906762], [0.903118488237, 2.72225154258, 3.49827804454, 3.1207961068799994], [1.4805392919100002, 2.84761457, 3.08908373386, 2.4622276504799996], [3.81812132694, 3.55773126449, 2.8455025572, 2.13933412323], [4.54764755778, 4.28229479269, 3.3812819955299998, 2.60735921438], [7.906434043960002, 7.8007101205, 5.6651411576, 4.09545968888]], \"zmax\": 8.56955510337, \"zmin\": 0.325727350016, \"type\": \"heatmap\", \"uid\": \"f5a5a0db-6a0b-4ab7-8d20-c7856b1aa261\"}, {\"colorbar\": {\"title\": {\"text\": \"Drug Use (%)\"}}, \"colorscale\": [[0.0, \"rgb(44,123,182)\"], [0.3333333333333333, \"rgb(171,217,233)\"], [0.6666666666666666, \"rgb(253,174,97)\"], [1.0, \"rgb(215,25,28)\"]], \"dx\": 1, \"name\": \"2004\", \"visible\": false, \"x\": [\"15-19\", \"20-24\", \"25-29\", \"30-34\"], \"y\": [\"Brazil\", \"Canada\", \"China\", \"France\", \"Germany\", \"India\", \"Italy\", \"Japan\", \"Mexico\", \"Nigeria\", \"Russia\", \"Saudi Arabia\", \"South Africa\", \"Spain\", \"U.K.\", \"U.S.\"], \"z\": [[1.7275889748900002, 2.36625067366, 2.1394656971200003, 1.6538307357000002], [6.5384371325, 6.2706591083599985, 4.50352975894, 3.09198287268], [1.5175703102000002, 2.7168559396200003, 2.7520047766, 2.1121501080300003], [2.7872752200099997, 2.71645663499, 2.31213298539, 1.7684032415099995], [2.29660103948, 2.2067680979400004, 1.77556424351, 1.3344153253], [0.524577925674, 1.09112089953, 1.2346436204, 1.0479995173299999], [3.6590127512699997, 3.77253391952, 3.13050627055, 2.40246570203], [1.8631539186400001, 2.23877459403, 1.84697212916, 1.34544557944], [1.21747679589, 1.83509857699, 1.74828262153, 1.35948592419], [0.339266028916, 1.06804229295, 1.23530237666, 0.947653108181], [1.7820794054, 2.7074945312, 2.5858039116, 1.9665182506599999], [0.903863152527, 2.7034726863599996, 3.4840045628199996, 3.1108189692400003], [1.4516133668, 2.7662502420400004, 2.98653978486, 2.37624449217], [3.8720308646099997, 3.61130722664, 2.8766411402700003, 2.1546865447599997], [4.51002390665, 4.3028645261800005, 3.43955231812, 2.67100217727], [7.87962274913, 7.855294747249999, 5.74628452439, 4.1512299964900015]], \"zmax\": 8.56955510337, \"zmin\": 0.325727350016, \"type\": \"heatmap\", \"uid\": \"5b2388fd-e894-4b7d-9697-232dc2da50c6\"}, {\"colorbar\": {\"title\": {\"text\": \"Drug Use (%)\"}}, \"colorscale\": [[0.0, \"rgb(44,123,182)\"], [0.3333333333333333, \"rgb(171,217,233)\"], [0.6666666666666666, \"rgb(253,174,97)\"], [1.0, \"rgb(215,25,28)\"]], \"dx\": 1, \"name\": \"2005\", \"visible\": false, \"x\": [\"15-19\", \"20-24\", \"25-29\", \"30-34\"], \"y\": [\"Brazil\", \"Canada\", \"China\", \"France\", \"Germany\", \"India\", \"Italy\", \"Japan\", \"Mexico\", \"Nigeria\", \"Russia\", \"Saudi Arabia\", \"South Africa\", \"Spain\", \"U.K.\", \"U.S.\"], \"z\": [[1.73176410632, 2.3721320668, 2.14704732986, 1.65955347058], [6.495690002359999, 6.27405772941, 4.494107565359999, 3.0752528944099997], [1.5080276180899999, 2.6866282050900003, 2.71571071141, 2.08904550874], [2.80003770319, 2.7567601401700004, 2.35781419693, 1.8105479155200002], [2.3045858433099995, 2.22209841184, 1.8054025166099998, 1.35002368179], [0.52085839285, 1.0887571969899998, 1.23328383424, 1.05020376905], [3.65766204338, 3.77373230675, 3.1301853582700003, 2.40458018623], [1.86287932768, 2.24054584652, 1.84920816711, 1.3472721211799998], [1.21354893715, 1.8345874472400001, 1.75000123028, 1.36205669122], [0.33945354422799995, 1.06847761159, 1.23275553743, 0.944716136786], [1.7877331489400001, 2.7077784050200004, 2.58797160202, 1.9764532824799999], [0.904601249382, 2.7005122631600003, 3.4793814603200004, 3.10993977013], [1.42036855179, 2.70571325955, 2.9160810766500003, 2.31811421018], [3.90743135847, 3.6464236116400004, 2.89795957435, 2.15839893328], [4.48313572711, 4.318569974, 3.47160649602, 2.7034257853500003], [7.857519689580001, 7.8776756059899995, 5.819002778610001, 4.2087073861199995]], \"zmax\": 8.56955510337, \"zmin\": 0.325727350016, \"type\": \"heatmap\", \"uid\": \"d8c33c90-cce1-491b-81ff-a29b11cc9e8f\"}, {\"colorbar\": {\"title\": {\"text\": \"Drug Use (%)\"}}, \"colorscale\": [[0.0, \"rgb(44,123,182)\"], [0.3333333333333333, \"rgb(171,217,233)\"], [0.6666666666666666, \"rgb(253,174,97)\"], [1.0, \"rgb(215,25,28)\"]], \"dx\": 1, \"name\": \"2006\", \"visible\": false, \"x\": [\"15-19\", \"20-24\", \"25-29\", \"30-34\"], \"y\": [\"Brazil\", \"Canada\", \"China\", \"France\", \"Germany\", \"India\", \"Italy\", \"Japan\", \"Mexico\", \"Nigeria\", \"Russia\", \"Saudi Arabia\", \"South Africa\", \"Spain\", \"U.K.\", \"U.S.\"], \"z\": [[1.7476537417400002, 2.38538698304, 2.15815836839, 1.66992515845], [6.429056170369999, 6.24124028545, 4.46493251111, 3.06550239954], [1.50322086432, 2.66665835884, 2.6881116804799996, 2.07002319333], [2.7927878597, 2.80152284176, 2.4164709471, 1.84655406513], [2.28476577585, 2.23937802434, 1.82936335588, 1.37029258912], [0.511407818313, 1.08586522444, 1.2341483413, 1.05250816935], [3.60165721806, 3.73526515, 3.1080013536299997, 2.3791606646], [1.86647413362, 2.24769301801, 1.85682007009, 1.3517400550299998], [1.2324633766200002, 1.8316552479700001, 1.7374075291799997, 1.35266521717], [0.33900303317900005, 1.06969201451, 1.23410387117, 0.946449730665], [1.78178218418, 2.70185480038, 2.5905834951099997, 1.9879985033099996], [0.915516490308, 2.7338297628099997, 3.5338825006600003, 3.15464204467], [1.39084171224, 2.66823238521, 2.87989883755, 2.28454822612], [3.92432062824, 3.67091396881, 2.89427049778, 2.15391577305], [4.4778719568800005, 4.3364722006299985, 3.4788537524699996, 2.71122550319], [7.76204986497, 7.856968901739999, 5.88424551057, 4.267677186969999]], \"zmax\": 8.56955510337, \"zmin\": 0.325727350016, \"type\": \"heatmap\", \"uid\": \"8e7acbf6-43ca-482f-9ba1-46a918d4fee2\"}, {\"colorbar\": {\"title\": {\"text\": \"Drug Use (%)\"}}, \"colorscale\": [[0.0, \"rgb(44,123,182)\"], [0.3333333333333333, \"rgb(171,217,233)\"], [0.6666666666666666, \"rgb(253,174,97)\"], [1.0, \"rgb(215,25,28)\"]], \"dx\": 1, \"name\": \"2007\", \"visible\": false, \"x\": [\"15-19\", \"20-24\", \"25-29\", \"30-34\"], \"y\": [\"Brazil\", \"Canada\", \"China\", \"France\", \"Germany\", \"India\", \"Italy\", \"Japan\", \"Mexico\", \"Nigeria\", \"Russia\", \"Saudi Arabia\", \"South Africa\", \"Spain\", \"U.K.\", \"U.S.\"], \"z\": [[1.7803996279699998, 2.41096096363, 2.1795084191400003, 1.68804879777], [6.3348418862, 6.166496685, 4.4213977385500005, 3.0346225602599994], [1.5034268762, 2.6557678685900004, 2.66738293964, 2.05408143896], [2.76282471638, 2.84335146679, 2.47247446681, 1.89650809918], [2.23668762285, 2.26069401832, 1.87346096177, 1.4004743042399999], [0.4955802611920001, 1.08031354817, 1.23561409832, 1.0555858256], [3.5221499136000003, 3.665832736260001, 3.05829646481, 2.34548770318], [1.87450837458, 2.26189834168, 1.86945974297, 1.3601415182499998], [1.27485968325, 1.8262042392, 1.71123387486, 1.32933508353], [0.339734871307, 1.07034814239, 1.23644388029, 0.9503615136110001], [1.7706616086700002, 2.69227770912, 2.5936610169799996, 2.00208880325], [0.9338339085189999, 2.81172661504, 3.63797422373, 3.2487391531800003], [1.3595692017899998, 2.63398079375, 2.8525595331299995, 2.2585099358300003], [3.93098355751, 3.6887255813, 2.87535137696, 2.12618499221], [4.49302397465, 4.35739502656, 3.4741845703400003, 2.7107930639399997], [7.55731485041, 7.803418633950001, 5.94777940977, 4.3279083197800015]], \"zmax\": 8.56955510337, \"zmin\": 0.325727350016, \"type\": \"heatmap\", \"uid\": \"7b08615c-8dd5-4096-95e7-bdfa333ec9f5\"}, {\"colorbar\": {\"title\": {\"text\": \"Drug Use (%)\"}}, \"colorscale\": [[0.0, \"rgb(44,123,182)\"], [0.3333333333333333, \"rgb(171,217,233)\"], [0.6666666666666666, \"rgb(253,174,97)\"], [1.0, \"rgb(215,25,28)\"]], \"dx\": 1, \"name\": \"2008\", \"visible\": false, \"x\": [\"15-19\", \"20-24\", \"25-29\", \"30-34\"], \"y\": [\"Brazil\", \"Canada\", \"China\", \"France\", \"Germany\", \"India\", \"Italy\", \"Japan\", \"Mexico\", \"Nigeria\", \"Russia\", \"Saudi Arabia\", \"South Africa\", \"Spain\", \"U.K.\", \"U.S.\"], \"z\": [[1.81852615883, 2.44004508206, 2.20536222614, 1.71033196475], [6.22146017026, 6.054711231919999, 4.37451766536, 3.01102568533], [1.50495395826, 2.64834235953, 2.65312483809, 2.04193308553], [2.72976980793, 2.88726346517, 2.53197769812, 1.9391389576099998], [2.17701186148, 2.2839044682200003, 1.91414159156, 1.43598792553], [0.477897864841, 1.07475547732, 1.2382222618799998, 1.06072627173], [3.4164747566100004, 3.5940243453500003, 2.99960859699, 2.3017807791900005], [1.88434738511, 2.2782815622599997, 1.88621670218, 1.3720938689500002], [1.3291867375700002, 1.82259131075, 1.67855936211, 1.3016116191299998], [0.341251838101, 1.07255854639, 1.2412593372499998, 0.954377268823], [1.75676183042, 2.68027590387, 2.59476082628, 2.01601359857], [0.959191750691, 2.90896397974, 3.76636661018, 3.368657388], [1.32650416343, 2.60428830413, 2.8254189921, 2.2351753373900003], [3.94438802556, 3.70182934031, 2.8541082989099995, 2.09726014794], [4.508641068409999, 4.37854397158, 3.4619989298400005, 2.7048596630199997], [7.313616884479999, 7.743735072750001, 6.0136242283599985, 4.39659410416]], \"zmax\": 8.56955510337, \"zmin\": 0.325727350016, \"type\": \"heatmap\", \"uid\": \"fb29f2db-3fe6-4731-ad70-acd31813bce7\"}, {\"colorbar\": {\"title\": {\"text\": \"Drug Use (%)\"}}, \"colorscale\": [[0.0, \"rgb(44,123,182)\"], [0.3333333333333333, \"rgb(171,217,233)\"], [0.6666666666666666, \"rgb(253,174,97)\"], [1.0, \"rgb(215,25,28)\"]], \"dx\": 1, \"name\": \"2009\", \"visible\": false, \"x\": [\"15-19\", \"20-24\", \"25-29\", \"30-34\"], \"y\": [\"Brazil\", \"Canada\", \"China\", \"France\", \"Germany\", \"India\", \"Italy\", \"Japan\", \"Mexico\", \"Nigeria\", \"Russia\", \"Saudi Arabia\", \"South Africa\", \"Spain\", \"U.K.\", \"U.S.\"], \"z\": [[1.85349091149, 2.46566101306, 2.22572893512, 1.73095406179], [6.1162408016, 5.967698609109999, 4.32842496433, 2.9946079880000003], [1.50885768351, 2.6493208557, 2.64739359127, 2.03631773317], [2.70273585814, 2.92316517369, 2.57570497931, 1.97246218533], [2.12200925942, 2.2965657499, 1.95343009036, 1.4611143242700002], [0.463725079866, 1.07210861006, 1.24329596979, 1.06605417038], [3.31436630242, 3.5241087835400005, 2.94718207463, 2.25381129963], [1.8929903987099999, 2.2962216203, 1.9005243871400002, 1.3834708518499998], [1.37897281018, 1.81898019358, 1.65125144954, 1.27738207978], [0.341298079024, 1.07271917607, 1.24407743296, 0.954804118556], [1.74332174211, 2.66483841199, 2.5932780581099997, 2.02745149956], [0.982428558656, 3.0083578547000003, 3.89614165313, 3.4845412757300003], [1.2934658205399998, 2.57217010874, 2.79864116759, 2.21348131049], [3.9484386847800006, 3.7093431083699997, 2.83394832701, 2.0753747542], [4.50962050539, 4.38790036508, 3.44239558391, 2.69447727475], [7.110168121219998, 7.705070413690001, 6.08590736678, 4.4698510449199995]], \"zmax\": 8.56955510337, \"zmin\": 0.325727350016, \"type\": \"heatmap\", \"uid\": \"f02aa3a4-dbbd-4d2e-a2f4-aee006349eb3\"}, {\"colorbar\": {\"title\": {\"text\": \"Drug Use (%)\"}}, \"colorscale\": [[0.0, \"rgb(44,123,182)\"], [0.3333333333333333, \"rgb(171,217,233)\"], [0.6666666666666666, \"rgb(253,174,97)\"], [1.0, \"rgb(215,25,28)\"]], \"dx\": 1, \"name\": \"2010\", \"visible\": false, \"x\": [\"15-19\", \"20-24\", \"25-29\", \"30-34\"], \"y\": [\"Brazil\", \"Canada\", \"China\", \"France\", \"Germany\", \"India\", \"Italy\", \"Japan\", \"Mexico\", \"Nigeria\", \"Russia\", \"Saudi Arabia\", \"South Africa\", \"Spain\", \"U.K.\", \"U.S.\"], \"z\": [[1.8755062846200001, 2.4817247462100003, 2.24002486656, 1.7425473920299999], [6.02928505098, 5.89079929872, 4.29430414655, 2.9857457967200003], [1.51316396555, 2.6506974212200003, 2.64980079782, 2.03647419001], [2.69091647059, 2.94111692995, 2.5900082156599997, 1.98715874095], [2.10379536458, 2.29868659819, 1.97121274217, 1.47364552587], [0.458176179155, 1.07216316404, 1.24974946457, 1.07307322844], [3.2418992395700004, 3.46533679368, 2.89876326252, 2.21643938496], [1.8977281615700001, 2.3057574139200003, 1.91418051792, 1.3955347379299998], [1.4145292028, 1.82202945303, 1.64018731732, 1.2684068422299999], [0.340883673157, 1.0750688755, 1.24147363709, 0.956669931541], [1.7327722920900002, 2.64886743752, 2.58929045064, 2.03239037647], [0.9997886233580001, 3.0747789965900005, 3.98036634245, 3.56296637014], [1.26366381044, 2.53810516068, 2.77055524083, 2.18634657562], [3.95658622519, 3.7145395766900005, 2.8351534018700004, 2.07232678376], [4.47651901161, 4.37716534309, 3.41748367893, 2.6809318928500003], [7.020227267530001, 7.71366651402, 6.166594999580001, 4.5503422788800005]], \"zmax\": 8.56955510337, \"zmin\": 0.325727350016, \"type\": \"heatmap\", \"uid\": \"17f34ad9-6b94-4480-9a43-5337064ff238\"}, {\"colorbar\": {\"title\": {\"text\": \"Drug Use (%)\"}}, \"colorscale\": [[0.0, \"rgb(44,123,182)\"], [0.3333333333333333, \"rgb(171,217,233)\"], [0.6666666666666666, \"rgb(253,174,97)\"], [1.0, \"rgb(215,25,28)\"]], \"dx\": 1, \"name\": \"2011\", \"visible\": false, \"x\": [\"15-19\", \"20-24\", \"25-29\", \"30-34\"], \"y\": [\"Brazil\", \"Canada\", \"China\", \"France\", \"Germany\", \"India\", \"Italy\", \"Japan\", \"Mexico\", \"Nigeria\", \"Russia\", \"Saudi Arabia\", \"South Africa\", \"Spain\", \"U.K.\", \"U.S.\"], \"z\": [[1.88807649245, 2.48933100058, 2.2469155129700003, 1.75045083499], [5.9657085035, 5.85234406254, 4.27815233582, 2.99037824503], [1.5168037238, 2.65937035897, 2.65624498954, 2.04268403438], [2.69432317686, 2.9491457962700003, 2.5936061505700003, 1.99295763161], [2.10048264535, 2.2904788320800002, 1.97150784143, 1.4740815166299999], [0.45848170590899995, 1.07553114183, 1.2556963752399999, 1.0801073514200001], [3.1840117885500003, 3.41599304202, 2.85423088518, 2.1878452905700003], [1.89916264282, 2.31478968441, 1.92576680858, 1.4059191987300002], [1.43725582277, 1.8300174485599998, 1.64155528902, 1.26983065089], [0.34159667577200004, 1.07380542137, 1.24538320502, 0.959442589871], [1.7211733484599998, 2.6223971751499997, 2.57168322934, 2.02836191634], [1.01178004256, 3.12431636378, 4.03509615634, 3.62478431167], [1.23423356138, 2.50054464637, 2.73753264111, 2.1531881421900003], [3.9708730510400003, 3.71896381396, 2.8467946630000003, 2.0759916401], [4.422559393769999, 4.350668712659998, 3.3909833244, 2.6642911506], [7.01294773863, 7.7643233056300005, 6.26600280426, 4.64728933692]], \"zmax\": 8.56955510337, \"zmin\": 0.325727350016, \"type\": \"heatmap\", \"uid\": \"5e9b3dc5-259e-40b8-9d5f-3bf85904f958\"}, {\"colorbar\": {\"title\": {\"text\": \"Drug Use (%)\"}}, \"colorscale\": [[0.0, \"rgb(44,123,182)\"], [0.3333333333333333, \"rgb(171,217,233)\"], [0.6666666666666666, \"rgb(253,174,97)\"], [1.0, \"rgb(215,25,28)\"]], \"dx\": 1, \"name\": \"2012\", \"visible\": false, \"x\": [\"15-19\", \"20-24\", \"25-29\", \"30-34\"], \"y\": [\"Brazil\", \"Canada\", \"China\", \"France\", \"Germany\", \"India\", \"Italy\", \"Japan\", \"Mexico\", \"Nigeria\", \"Russia\", \"Saudi Arabia\", \"South Africa\", \"Spain\", \"U.K.\", \"U.S.\"], \"z\": [[1.89389733944, 2.4987571289900004, 2.2577943745200004, 1.7590504807799998], [5.91498291155, 5.8300185534399995, 4.27983898167, 3.00261670213], [1.5230136317700003, 2.67429621293, 2.67093943485, 2.05425165778], [2.69928286278, 2.95245745696, 2.59434205805, 1.98853376607], [2.0915285304599998, 2.28302483159, 1.96646026235, 1.47347534081], [0.45985574748499997, 1.07856893266, 1.2619700923700001, 1.08654144812], [3.1147318770499997, 3.34895491887, 2.80405933153, 2.14482507738], [1.900324151, 2.3260095456, 1.94121379733, 1.4164247801699998], [1.4585399304100002, 1.83871288284, 1.64517302282, 1.27454508644], [0.34084914892499996, 1.0740301222000002, 1.24413449606, 0.964884916859], [1.70390241537, 2.57915965429, 2.53515981978, 2.01199784694], [1.02042084681, 3.17319273946, 4.09753264056, 3.6666085917], [1.21018892495, 2.45677783287, 2.69318578919, 2.1143802095299997], [3.9855809673500002, 3.73455374206, 2.8514286837, 2.0833048582], [4.36993823781, 4.318979369719999, 3.3604937092, 2.64441888208], [7.017891699480001, 7.84140912602, 6.39102784779, 4.75970593141]], \"zmax\": 8.56955510337, \"zmin\": 0.325727350016, \"type\": \"heatmap\", \"uid\": \"259e5f23-65cc-4287-91f4-aba5af500c63\"}, {\"colorbar\": {\"title\": {\"text\": \"Drug Use (%)\"}}, \"colorscale\": [[0.0, \"rgb(44,123,182)\"], [0.3333333333333333, \"rgb(171,217,233)\"], [0.6666666666666666, \"rgb(253,174,97)\"], [1.0, \"rgb(215,25,28)\"]], \"dx\": 1, \"name\": \"2013\", \"visible\": false, \"x\": [\"15-19\", \"20-24\", \"25-29\", \"30-34\"], \"y\": [\"Brazil\", \"Canada\", \"China\", \"France\", \"Germany\", \"India\", \"Italy\", \"Japan\", \"Mexico\", \"Nigeria\", \"Russia\", \"Saudi Arabia\", \"South Africa\", \"Spain\", \"U.K.\", \"U.S.\"], \"z\": [[1.89928546907, 2.51018203821, 2.27090901386, 1.76864035561], [5.875453321869999, 5.83002367151, 4.29763623712, 3.0248175191500004], [1.5306621583700002, 2.69649003468, 2.69193564571, 2.0709676705], [2.70434034082, 2.94835658001, 2.58114463987, 1.97987560259], [2.08754890341, 2.26225313699, 1.95619352937, 1.47005839326], [0.462482450161, 1.08181786685, 1.2679677496100001, 1.09392288338], [3.0350065095599996, 3.27105392941, 2.74436078435, 2.10128267997], [1.9014178120900003, 2.33741968188, 1.95585450373, 1.4285421851], [1.47848598331, 1.85284144478, 1.6527828670000002, 1.28015260451], [0.34044627921000004, 1.0768695551799998, 1.24743702516, 0.968154923638], [1.68102040264, 2.52182563901, 2.4817353391599997, 1.98486314046], [1.03327505653, 3.21267922638, 4.15046407857, 3.7083648766800006], [1.18618930126, 2.41034892464, 2.64115012593, 2.07073354732], [4.001674233459999, 3.76404097189, 2.86515949761, 2.09238038099], [4.31308582329, 4.281134817190001, 3.3287517944200005, 2.6216742205], [7.033786961110001, 7.941815887410001, 6.5338723418699995, 4.8925107701]], \"zmax\": 8.56955510337, \"zmin\": 0.325727350016, \"type\": \"heatmap\", \"uid\": \"f199749d-1411-4bf8-bf2e-b22bfb872369\"}, {\"colorbar\": {\"title\": {\"text\": \"Drug Use (%)\"}}, \"colorscale\": [[0.0, \"rgb(44,123,182)\"], [0.3333333333333333, \"rgb(171,217,233)\"], [0.6666666666666666, \"rgb(253,174,97)\"], [1.0, \"rgb(215,25,28)\"]], \"dx\": 1, \"name\": \"2014\", \"visible\": false, \"x\": [\"15-19\", \"20-24\", \"25-29\", \"30-34\"], \"y\": [\"Brazil\", \"Canada\", \"China\", \"France\", \"Germany\", \"India\", \"Italy\", \"Japan\", \"Mexico\", \"Nigeria\", \"Russia\", \"Saudi Arabia\", \"South Africa\", \"Spain\", \"U.K.\", \"U.S.\"], \"z\": [[1.90198870836, 2.52310869681, 2.2850008601600003, 1.7801964373900003], [5.84985630483, 5.83663337278, 4.31759343828, 3.06354573752], [1.53967401937, 2.72367397931, 2.7203769503, 2.0949242976900004], [2.70773058884, 2.93899033977, 2.5655268820500003, 1.96585660509], [2.09078677806, 2.24887741211, 1.9364263723500001, 1.46285468125], [0.467096384883, 1.08625792001, 1.27363991656, 1.10132695887], [2.94884806422, 3.18307964473, 2.6769078091100003, 2.05482323618], [1.90360065019, 2.35100660806, 1.97383733285, 1.4412941916100002], [1.4956521991299998, 1.86747887063, 1.6642693520899998, 1.28993341035], [0.33983450174099994, 1.07719909207, 1.2491363604299999, 0.973865644937], [1.6531686106499999, 2.45211696665, 2.41176015465, 1.9471409086400002], [1.0427247954899999, 3.2615215669700004, 4.19419393209, 3.75002627473], [1.16651499515, 2.3580899263, 2.5832523587900003, 2.02286782317], [4.01729352915, 3.7913745622099997, 2.89184577293, 2.10198653759], [4.2524278003600005, 4.23776674919, 3.2939174287899995, 2.59667610327], [7.06237171599, 8.06476903671, 6.694422586669999, 5.03882321518]], \"zmax\": 8.56955510337, \"zmin\": 0.325727350016, \"type\": \"heatmap\", \"uid\": \"46621289-1e6d-4b66-8caf-6fae456b9902\"}, {\"colorbar\": {\"title\": {\"text\": \"Drug Use (%)\"}}, \"colorscale\": [[0.0, \"rgb(44,123,182)\"], [0.3333333333333333, \"rgb(171,217,233)\"], [0.6666666666666666, \"rgb(253,174,97)\"], [1.0, \"rgb(215,25,28)\"]], \"dx\": 1, \"name\": \"2015\", \"visible\": false, \"x\": [\"15-19\", \"20-24\", \"25-29\", \"30-34\"], \"y\": [\"Brazil\", \"Canada\", \"China\", \"France\", \"Germany\", \"India\", \"Italy\", \"Japan\", \"Mexico\", \"Nigeria\", \"Russia\", \"Saudi Arabia\", \"South Africa\", \"Spain\", \"U.K.\", \"U.S.\"], \"z\": [[1.90026256036, 2.53468908787, 2.30211131435, 1.7923681053599998], [5.83461280839, 5.857913029100001, 4.34812289637, 3.1120477713200003], [1.55050396506, 2.76089241834, 2.75752031223, 2.12449284075], [2.7181570580799996, 2.92228944348, 2.53947413225, 1.94246680396], [2.0953648468400004, 2.2443576067900004, 1.91677867808, 1.45389109456], [0.474345779848, 1.09165067043, 1.28002159057, 1.10883178594], [2.85975354288, 3.0850395640599997, 2.6036505219099997, 2.00263384652], [1.90567838658, 2.36511540201, 1.99184654332, 1.45516527861], [1.5113952579499998, 1.88735463638, 1.6782464675600002, 1.30175710717], [0.341279844515, 1.07946716649, 1.25586862892, 0.9759772023019999], [1.6214376765499998, 2.37200499494, 2.33011148957, 1.9009044500999999], [1.0538666883, 3.29277930098, 4.23720721836, 3.77019236708], [1.1467446828299999, 2.3052202491, 2.5209775566, 1.97157186016], [4.04068447805, 3.82498630982, 2.91563005255, 2.1134627775799997], [4.1880411874300005, 4.18707186904, 3.2577022306500005, 2.5705925717], [7.10475028174, 8.2113884477, 6.872668824600001, 5.19770796111]], \"zmax\": 8.56955510337, \"zmin\": 0.325727350016, \"type\": \"heatmap\", \"uid\": \"ebb1a065-23e6-4f7e-9bed-7445795f3082\"}, {\"colorbar\": {\"title\": {\"text\": \"Drug Use (%)\"}}, \"colorscale\": [[0.0, \"rgb(44,123,182)\"], [0.3333333333333333, \"rgb(171,217,233)\"], [0.6666666666666666, \"rgb(253,174,97)\"], [1.0, \"rgb(215,25,28)\"]], \"dx\": 1, \"name\": \"2016\", \"visible\": false, \"x\": [\"15-19\", \"20-24\", \"25-29\", \"30-34\"], \"y\": [\"Brazil\", \"Canada\", \"China\", \"France\", \"Germany\", \"India\", \"Italy\", \"Japan\", \"Mexico\", \"Nigeria\", \"Russia\", \"Saudi Arabia\", \"South Africa\", \"Spain\", \"U.K.\", \"U.S.\"], \"z\": [[1.89487161796, 2.546020474, 2.32074495474, 1.80412041963], [5.82973804375, 5.89308515319, 4.40132858017, 3.1608961728], [1.56136013463, 2.80119140273, 2.8017098652, 2.1576687899], [2.7328658686300003, 2.8984226952500003, 2.50691709882, 1.91560703252], [2.1103795060299997, 2.2353410119, 1.8906478082599998, 1.44110291128], [0.484992572345, 1.0983225863700001, 1.2863201896799998, 1.11650670734], [2.7610564071100003, 2.98344041451, 2.52818154224, 1.94774060427], [1.907232234, 2.3792825173299996, 2.0094167891, 1.4686940328], [1.5244130935100002, 1.9102669907, 1.69700458856, 1.31750007434], [0.339377434997, 1.08077708322, 1.25949198371, 0.981546647131], [1.58562908726, 2.28375650204, 2.23656568741, 1.8470863007599998], [1.0585931822499999, 3.32189044676, 4.2648593573700015, 3.7969650935300003], [1.12707909867, 2.25044475836, 2.4563776678, 1.91554876652], [4.05930626394, 3.8497642197900004, 2.94360593115, 2.12523172313], [4.1157314000300005, 4.13067387421, 3.21839027308, 2.54280525896], [7.16132436087, 8.37808301109, 7.063820177939999, 5.3660356181500015]], \"zmax\": 8.56955510337, \"zmin\": 0.325727350016, \"type\": \"heatmap\", \"uid\": \"261fdc50-aa16-407d-9ab3-b458ff09deda\"}, {\"colorbar\": {\"title\": {\"text\": \"Drug Use (%)\"}}, \"colorscale\": [[0.0, \"rgb(44,123,182)\"], [0.3333333333333333, \"rgb(171,217,233)\"], [0.6666666666666666, \"rgb(253,174,97)\"], [1.0, \"rgb(215,25,28)\"]], \"dx\": 1, \"name\": \"2017\", \"visible\": false, \"x\": [\"15-19\", \"20-24\", \"25-29\", \"30-34\"], \"y\": [\"Brazil\", \"Canada\", \"China\", \"France\", \"Germany\", \"India\", \"Italy\", \"Japan\", \"Mexico\", \"Nigeria\", \"Russia\", \"Saudi Arabia\", \"South Africa\", \"Spain\", \"U.K.\", \"U.S.\"], \"z\": [[1.88483694787, 2.55558149301, 2.33759626727, 1.8161089766499998], [5.832441503359999, 5.95114673712, 4.45137739786, 3.22177583587], [1.57518003141, 2.84832969648, 2.8543946540599996, 2.19774621201], [2.74279443802, 2.86034750997, 2.46099562251, 1.8741171845900002], [2.11407314657, 2.21190992199, 1.85197185847, 1.42500798745], [0.498977545109, 1.10698639151, 1.2930693826000002, 1.1235530270799998], [2.65800956517, 2.86982519385, 2.4420154161400003, 1.89246735704], [1.9104232627200002, 2.39577938411, 2.02993864721, 1.4842154909599998], [1.53463957099, 1.93636430791, 1.72022090604, 1.33386178796], [0.339167273094, 1.08387500994, 1.2645978195299998, 0.988625220808], [1.54663970803, 2.18731156458, 2.1332039974200003, 1.7861810590199998], [1.06510396998, 3.33750484662, 4.29999881194, 3.81130690579], [1.10949445715, 2.1932346574, 2.38864831497, 1.8595647208099997], [4.0789674621700005, 3.88135638103, 2.97875396885, 2.13627900561], [4.037589477719999, 4.06962176789, 3.1761337109600003, 2.51178456245], [7.234779111210001, 8.56955510337, 7.262913203869999, 5.54771992446]], \"zmax\": 8.56955510337, \"zmin\": 0.325727350016, \"type\": \"heatmap\", \"uid\": \"697321a0-40c5-4d46-bada-4d7c9349dd98\"}], {\"sliders\": [{\"active\": 0, \"currentvalue\": {\"prefix\": \"Year: \"}, \"pad\": {\"t\": 25}, \"steps\": [{\"args\": [\"visible\", [true, false, false, false, false, false, false, false, false, false, false, false, false, false, false, false, false, false, false, false, false, false, false, false, false, false, false, false]], \"label\": \"1990\"}, {\"args\": [\"visible\", [false, true, false, false, false, false, false, false, false, false, false, false, false, false, false, false, false, false, false, false, false, false, false, false, false, false, false, false]], \"label\": \"1991\"}, {\"args\": [\"visible\", [false, false, true, false, false, false, false, false, false, false, false, false, false, false, false, false, false, false, false, false, false, false, false, false, false, false, false, false]], \"label\": \"1992\"}, {\"args\": [\"visible\", [false, false, false, true, false, false, false, false, false, false, false, false, false, false, false, false, false, false, false, false, false, false, false, false, false, false, false, false]], \"label\": \"1993\"}, {\"args\": [\"visible\", [false, false, false, false, true, false, false, false, false, false, false, false, false, false, false, false, false, false, false, false, false, false, false, false, false, false, false, false]], \"label\": \"1994\"}, {\"args\": [\"visible\", [false, false, false, false, false, true, false, false, false, false, false, false, false, false, false, false, false, false, false, false, false, false, false, false, false, false, false, false]], \"label\": \"1995\"}, {\"args\": [\"visible\", [false, false, false, false, false, false, true, false, false, false, false, false, false, false, false, false, false, false, false, false, false, false, false, false, false, false, false, false]], \"label\": \"1996\"}, {\"args\": [\"visible\", [false, false, false, false, false, false, false, true, false, false, false, false, false, false, false, false, false, false, false, false, false, false, false, false, false, false, false, false]], \"label\": \"1997\"}, {\"args\": [\"visible\", [false, false, false, false, false, false, false, false, true, false, false, false, false, false, false, false, false, false, false, false, false, false, false, false, false, false, false, false]], \"label\": \"1998\"}, {\"args\": [\"visible\", [false, false, false, false, false, false, false, false, false, true, false, false, false, false, false, false, false, false, false, false, false, false, false, false, false, false, false, false]], \"label\": \"1999\"}, {\"args\": [\"visible\", [false, false, false, false, false, false, false, false, false, false, true, false, false, false, false, false, false, false, false, false, false, false, false, false, false, false, false, false]], \"label\": \"2000\"}, {\"args\": [\"visible\", [false, false, false, false, false, false, false, false, false, false, false, true, false, false, false, false, false, false, false, false, false, false, false, false, false, false, false, false]], \"label\": \"2001\"}, {\"args\": [\"visible\", [false, false, false, false, false, false, false, false, false, false, false, false, true, false, false, false, false, false, false, false, false, false, false, false, false, false, false, false]], \"label\": \"2002\"}, {\"args\": [\"visible\", [false, false, false, false, false, false, false, false, false, false, false, false, false, true, false, false, false, false, false, false, false, false, false, false, false, false, false, false]], \"label\": \"2003\"}, {\"args\": [\"visible\", [false, false, false, false, false, false, false, false, false, false, false, false, false, false, true, false, false, false, false, false, false, false, false, false, false, false, false, false]], \"label\": \"2004\"}, {\"args\": [\"visible\", [false, false, false, false, false, false, false, false, false, false, false, false, false, false, false, true, false, false, false, false, false, false, false, false, false, false, false, false]], \"label\": \"2005\"}, {\"args\": [\"visible\", [false, false, false, false, false, false, false, false, false, false, false, false, false, false, false, false, true, false, false, false, false, false, false, false, false, false, false, false]], \"label\": \"2006\"}, {\"args\": [\"visible\", [false, false, false, false, false, false, false, false, false, false, false, false, false, false, false, false, false, true, false, false, false, false, false, false, false, false, false, false]], \"label\": \"2007\"}, {\"args\": [\"visible\", [false, false, false, false, false, false, false, false, false, false, false, false, false, false, false, false, false, false, true, false, false, false, false, false, false, false, false, false]], \"label\": \"2008\"}, {\"args\": [\"visible\", [false, false, false, false, false, false, false, false, false, false, false, false, false, false, false, false, false, false, false, true, false, false, false, false, false, false, false, false]], \"label\": \"2009\"}, {\"args\": [\"visible\", [false, false, false, false, false, false, false, false, false, false, false, false, false, false, false, false, false, false, false, false, true, false, false, false, false, false, false, false]], \"label\": \"2010\"}, {\"args\": [\"visible\", [false, false, false, false, false, false, false, false, false, false, false, false, false, false, false, false, false, false, false, false, false, true, false, false, false, false, false, false]], \"label\": \"2011\"}, {\"args\": [\"visible\", [false, false, false, false, false, false, false, false, false, false, false, false, false, false, false, false, false, false, false, false, false, false, true, false, false, false, false, false]], \"label\": \"2012\"}, {\"args\": [\"visible\", [false, false, false, false, false, false, false, false, false, false, false, false, false, false, false, false, false, false, false, false, false, false, false, true, false, false, false, false]], \"label\": \"2013\"}, {\"args\": [\"visible\", [false, false, false, false, false, false, false, false, false, false, false, false, false, false, false, false, false, false, false, false, false, false, false, false, true, false, false, false]], \"label\": \"2014\"}, {\"args\": [\"visible\", [false, false, false, false, false, false, false, false, false, false, false, false, false, false, false, false, false, false, false, false, false, false, false, false, false, true, false, false]], \"label\": \"2015\"}, {\"args\": [\"visible\", [false, false, false, false, false, false, false, false, false, false, false, false, false, false, false, false, false, false, false, false, false, false, false, false, false, false, true, false]], \"label\": \"2016\"}, {\"args\": [\"visible\", [false, false, false, false, false, false, false, false, false, false, false, false, false, false, false, false, false, false, false, false, false, false, false, false, false, false, false, true]], \"label\": \"2017\"}]}], \"title\": {\"text\": \"Drug Use per Age Group (1990-2017)\"}, \"xaxis\": {\"tickmode\": \"array\", \"title\": {\"text\": \"Age Group\"}}}, {\"showLink\": false, \"linkText\": \"Export to plot.ly\", \"plotlyServerURL\": \"https://plot.ly\"}); \n",
       "}\n",
       "});</script><script type=\"text/javascript\">window.addEventListener(\"resize\", function(){if (document.getElementById(\"5fbf5cdb-3e5d-454e-9f7b-3f2f73fd36ac\")) {window._Plotly.Plots.resize(document.getElementById(\"5fbf5cdb-3e5d-454e-9f7b-3f2f73fd36ac\"));};})</script>"
      ],
      "text/vnd.plotly.v1+html": [
       "<div id=\"5fbf5cdb-3e5d-454e-9f7b-3f2f73fd36ac\" style=\"height: 525px; width: 100%;\" class=\"plotly-graph-div\"></div><script type=\"text/javascript\">require([\"plotly\"], function(Plotly) { window.PLOTLYENV=window.PLOTLYENV || {};window.PLOTLYENV.BASE_URL=\"https://plot.ly\";\n",
       "if (document.getElementById(\"5fbf5cdb-3e5d-454e-9f7b-3f2f73fd36ac\")) {\n",
       "    Plotly.newPlot(\"5fbf5cdb-3e5d-454e-9f7b-3f2f73fd36ac\", [{\"colorbar\": {\"title\": {\"text\": \"Drug Use (%)\"}}, \"colorscale\": [[0.0, \"rgb(44,123,182)\"], [0.3333333333333333, \"rgb(171,217,233)\"], [0.6666666666666666, \"rgb(253,174,97)\"], [1.0, \"rgb(215,25,28)\"]], \"dx\": 1, \"name\": \"1990\", \"visible\": true, \"x\": [\"15-19\", \"20-24\", \"25-29\", \"30-34\"], \"y\": [\"Brazil\", \"Canada\", \"China\", \"France\", \"Germany\", \"India\", \"Italy\", \"Japan\", \"Mexico\", \"Nigeria\", \"Russia\", \"Saudi Arabia\", \"South Africa\", \"Spain\", \"U.K.\", \"U.S.\"], \"z\": [[1.6633605892399999, 2.2978419034, 2.09982288413, 1.6382403631299998], [4.81463031055, 4.74208148322, 3.51161279227, 2.50894924383], [1.65172804557, 3.0641978265499996, 3.06689662769, 2.2874401185099997], [2.64245556414, 2.57434546373, 2.13294615803, 1.6106765049899998], [1.9490555321599998, 1.9578386114200002, 1.62050147308, 1.2286484897], [0.456663990744, 1.05931661813, 1.22250042836, 1.0372360115], [3.11030695207, 3.2631325594800002, 2.7027772221599995, 2.0372354263099997], [1.88306876875, 2.24913343432, 1.86148974968, 1.35495733921], [1.30104364611, 1.88768897519, 1.74182768348, 1.32856415737], [0.325727350016, 1.0307749342299999, 1.19599213267, 0.9180517020360001], [1.57072588561, 2.26947895515, 2.10259262427, 1.5937998006099998], [0.892179734943, 2.67909821744, 3.4609362641300003, 3.0705232295099996], [1.5828893394999999, 2.96310908162, 3.27643411186, 2.6884652603799997], [3.03070066852, 3.0688772857999997, 2.46458715874, 1.79458994322], [3.94787987515, 3.7604055097099995, 2.8134561423199997, 2.10305017329], [5.25457371961, 6.10912680489, 4.96662168808, 3.6551757648300005]], \"zmax\": 8.56955510337, \"zmin\": 0.325727350016, \"type\": \"heatmap\", \"uid\": \"334fe853-e956-4c4f-b30a-c7feccd573e2\"}, {\"colorbar\": {\"title\": {\"text\": \"Drug Use (%)\"}}, \"colorscale\": [[0.0, \"rgb(44,123,182)\"], [0.3333333333333333, \"rgb(171,217,233)\"], [0.6666666666666666, \"rgb(253,174,97)\"], [1.0, \"rgb(215,25,28)\"]], \"dx\": 1, \"name\": \"1991\", \"visible\": false, \"x\": [\"15-19\", \"20-24\", \"25-29\", \"30-34\"], \"y\": [\"Brazil\", \"Canada\", \"China\", \"France\", \"Germany\", \"India\", \"Italy\", \"Japan\", \"Mexico\", \"Nigeria\", \"Russia\", \"Saudi Arabia\", \"South Africa\", \"Spain\", \"U.K.\", \"U.S.\"], \"z\": [[1.67329844455, 2.30859923545, 2.10158895318, 1.6400366063499998], [4.856538196340002, 4.7685904934800005, 3.5220844306699997, 2.5201247811200003], [1.65386518468, 3.08352371773, 3.0942123485, 2.3015187236099997], [2.56774856441, 2.5018081705400004, 2.09197295064, 1.58548801831], [1.94487840982, 1.9332718858000002, 1.59371899067, 1.21242412161], [0.435687610859, 1.04293887269, 1.21242692327, 1.0289859530399998], [3.11008714599, 3.27054834906, 2.71496270334, 2.04338536901], [1.8841520981200002, 2.24492530995, 1.85575700747, 1.35220153461], [1.2944520274200002, 1.88831241187, 1.74444000574, 1.33140971185], [0.33206532681400003, 1.04496350597, 1.21217083652, 0.924260411172], [1.58538941683, 2.3103479244400003, 2.1395073858, 1.6159595906899995], [0.898275837406, 2.69004730196, 3.47654512312, 3.09232821108], [1.63670792563, 3.0499953177499997, 3.3512263998600003, 2.7276178002599996], [3.0358227770200004, 3.03728387898, 2.4595672895900003, 1.79777507319], [3.9957123608, 3.84203175279, 2.89620878755, 2.16279321522], [5.403151801569999, 6.06425195982, 4.79390337824, 3.5124678831000002]], \"zmax\": 8.56955510337, \"zmin\": 0.325727350016, \"type\": \"heatmap\", \"uid\": \"2859c7b4-3cdd-40c4-8fa1-03471d8a90a0\"}, {\"colorbar\": {\"title\": {\"text\": \"Drug Use (%)\"}}, \"colorscale\": [[0.0, \"rgb(44,123,182)\"], [0.3333333333333333, \"rgb(171,217,233)\"], [0.6666666666666666, \"rgb(253,174,97)\"], [1.0, \"rgb(215,25,28)\"]], \"dx\": 1, \"name\": \"1992\", \"visible\": false, \"x\": [\"15-19\", \"20-24\", \"25-29\", \"30-34\"], \"y\": [\"Brazil\", \"Canada\", \"China\", \"France\", \"Germany\", \"India\", \"Italy\", \"Japan\", \"Mexico\", \"Nigeria\", \"Russia\", \"Saudi Arabia\", \"South Africa\", \"Spain\", \"U.K.\", \"U.S.\"], \"z\": [[1.6831343931000002, 2.31596963051, 2.10674199226, 1.6403185756299998], [4.94227824458, 4.816009396459999, 3.5482613250000004, 2.53415736002], [1.6555787100100001, 3.0967904979900003, 3.11258285941, 2.31327645209], [2.49774492927, 2.4382554534, 2.05713663785, 1.57132543859], [1.94877454502, 1.9158628104099997, 1.57704374731, 1.1983392497799998], [0.4233473049630001, 1.03282995508, 1.20625850775, 1.02412808037], [3.12090844343, 3.2790670656700005, 2.72585248734, 2.05197181598], [1.8854964655500002, 2.24104830261, 1.84961603413, 1.3485557164200002], [1.29001963874, 1.8880081278099998, 1.7479415306, 1.3351335150399999], [0.330378089184, 1.05636354886, 1.2312956937700001, 0.934636581422], [1.60030435176, 2.3517192520599997, 2.17885433788, 1.6391062397899998], [0.8973715917920001, 2.70299439022, 3.48638811885, 3.10359454782], [1.6836038095299999, 3.1261013216299998, 3.4123149487199997, 2.7626137125200003], [3.0568136966500004, 3.0107241540400005, 2.46120038091, 1.8098422258200002], [4.046342355159999, 3.919296626830001, 2.9738086024699997, 2.21829686074], [5.58262154602, 6.0509265051100005, 4.668558106590001, 3.41003027166]], \"zmax\": 8.56955510337, \"zmin\": 0.325727350016, \"type\": \"heatmap\", \"uid\": \"8dc4ca3f-e20c-4a51-b765-f0e33c1ff6ed\"}, {\"colorbar\": {\"title\": {\"text\": \"Drug Use (%)\"}}, \"colorscale\": [[0.0, \"rgb(44,123,182)\"], [0.3333333333333333, \"rgb(171,217,233)\"], [0.6666666666666666, \"rgb(253,174,97)\"], [1.0, \"rgb(215,25,28)\"]], \"dx\": 1, \"name\": \"1993\", \"visible\": false, \"x\": [\"15-19\", \"20-24\", \"25-29\", \"30-34\"], \"y\": [\"Brazil\", \"Canada\", \"China\", \"France\", \"Germany\", \"India\", \"Italy\", \"Japan\", \"Mexico\", \"Nigeria\", \"Russia\", \"Saudi Arabia\", \"South Africa\", \"Spain\", \"U.K.\", \"U.S.\"], \"z\": [[1.6891689122500002, 2.3234967661700003, 2.1072220765700003, 1.64014426413], [5.04804681245, 4.886650825, 3.58091156697, 2.55777152319], [1.6540241528100001, 3.1060041821900004, 3.12472018682, 2.32231961221], [2.4615479471599997, 2.38561086737, 2.02986173189, 1.55859661118], [1.96188522688, 1.9034741073, 1.56408954128, 1.1885048159], [0.416580280285, 1.02637972927, 1.20233353787, 1.02091820911], [3.15190985768, 3.2965029394500003, 2.7379708575, 2.05995789768], [1.8868768340900002, 2.2396857835599997, 1.84505591721, 1.34628500568], [1.2856608151, 1.88612696922, 1.7500897817200003, 1.33707064963], [0.33191308265, 1.0668443299, 1.2425165768700002, 0.9420912088339999], [1.61661581856, 2.39247894328, 2.22003328352, 1.6647044999999998], [0.8990115251440001, 2.71211798638, 3.4958457913300003, 3.1214495561799995], [1.71783543068, 3.1840074022900002, 3.4630539084099996, 2.78754655306], [3.0663749321499996, 3.0033236178099996, 2.4660461217400003, 1.8232246026599996], [4.09660929941, 3.98716154991, 3.03963513268, 2.26650231727], [5.78510888546, 6.0640623382399985, 4.58765291009, 3.3415071402999996]], \"zmax\": 8.56955510337, \"zmin\": 0.325727350016, \"type\": \"heatmap\", \"uid\": \"5198a7aa-70bd-487f-ae98-00e2254b99d4\"}, {\"colorbar\": {\"title\": {\"text\": \"Drug Use (%)\"}}, \"colorscale\": [[0.0, \"rgb(44,123,182)\"], [0.3333333333333333, \"rgb(171,217,233)\"], [0.6666666666666666, \"rgb(253,174,97)\"], [1.0, \"rgb(215,25,28)\"]], \"dx\": 1, \"name\": \"1994\", \"visible\": false, \"x\": [\"15-19\", \"20-24\", \"25-29\", \"30-34\"], \"y\": [\"Brazil\", \"Canada\", \"China\", \"France\", \"Germany\", \"India\", \"Italy\", \"Japan\", \"Mexico\", \"Nigeria\", \"Russia\", \"Saudi Arabia\", \"South Africa\", \"Spain\", \"U.K.\", \"U.S.\"], \"z\": [[1.6943877930000002, 2.3254909066900002, 2.10710187459, 1.6399375123299997], [5.17687311335, 4.9569814626, 3.62961438781, 2.5845266817400003], [1.6522244375, 3.11037752059, 3.1328699231, 2.32936965403], [2.42486449402, 2.35582049578, 2.0178502539600003, 1.5530264393000002], [1.98182368496, 1.9021394798299998, 1.55502198211, 1.1843837445], [0.413221916134, 1.02366560351, 1.20088772141, 1.01877910687], [3.1743130225800003, 3.31559784957, 2.7524987128400005, 2.0781652095900003], [1.8883050382599997, 2.2388164077200003, 1.8428866710200005, 1.345410302], [1.28324083143, 1.88514129399, 1.75129714529, 1.33842213879], [0.335323335413, 1.0753185339700002, 1.24835101953, 0.949404603012], [1.6314944087099998, 2.43244441551, 2.2615691979299997, 1.69122791791], [0.903274535338, 2.7125989338800003, 3.4994029331800003, 3.13144233298], [1.7412406039, 3.22534879022, 3.4969028954300003, 2.8063876065499995], [3.08801527381, 3.00498205222, 2.47592298152, 1.8363774726], [4.1431708380000005, 4.0444754002900005, 3.09168666943, 2.30552250272], [6.00654981786, 6.10049745608, 4.5430843459600005, 3.3049335337400003]], \"zmax\": 8.56955510337, \"zmin\": 0.325727350016, \"type\": \"heatmap\", \"uid\": \"cbf37c9e-b4ea-41ff-87aa-ad5f975b9703\"}, {\"colorbar\": {\"title\": {\"text\": \"Drug Use (%)\"}}, \"colorscale\": [[0.0, \"rgb(44,123,182)\"], [0.3333333333333333, \"rgb(171,217,233)\"], [0.6666666666666666, \"rgb(253,174,97)\"], [1.0, \"rgb(215,25,28)\"]], \"dx\": 1, \"name\": \"1995\", \"visible\": false, \"x\": [\"15-19\", \"20-24\", \"25-29\", \"30-34\"], \"y\": [\"Brazil\", \"Canada\", \"China\", \"France\", \"Germany\", \"India\", \"Italy\", \"Japan\", \"Mexico\", \"Nigeria\", \"Russia\", \"Saudi Arabia\", \"South Africa\", \"Spain\", \"U.K.\", \"U.S.\"], \"z\": [[1.6968111173299998, 2.32517996954, 2.10592248152, 1.6392077601], [5.312956210489999, 5.0393888017199995, 3.67803636881, 2.6116249268900003], [1.64874344103, 3.1095043946599996, 3.1358680209599994, 2.3338953385599996], [2.41779810442, 2.34352672809, 2.01149819034, 1.55296833178], [2.00136263955, 1.90728693698, 1.55553663019, 1.1839426438299998], [0.412808853824, 1.0232216291299998, 1.20104928154, 1.0177094151700001], [3.19482787385, 3.33329093222, 2.7672926863800003, 2.09076842742], [1.8888199491099997, 2.2396804706299998, 1.8418786141900003, 1.34434990455], [1.28267066943, 1.88575494657, 1.7524012644799998, 1.33991566824], [0.335933928732, 1.0787554881799999, 1.2524210430299998, 0.953513078581], [1.6465035419799998, 2.4700383904599996, 2.30506870598, 1.71776461072], [0.90468497373, 2.7239512265400005, 3.51306531068, 3.1365168204100002], [1.75126485979, 3.24816209688, 3.5148323722500003, 2.8165901364700003], [3.1062347969, 3.0176105319700004, 2.47827878547, 1.84602057304], [4.184997244340002, 4.08755474047, 3.1249336535200003, 2.33398493282], [6.242017723019999, 6.1547712832900014, 4.5294925808199995, 3.29355496348]], \"zmax\": 8.56955510337, \"zmin\": 0.325727350016, \"type\": \"heatmap\", \"uid\": \"d17cf457-3a57-4c2e-b4fa-1d47133dbaa1\"}, {\"colorbar\": {\"title\": {\"text\": \"Drug Use (%)\"}}, \"colorscale\": [[0.0, \"rgb(44,123,182)\"], [0.3333333333333333, \"rgb(171,217,233)\"], [0.6666666666666666, \"rgb(253,174,97)\"], [1.0, \"rgb(215,25,28)\"]], \"dx\": 1, \"name\": \"1996\", \"visible\": false, \"x\": [\"15-19\", \"20-24\", \"25-29\", \"30-34\"], \"y\": [\"Brazil\", \"Canada\", \"China\", \"France\", \"Germany\", \"India\", \"Italy\", \"Japan\", \"Mexico\", \"Nigeria\", \"Russia\", \"Saudi Arabia\", \"South Africa\", \"Spain\", \"U.K.\", \"U.S.\"], \"z\": [[1.6993191530799998, 2.32514074814, 2.1051758603299997, 1.6349430516699999], [5.53651116633, 5.21369001365, 3.7929616837999998, 2.6797228898], [1.64129295041, 3.09550452252, 3.12456572954, 2.32872235436], [2.44432953955, 2.35009698977, 2.0192082307200003, 1.55550094074], [2.0314008770500003, 1.92382114695, 1.5638897982799997, 1.19282014133], [0.42585278651600006, 1.03253855847, 1.20640606037, 1.0208440138], [3.2461453301, 3.3703688187600003, 2.80610836005, 2.12018853877], [1.88738462556, 2.23950060555, 1.84182320004, 1.34473309919], [1.28117717328, 1.88214411174, 1.75073127558, 1.3395551453299999], [0.33741498396499997, 1.07651702783, 1.25216217248, 0.95411468513], [1.66275000706, 2.51345630579, 2.35678269994, 1.75211847936], [0.905482705736, 2.72909503601, 3.5201168315800007, 3.14088896742], [1.7344605457099997, 3.24215428681, 3.5146842840300008, 2.81233180619], [3.1621665293900003, 3.03988246456, 2.49633725682, 1.86801508312], [4.25364463861, 4.12035409417, 3.1442529610500003, 2.3535177116500003], [6.5559857079100015, 6.321377375469999, 4.6044421057600005, 3.3470711746]], \"zmax\": 8.56955510337, \"zmin\": 0.325727350016, \"type\": \"heatmap\", \"uid\": \"87a97776-9e63-4aee-9c9f-f30c369a5109\"}, {\"colorbar\": {\"title\": {\"text\": \"Drug Use (%)\"}}, \"colorscale\": [[0.0, \"rgb(44,123,182)\"], [0.3333333333333333, \"rgb(171,217,233)\"], [0.6666666666666666, \"rgb(253,174,97)\"], [1.0, \"rgb(215,25,28)\"]], \"dx\": 1, \"name\": \"1997\", \"visible\": false, \"x\": [\"15-19\", \"20-24\", \"25-29\", \"30-34\"], \"y\": [\"Brazil\", \"Canada\", \"China\", \"France\", \"Germany\", \"India\", \"Italy\", \"Japan\", \"Mexico\", \"Nigeria\", \"Russia\", \"Saudi Arabia\", \"South Africa\", \"Spain\", \"U.K.\", \"U.S.\"], \"z\": [[1.70705829422, 2.3256801786500003, 2.10343866593, 1.6327202016100002], [5.84599105913, 5.49549410737, 3.9987673636000003, 2.80379463399], [1.62950796677, 3.05835286088, 3.09231369082, 2.31039257072], [2.49745653021, 2.38819772018, 2.03905512212, 1.56817749514], [2.09288807373, 1.96455873559, 1.5852062592700003, 1.21007072312], [0.454102664414, 1.0523246652399998, 1.21789289961, 1.02683540395], [3.31303096292, 3.43033974069, 2.8656091869, 2.17538129528], [1.8818640573, 2.2372670861099997, 1.8421320331400002, 1.34572288835], [1.27827084277, 1.87425166129, 1.7463975770099998, 1.33734952909], [0.34008736229900005, 1.0766020349599998, 1.2513999263, 0.951430687902], [1.6817861234999998, 2.56549248157, 2.41828521882, 1.7948142511200003], [0.908058066555, 2.7403050136, 3.5363492777900003, 3.14680984103], [1.6918954563799997, 3.20724976144, 3.4879960164400003, 2.7945767761799996], [3.2664117906, 3.10838906815, 2.54170162055, 1.91500476281], [4.3646552721499985, 4.15030264394, 3.15793495569, 2.3699089946900003], [6.958617782869999, 6.625228257720001, 4.7879857236499985, 3.4769969301199994]], \"zmax\": 8.56955510337, \"zmin\": 0.325727350016, \"type\": \"heatmap\", \"uid\": \"a762eba1-d0ac-4d80-8966-666919184531\"}, {\"colorbar\": {\"title\": {\"text\": \"Drug Use (%)\"}}, \"colorscale\": [[0.0, \"rgb(44,123,182)\"], [0.3333333333333333, \"rgb(171,217,233)\"], [0.6666666666666666, \"rgb(253,174,97)\"], [1.0, \"rgb(215,25,28)\"]], \"dx\": 1, \"name\": \"1998\", \"visible\": false, \"x\": [\"15-19\", \"20-24\", \"25-29\", \"30-34\"], \"y\": [\"Brazil\", \"Canada\", \"China\", \"France\", \"Germany\", \"India\", \"Italy\", \"Japan\", \"Mexico\", \"Nigeria\", \"Russia\", \"Saudi Arabia\", \"South Africa\", \"Spain\", \"U.K.\", \"U.S.\"], \"z\": [[1.7144656771899998, 2.3281367255400003, 2.10307737194, 1.6293112932999998], [6.1766668109800005, 5.80132342034, 4.2222182935, 2.9466026770599996], [1.61241488944, 3.0075904463200005, 3.0486773858999996, 2.28414084345], [2.5742492448700003, 2.43235742363, 2.0595127632400003, 1.58274101919], [2.15450070771, 1.9999913788599997, 1.61278182802, 1.2263548856], [0.489744165241, 1.07540258145, 1.2310020748200001, 1.0364613565799998], [3.3883549840200002, 3.50413821676, 2.9324721952900004, 2.2354279220400004], [1.8757348782, 2.23654039336, 1.84290317367, 1.3460482774], [1.27560246444, 1.86354217348, 1.7391767109799998, 1.33436981618], [0.342507437833, 1.07423913974, 1.24772857373, 0.949126554329], [1.6990424164000002, 2.61614301525, 2.47933614629, 1.83816411211], [0.9107850059029999, 2.7521987153099996, 3.54359380026, 3.15079687201], [1.6373699053500002, 3.1585739848100003, 3.45327602638, 2.76904629025], [3.39911833403, 3.1981646016900003, 2.60738403509, 1.9663411838599998], [4.486748264059999, 4.17659961044, 3.17205804481, 2.3855929386200003], [7.36679078303, 6.981196291940002, 5.01942929354, 3.64259540012]], \"zmax\": 8.56955510337, \"zmin\": 0.325727350016, \"type\": \"heatmap\", \"uid\": \"6b2d9de9-ea9c-4e3e-9c96-a6159ac98382\"}, {\"colorbar\": {\"title\": {\"text\": \"Drug Use (%)\"}}, \"colorscale\": [[0.0, \"rgb(44,123,182)\"], [0.3333333333333333, \"rgb(171,217,233)\"], [0.6666666666666666, \"rgb(253,174,97)\"], [1.0, \"rgb(215,25,28)\"]], \"dx\": 1, \"name\": \"1999\", \"visible\": false, \"x\": [\"15-19\", \"20-24\", \"25-29\", \"30-34\"], \"y\": [\"Brazil\", \"Canada\", \"China\", \"France\", \"Germany\", \"India\", \"Italy\", \"Japan\", \"Mexico\", \"Nigeria\", \"Russia\", \"Saudi Arabia\", \"South Africa\", \"Spain\", \"U.K.\", \"U.S.\"], \"z\": [[1.7197856124200002, 2.3314516222500004, 2.10390859187, 1.6286124910600002], [6.45241357882, 6.055351817640001, 4.40575393984, 3.0640492703400004], [1.59611259689, 2.95380359003, 2.9995070899600003, 2.25718567545], [2.65272379253, 2.47886111408, 2.08420376699, 1.5983375752300002], [2.21005206529, 2.04867662089, 1.64214631366, 1.24387158414], [0.5192073047820001, 1.09639578789, 1.24175468146, 1.0441955449], [3.4555209217000002, 3.5707439543199997, 2.99357368084, 2.28252072854], [1.87030507533, 2.2364241249, 1.8440805871000001, 1.34684180203], [1.27044502046, 1.85524009561, 1.7345318244, 1.33276622081], [0.344567872557, 1.0744416945, 1.24466853647, 0.9466593866840001], [1.7129397282299998, 2.65599914664, 2.5285943267900004, 1.87724878887], [0.9109495181299999, 2.7586563560000004, 3.5563700650400003, 3.1529309226200004], [1.58633238145, 3.10695126805, 3.4114344862299997, 2.73141954583], [3.52342836564, 3.29020369009, 2.66295892845, 2.02102120986], [4.5844409306300005, 4.19845002122, 3.1882979106200002, 2.40224667866], [7.703584212010001, 7.305844062929999, 5.240939200990001, 3.80006497271]], \"zmax\": 8.56955510337, \"zmin\": 0.325727350016, \"type\": \"heatmap\", \"uid\": \"96cc14c4-4aa4-42f5-8874-238688694979\"}, {\"colorbar\": {\"title\": {\"text\": \"Drug Use (%)\"}}, \"colorscale\": [[0.0, \"rgb(44,123,182)\"], [0.3333333333333333, \"rgb(171,217,233)\"], [0.6666666666666666, \"rgb(253,174,97)\"], [1.0, \"rgb(215,25,28)\"]], \"dx\": 1, \"name\": \"2000\", \"visible\": false, \"x\": [\"15-19\", \"20-24\", \"25-29\", \"30-34\"], \"y\": [\"Brazil\", \"Canada\", \"China\", \"France\", \"Germany\", \"India\", \"Italy\", \"Japan\", \"Mexico\", \"Nigeria\", \"Russia\", \"Saudi Arabia\", \"South Africa\", \"Spain\", \"U.K.\", \"U.S.\"], \"z\": [[1.7239842305800002, 2.33319213074, 2.1052265558000003, 1.62757859636], [6.58740833595, 6.179277356669999, 4.494533426309999, 3.1194793068], [1.5827790242000002, 2.90685554331, 2.9540552095, 2.2314409905700003], [2.69004759608, 2.52396904002, 2.11062263175, 1.60965642935], [2.24704568893, 2.08687762826, 1.6714001484199998, 1.26203915569], [0.531951441655, 1.10415603561, 1.24591059115, 1.04733691052], [3.4822463590599995, 3.6049557257, 3.02314145006, 2.30418245769], [1.86861730664, 2.23670486904, 1.84573184023, 1.34722694919], [1.26559081626, 1.8481424912400002, 1.73171710232, 1.3330209935200001], [0.34466899773000004, 1.07589706062, 1.24175630404, 0.9435523920100001], [1.7207697999100002, 2.67610000713, 2.5544444211900004, 1.9050895280400002], [0.9117477642, 2.76642520105, 3.55332008052, 3.1518239122000002], [1.55583049361, 3.0642448748400004, 3.3717389968500004, 2.69464223055], [3.6141074203800003, 3.36414849929, 2.7251268226599996, 2.06495718052], [4.625120979069999, 4.2161839456, 3.2089932939700003, 2.4228760355200003], [7.879788756960001, 7.506116506230001, 5.3902132834000005, 3.90747426583]], \"zmax\": 8.56955510337, \"zmin\": 0.325727350016, \"type\": \"heatmap\", \"uid\": \"bbed1716-b3c3-4859-8859-29f09a9a20d0\"}, {\"colorbar\": {\"title\": {\"text\": \"Drug Use (%)\"}}, \"colorscale\": [[0.0, \"rgb(44,123,182)\"], [0.3333333333333333, \"rgb(171,217,233)\"], [0.6666666666666666, \"rgb(253,174,97)\"], [1.0, \"rgb(215,25,28)\"]], \"dx\": 1, \"name\": \"2001\", \"visible\": false, \"x\": [\"15-19\", \"20-24\", \"25-29\", \"30-34\"], \"y\": [\"Brazil\", \"Canada\", \"China\", \"France\", \"Germany\", \"India\", \"Italy\", \"Japan\", \"Mexico\", \"Nigeria\", \"Russia\", \"Saudi Arabia\", \"South Africa\", \"Spain\", \"U.K.\", \"U.S.\"], \"z\": [[1.7235076409, 2.33736778902, 2.10968699096, 1.63085270233], [6.60227851896, 6.206838893169999, 4.50995047464, 3.1245203081999997], [1.5680042771000002, 2.8604073590599994, 2.90954475181, 2.2059223126200003], [2.7118938614999997, 2.56098102336, 2.14458615887, 1.6284244553100002], [2.2671880329, 2.11745672175, 1.6961435025099998, 1.2841921243799999], [0.532204654728, 1.10200313154, 1.24369079172, 1.04744243549], [3.5107849098900004, 3.62841531251, 3.04177022066, 2.32181211307], [1.86746900972, 2.23754497751, 1.84621424768, 1.34661876493], [1.25721372458, 1.84391073554, 1.7336984515599998, 1.33812018059], [0.345576196853, 1.07142640192, 1.24182931288, 0.943762380453], [1.7303158660500002, 2.68529444043, 2.56484332054, 1.9236527240599999], [0.909989913486, 2.7578730704299996, 3.5357984839200003, 3.1551868413300004], [1.53546099814, 3.01408274706, 3.30595667032, 2.63827123527], [3.6850378989499997, 3.4263135292199998, 2.7668605609599997, 2.09170284805], [4.61512190691, 4.23487929873, 3.2500616071399997, 2.46508679177], [7.924068958239999, 7.62111499046, 5.48432390842, 3.97509702211]], \"zmax\": 8.56955510337, \"zmin\": 0.325727350016, \"type\": \"heatmap\", \"uid\": \"51fc9643-8f82-4881-82ca-c7cf54734339\"}, {\"colorbar\": {\"title\": {\"text\": \"Drug Use (%)\"}}, \"colorscale\": [[0.0, \"rgb(44,123,182)\"], [0.3333333333333333, \"rgb(171,217,233)\"], [0.6666666666666666, \"rgb(253,174,97)\"], [1.0, \"rgb(215,25,28)\"]], \"dx\": 1, \"name\": \"2002\", \"visible\": false, \"x\": [\"15-19\", \"20-24\", \"25-29\", \"30-34\"], \"y\": [\"Brazil\", \"Canada\", \"China\", \"France\", \"Germany\", \"India\", \"Italy\", \"Japan\", \"Mexico\", \"Nigeria\", \"Russia\", \"Saudi Arabia\", \"South Africa\", \"Spain\", \"U.K.\", \"U.S.\"], \"z\": [[1.72307714955, 2.34532438978, 2.1203567325, 1.63884437778], [6.59824317583, 6.23631085381, 4.5094922336400005, 3.1117884421099995], [1.55105733838, 2.81032487605, 2.8572566861799995, 2.17513032588], [2.7447657804600003, 2.61164879829, 2.19107203354, 1.66779320741], [2.2789905586100003, 2.1518734988599997, 1.72919267785, 1.30043726214], [0.530869038021, 1.09881896737, 1.24025503951, 1.04700754611], [3.5644543903200003, 3.67936895585, 3.07399138828, 2.3461492544499998], [1.86543636129, 2.2379475963599997, 1.84567072305, 1.34616090449], [1.24346113557, 1.84085056867, 1.7367988827599998, 1.3454560542200003], [0.344697028342, 1.0720700537799999, 1.23958470571, 0.9421613559540001], [1.7478935862999998, 2.69441310995, 2.57442202466, 1.9396739214200003], [0.909814583169, 2.7427886662700005, 3.5131734234500005, 3.13361143544], [1.5102263928100002, 2.9369485990599995, 3.2026985317800003, 2.55510404251], [3.7580527653900004, 3.49548782572, 2.80920521221, 2.11698517032], [4.585952160030001, 4.2580660931, 3.3124972949299996, 2.53268484267], [7.92680513913, 7.71771043913, 5.575993616340001, 4.03496773459]], \"zmax\": 8.56955510337, \"zmin\": 0.325727350016, \"type\": \"heatmap\", \"uid\": \"0e1caa47-3aae-4ece-a809-5f1aef45a298\"}, {\"colorbar\": {\"title\": {\"text\": \"Drug Use (%)\"}}, \"colorscale\": [[0.0, \"rgb(44,123,182)\"], [0.3333333333333333, \"rgb(171,217,233)\"], [0.6666666666666666, \"rgb(253,174,97)\"], [1.0, \"rgb(215,25,28)\"]], \"dx\": 1, \"name\": \"2003\", \"visible\": false, \"x\": [\"15-19\", \"20-24\", \"25-29\", \"30-34\"], \"y\": [\"Brazil\", \"Canada\", \"China\", \"France\", \"Germany\", \"India\", \"Italy\", \"Japan\", \"Mexico\", \"Nigeria\", \"Russia\", \"Saudi Arabia\", \"South Africa\", \"Spain\", \"U.K.\", \"U.S.\"], \"z\": [[1.7244851954099998, 2.3567448167, 2.13080442256, 1.6474008396800002], [6.56761338638, 6.26711084496, 4.50891136611, 3.1086673429400005], [1.53349978435, 2.7598518916900003, 2.8013208828, 2.14278968089], [2.7689779254799998, 2.661163066, 2.25133401551, 1.7196118314900002], [2.28948215809, 2.17933194178, 1.7573639402599999, 1.3166789159], [0.528404816036, 1.09518815041, 1.23723953583, 1.0474818453299999], [3.62136254134, 3.73429109336, 3.10802467912, 2.37542701136], [1.86420019571, 2.2377054463499997, 1.8460246171599999, 1.34538761412], [1.2292324534, 1.83781224708, 1.7436904397900002, 1.3542070198700003], [0.340701754548, 1.0699949569, 1.23484302339, 0.947825541782], [1.76735857596, 2.70348477718, 2.5800751895400005, 1.95424906762], [0.903118488237, 2.72225154258, 3.49827804454, 3.1207961068799994], [1.4805392919100002, 2.84761457, 3.08908373386, 2.4622276504799996], [3.81812132694, 3.55773126449, 2.8455025572, 2.13933412323], [4.54764755778, 4.28229479269, 3.3812819955299998, 2.60735921438], [7.906434043960002, 7.8007101205, 5.6651411576, 4.09545968888]], \"zmax\": 8.56955510337, \"zmin\": 0.325727350016, \"type\": \"heatmap\", \"uid\": \"f5a5a0db-6a0b-4ab7-8d20-c7856b1aa261\"}, {\"colorbar\": {\"title\": {\"text\": \"Drug Use (%)\"}}, \"colorscale\": [[0.0, \"rgb(44,123,182)\"], [0.3333333333333333, \"rgb(171,217,233)\"], [0.6666666666666666, \"rgb(253,174,97)\"], [1.0, \"rgb(215,25,28)\"]], \"dx\": 1, \"name\": \"2004\", \"visible\": false, \"x\": [\"15-19\", \"20-24\", \"25-29\", \"30-34\"], \"y\": [\"Brazil\", \"Canada\", \"China\", \"France\", \"Germany\", \"India\", \"Italy\", \"Japan\", \"Mexico\", \"Nigeria\", \"Russia\", \"Saudi Arabia\", \"South Africa\", \"Spain\", \"U.K.\", \"U.S.\"], \"z\": [[1.7275889748900002, 2.36625067366, 2.1394656971200003, 1.6538307357000002], [6.5384371325, 6.2706591083599985, 4.50352975894, 3.09198287268], [1.5175703102000002, 2.7168559396200003, 2.7520047766, 2.1121501080300003], [2.7872752200099997, 2.71645663499, 2.31213298539, 1.7684032415099995], [2.29660103948, 2.2067680979400004, 1.77556424351, 1.3344153253], [0.524577925674, 1.09112089953, 1.2346436204, 1.0479995173299999], [3.6590127512699997, 3.77253391952, 3.13050627055, 2.40246570203], [1.8631539186400001, 2.23877459403, 1.84697212916, 1.34544557944], [1.21747679589, 1.83509857699, 1.74828262153, 1.35948592419], [0.339266028916, 1.06804229295, 1.23530237666, 0.947653108181], [1.7820794054, 2.7074945312, 2.5858039116, 1.9665182506599999], [0.903863152527, 2.7034726863599996, 3.4840045628199996, 3.1108189692400003], [1.4516133668, 2.7662502420400004, 2.98653978486, 2.37624449217], [3.8720308646099997, 3.61130722664, 2.8766411402700003, 2.1546865447599997], [4.51002390665, 4.3028645261800005, 3.43955231812, 2.67100217727], [7.87962274913, 7.855294747249999, 5.74628452439, 4.1512299964900015]], \"zmax\": 8.56955510337, \"zmin\": 0.325727350016, \"type\": \"heatmap\", \"uid\": \"5b2388fd-e894-4b7d-9697-232dc2da50c6\"}, {\"colorbar\": {\"title\": {\"text\": \"Drug Use (%)\"}}, \"colorscale\": [[0.0, \"rgb(44,123,182)\"], [0.3333333333333333, \"rgb(171,217,233)\"], [0.6666666666666666, \"rgb(253,174,97)\"], [1.0, \"rgb(215,25,28)\"]], \"dx\": 1, \"name\": \"2005\", \"visible\": false, \"x\": [\"15-19\", \"20-24\", \"25-29\", \"30-34\"], \"y\": [\"Brazil\", \"Canada\", \"China\", \"France\", \"Germany\", \"India\", \"Italy\", \"Japan\", \"Mexico\", \"Nigeria\", \"Russia\", \"Saudi Arabia\", \"South Africa\", \"Spain\", \"U.K.\", \"U.S.\"], \"z\": [[1.73176410632, 2.3721320668, 2.14704732986, 1.65955347058], [6.495690002359999, 6.27405772941, 4.494107565359999, 3.0752528944099997], [1.5080276180899999, 2.6866282050900003, 2.71571071141, 2.08904550874], [2.80003770319, 2.7567601401700004, 2.35781419693, 1.8105479155200002], [2.3045858433099995, 2.22209841184, 1.8054025166099998, 1.35002368179], [0.52085839285, 1.0887571969899998, 1.23328383424, 1.05020376905], [3.65766204338, 3.77373230675, 3.1301853582700003, 2.40458018623], [1.86287932768, 2.24054584652, 1.84920816711, 1.3472721211799998], [1.21354893715, 1.8345874472400001, 1.75000123028, 1.36205669122], [0.33945354422799995, 1.06847761159, 1.23275553743, 0.944716136786], [1.7877331489400001, 2.7077784050200004, 2.58797160202, 1.9764532824799999], [0.904601249382, 2.7005122631600003, 3.4793814603200004, 3.10993977013], [1.42036855179, 2.70571325955, 2.9160810766500003, 2.31811421018], [3.90743135847, 3.6464236116400004, 2.89795957435, 2.15839893328], [4.48313572711, 4.318569974, 3.47160649602, 2.7034257853500003], [7.857519689580001, 7.8776756059899995, 5.819002778610001, 4.2087073861199995]], \"zmax\": 8.56955510337, \"zmin\": 0.325727350016, \"type\": \"heatmap\", \"uid\": \"d8c33c90-cce1-491b-81ff-a29b11cc9e8f\"}, {\"colorbar\": {\"title\": {\"text\": \"Drug Use (%)\"}}, \"colorscale\": [[0.0, \"rgb(44,123,182)\"], [0.3333333333333333, \"rgb(171,217,233)\"], [0.6666666666666666, \"rgb(253,174,97)\"], [1.0, \"rgb(215,25,28)\"]], \"dx\": 1, \"name\": \"2006\", \"visible\": false, \"x\": [\"15-19\", \"20-24\", \"25-29\", \"30-34\"], \"y\": [\"Brazil\", \"Canada\", \"China\", \"France\", \"Germany\", \"India\", \"Italy\", \"Japan\", \"Mexico\", \"Nigeria\", \"Russia\", \"Saudi Arabia\", \"South Africa\", \"Spain\", \"U.K.\", \"U.S.\"], \"z\": [[1.7476537417400002, 2.38538698304, 2.15815836839, 1.66992515845], [6.429056170369999, 6.24124028545, 4.46493251111, 3.06550239954], [1.50322086432, 2.66665835884, 2.6881116804799996, 2.07002319333], [2.7927878597, 2.80152284176, 2.4164709471, 1.84655406513], [2.28476577585, 2.23937802434, 1.82936335588, 1.37029258912], [0.511407818313, 1.08586522444, 1.2341483413, 1.05250816935], [3.60165721806, 3.73526515, 3.1080013536299997, 2.3791606646], [1.86647413362, 2.24769301801, 1.85682007009, 1.3517400550299998], [1.2324633766200002, 1.8316552479700001, 1.7374075291799997, 1.35266521717], [0.33900303317900005, 1.06969201451, 1.23410387117, 0.946449730665], [1.78178218418, 2.70185480038, 2.5905834951099997, 1.9879985033099996], [0.915516490308, 2.7338297628099997, 3.5338825006600003, 3.15464204467], [1.39084171224, 2.66823238521, 2.87989883755, 2.28454822612], [3.92432062824, 3.67091396881, 2.89427049778, 2.15391577305], [4.4778719568800005, 4.3364722006299985, 3.4788537524699996, 2.71122550319], [7.76204986497, 7.856968901739999, 5.88424551057, 4.267677186969999]], \"zmax\": 8.56955510337, \"zmin\": 0.325727350016, \"type\": \"heatmap\", \"uid\": \"8e7acbf6-43ca-482f-9ba1-46a918d4fee2\"}, {\"colorbar\": {\"title\": {\"text\": \"Drug Use (%)\"}}, \"colorscale\": [[0.0, \"rgb(44,123,182)\"], [0.3333333333333333, \"rgb(171,217,233)\"], [0.6666666666666666, \"rgb(253,174,97)\"], [1.0, \"rgb(215,25,28)\"]], \"dx\": 1, \"name\": \"2007\", \"visible\": false, \"x\": [\"15-19\", \"20-24\", \"25-29\", \"30-34\"], \"y\": [\"Brazil\", \"Canada\", \"China\", \"France\", \"Germany\", \"India\", \"Italy\", \"Japan\", \"Mexico\", \"Nigeria\", \"Russia\", \"Saudi Arabia\", \"South Africa\", \"Spain\", \"U.K.\", \"U.S.\"], \"z\": [[1.7803996279699998, 2.41096096363, 2.1795084191400003, 1.68804879777], [6.3348418862, 6.166496685, 4.4213977385500005, 3.0346225602599994], [1.5034268762, 2.6557678685900004, 2.66738293964, 2.05408143896], [2.76282471638, 2.84335146679, 2.47247446681, 1.89650809918], [2.23668762285, 2.26069401832, 1.87346096177, 1.4004743042399999], [0.4955802611920001, 1.08031354817, 1.23561409832, 1.0555858256], [3.5221499136000003, 3.665832736260001, 3.05829646481, 2.34548770318], [1.87450837458, 2.26189834168, 1.86945974297, 1.3601415182499998], [1.27485968325, 1.8262042392, 1.71123387486, 1.32933508353], [0.339734871307, 1.07034814239, 1.23644388029, 0.9503615136110001], [1.7706616086700002, 2.69227770912, 2.5936610169799996, 2.00208880325], [0.9338339085189999, 2.81172661504, 3.63797422373, 3.2487391531800003], [1.3595692017899998, 2.63398079375, 2.8525595331299995, 2.2585099358300003], [3.93098355751, 3.6887255813, 2.87535137696, 2.12618499221], [4.49302397465, 4.35739502656, 3.4741845703400003, 2.7107930639399997], [7.55731485041, 7.803418633950001, 5.94777940977, 4.3279083197800015]], \"zmax\": 8.56955510337, \"zmin\": 0.325727350016, \"type\": \"heatmap\", \"uid\": \"7b08615c-8dd5-4096-95e7-bdfa333ec9f5\"}, {\"colorbar\": {\"title\": {\"text\": \"Drug Use (%)\"}}, \"colorscale\": [[0.0, \"rgb(44,123,182)\"], [0.3333333333333333, \"rgb(171,217,233)\"], [0.6666666666666666, \"rgb(253,174,97)\"], [1.0, \"rgb(215,25,28)\"]], \"dx\": 1, \"name\": \"2008\", \"visible\": false, \"x\": [\"15-19\", \"20-24\", \"25-29\", \"30-34\"], \"y\": [\"Brazil\", \"Canada\", \"China\", \"France\", \"Germany\", \"India\", \"Italy\", \"Japan\", \"Mexico\", \"Nigeria\", \"Russia\", \"Saudi Arabia\", \"South Africa\", \"Spain\", \"U.K.\", \"U.S.\"], \"z\": [[1.81852615883, 2.44004508206, 2.20536222614, 1.71033196475], [6.22146017026, 6.054711231919999, 4.37451766536, 3.01102568533], [1.50495395826, 2.64834235953, 2.65312483809, 2.04193308553], [2.72976980793, 2.88726346517, 2.53197769812, 1.9391389576099998], [2.17701186148, 2.2839044682200003, 1.91414159156, 1.43598792553], [0.477897864841, 1.07475547732, 1.2382222618799998, 1.06072627173], [3.4164747566100004, 3.5940243453500003, 2.99960859699, 2.3017807791900005], [1.88434738511, 2.2782815622599997, 1.88621670218, 1.3720938689500002], [1.3291867375700002, 1.82259131075, 1.67855936211, 1.3016116191299998], [0.341251838101, 1.07255854639, 1.2412593372499998, 0.954377268823], [1.75676183042, 2.68027590387, 2.59476082628, 2.01601359857], [0.959191750691, 2.90896397974, 3.76636661018, 3.368657388], [1.32650416343, 2.60428830413, 2.8254189921, 2.2351753373900003], [3.94438802556, 3.70182934031, 2.8541082989099995, 2.09726014794], [4.508641068409999, 4.37854397158, 3.4619989298400005, 2.7048596630199997], [7.313616884479999, 7.743735072750001, 6.0136242283599985, 4.39659410416]], \"zmax\": 8.56955510337, \"zmin\": 0.325727350016, \"type\": \"heatmap\", \"uid\": \"fb29f2db-3fe6-4731-ad70-acd31813bce7\"}, {\"colorbar\": {\"title\": {\"text\": \"Drug Use (%)\"}}, \"colorscale\": [[0.0, \"rgb(44,123,182)\"], [0.3333333333333333, \"rgb(171,217,233)\"], [0.6666666666666666, \"rgb(253,174,97)\"], [1.0, \"rgb(215,25,28)\"]], \"dx\": 1, \"name\": \"2009\", \"visible\": false, \"x\": [\"15-19\", \"20-24\", \"25-29\", \"30-34\"], \"y\": [\"Brazil\", \"Canada\", \"China\", \"France\", \"Germany\", \"India\", \"Italy\", \"Japan\", \"Mexico\", \"Nigeria\", \"Russia\", \"Saudi Arabia\", \"South Africa\", \"Spain\", \"U.K.\", \"U.S.\"], \"z\": [[1.85349091149, 2.46566101306, 2.22572893512, 1.73095406179], [6.1162408016, 5.967698609109999, 4.32842496433, 2.9946079880000003], [1.50885768351, 2.6493208557, 2.64739359127, 2.03631773317], [2.70273585814, 2.92316517369, 2.57570497931, 1.97246218533], [2.12200925942, 2.2965657499, 1.95343009036, 1.4611143242700002], [0.463725079866, 1.07210861006, 1.24329596979, 1.06605417038], [3.31436630242, 3.5241087835400005, 2.94718207463, 2.25381129963], [1.8929903987099999, 2.2962216203, 1.9005243871400002, 1.3834708518499998], [1.37897281018, 1.81898019358, 1.65125144954, 1.27738207978], [0.341298079024, 1.07271917607, 1.24407743296, 0.954804118556], [1.74332174211, 2.66483841199, 2.5932780581099997, 2.02745149956], [0.982428558656, 3.0083578547000003, 3.89614165313, 3.4845412757300003], [1.2934658205399998, 2.57217010874, 2.79864116759, 2.21348131049], [3.9484386847800006, 3.7093431083699997, 2.83394832701, 2.0753747542], [4.50962050539, 4.38790036508, 3.44239558391, 2.69447727475], [7.110168121219998, 7.705070413690001, 6.08590736678, 4.4698510449199995]], \"zmax\": 8.56955510337, \"zmin\": 0.325727350016, \"type\": \"heatmap\", \"uid\": \"f02aa3a4-dbbd-4d2e-a2f4-aee006349eb3\"}, {\"colorbar\": {\"title\": {\"text\": \"Drug Use (%)\"}}, \"colorscale\": [[0.0, \"rgb(44,123,182)\"], [0.3333333333333333, \"rgb(171,217,233)\"], [0.6666666666666666, \"rgb(253,174,97)\"], [1.0, \"rgb(215,25,28)\"]], \"dx\": 1, \"name\": \"2010\", \"visible\": false, \"x\": [\"15-19\", \"20-24\", \"25-29\", \"30-34\"], \"y\": [\"Brazil\", \"Canada\", \"China\", \"France\", \"Germany\", \"India\", \"Italy\", \"Japan\", \"Mexico\", \"Nigeria\", \"Russia\", \"Saudi Arabia\", \"South Africa\", \"Spain\", \"U.K.\", \"U.S.\"], \"z\": [[1.8755062846200001, 2.4817247462100003, 2.24002486656, 1.7425473920299999], [6.02928505098, 5.89079929872, 4.29430414655, 2.9857457967200003], [1.51316396555, 2.6506974212200003, 2.64980079782, 2.03647419001], [2.69091647059, 2.94111692995, 2.5900082156599997, 1.98715874095], [2.10379536458, 2.29868659819, 1.97121274217, 1.47364552587], [0.458176179155, 1.07216316404, 1.24974946457, 1.07307322844], [3.2418992395700004, 3.46533679368, 2.89876326252, 2.21643938496], [1.8977281615700001, 2.3057574139200003, 1.91418051792, 1.3955347379299998], [1.4145292028, 1.82202945303, 1.64018731732, 1.2684068422299999], [0.340883673157, 1.0750688755, 1.24147363709, 0.956669931541], [1.7327722920900002, 2.64886743752, 2.58929045064, 2.03239037647], [0.9997886233580001, 3.0747789965900005, 3.98036634245, 3.56296637014], [1.26366381044, 2.53810516068, 2.77055524083, 2.18634657562], [3.95658622519, 3.7145395766900005, 2.8351534018700004, 2.07232678376], [4.47651901161, 4.37716534309, 3.41748367893, 2.6809318928500003], [7.020227267530001, 7.71366651402, 6.166594999580001, 4.5503422788800005]], \"zmax\": 8.56955510337, \"zmin\": 0.325727350016, \"type\": \"heatmap\", \"uid\": \"17f34ad9-6b94-4480-9a43-5337064ff238\"}, {\"colorbar\": {\"title\": {\"text\": \"Drug Use (%)\"}}, \"colorscale\": [[0.0, \"rgb(44,123,182)\"], [0.3333333333333333, \"rgb(171,217,233)\"], [0.6666666666666666, \"rgb(253,174,97)\"], [1.0, \"rgb(215,25,28)\"]], \"dx\": 1, \"name\": \"2011\", \"visible\": false, \"x\": [\"15-19\", \"20-24\", \"25-29\", \"30-34\"], \"y\": [\"Brazil\", \"Canada\", \"China\", \"France\", \"Germany\", \"India\", \"Italy\", \"Japan\", \"Mexico\", \"Nigeria\", \"Russia\", \"Saudi Arabia\", \"South Africa\", \"Spain\", \"U.K.\", \"U.S.\"], \"z\": [[1.88807649245, 2.48933100058, 2.2469155129700003, 1.75045083499], [5.9657085035, 5.85234406254, 4.27815233582, 2.99037824503], [1.5168037238, 2.65937035897, 2.65624498954, 2.04268403438], [2.69432317686, 2.9491457962700003, 2.5936061505700003, 1.99295763161], [2.10048264535, 2.2904788320800002, 1.97150784143, 1.4740815166299999], [0.45848170590899995, 1.07553114183, 1.2556963752399999, 1.0801073514200001], [3.1840117885500003, 3.41599304202, 2.85423088518, 2.1878452905700003], [1.89916264282, 2.31478968441, 1.92576680858, 1.4059191987300002], [1.43725582277, 1.8300174485599998, 1.64155528902, 1.26983065089], [0.34159667577200004, 1.07380542137, 1.24538320502, 0.959442589871], [1.7211733484599998, 2.6223971751499997, 2.57168322934, 2.02836191634], [1.01178004256, 3.12431636378, 4.03509615634, 3.62478431167], [1.23423356138, 2.50054464637, 2.73753264111, 2.1531881421900003], [3.9708730510400003, 3.71896381396, 2.8467946630000003, 2.0759916401], [4.422559393769999, 4.350668712659998, 3.3909833244, 2.6642911506], [7.01294773863, 7.7643233056300005, 6.26600280426, 4.64728933692]], \"zmax\": 8.56955510337, \"zmin\": 0.325727350016, \"type\": \"heatmap\", \"uid\": \"5e9b3dc5-259e-40b8-9d5f-3bf85904f958\"}, {\"colorbar\": {\"title\": {\"text\": \"Drug Use (%)\"}}, \"colorscale\": [[0.0, \"rgb(44,123,182)\"], [0.3333333333333333, \"rgb(171,217,233)\"], [0.6666666666666666, \"rgb(253,174,97)\"], [1.0, \"rgb(215,25,28)\"]], \"dx\": 1, \"name\": \"2012\", \"visible\": false, \"x\": [\"15-19\", \"20-24\", \"25-29\", \"30-34\"], \"y\": [\"Brazil\", \"Canada\", \"China\", \"France\", \"Germany\", \"India\", \"Italy\", \"Japan\", \"Mexico\", \"Nigeria\", \"Russia\", \"Saudi Arabia\", \"South Africa\", \"Spain\", \"U.K.\", \"U.S.\"], \"z\": [[1.89389733944, 2.4987571289900004, 2.2577943745200004, 1.7590504807799998], [5.91498291155, 5.8300185534399995, 4.27983898167, 3.00261670213], [1.5230136317700003, 2.67429621293, 2.67093943485, 2.05425165778], [2.69928286278, 2.95245745696, 2.59434205805, 1.98853376607], [2.0915285304599998, 2.28302483159, 1.96646026235, 1.47347534081], [0.45985574748499997, 1.07856893266, 1.2619700923700001, 1.08654144812], [3.1147318770499997, 3.34895491887, 2.80405933153, 2.14482507738], [1.900324151, 2.3260095456, 1.94121379733, 1.4164247801699998], [1.4585399304100002, 1.83871288284, 1.64517302282, 1.27454508644], [0.34084914892499996, 1.0740301222000002, 1.24413449606, 0.964884916859], [1.70390241537, 2.57915965429, 2.53515981978, 2.01199784694], [1.02042084681, 3.17319273946, 4.09753264056, 3.6666085917], [1.21018892495, 2.45677783287, 2.69318578919, 2.1143802095299997], [3.9855809673500002, 3.73455374206, 2.8514286837, 2.0833048582], [4.36993823781, 4.318979369719999, 3.3604937092, 2.64441888208], [7.017891699480001, 7.84140912602, 6.39102784779, 4.75970593141]], \"zmax\": 8.56955510337, \"zmin\": 0.325727350016, \"type\": \"heatmap\", \"uid\": \"259e5f23-65cc-4287-91f4-aba5af500c63\"}, {\"colorbar\": {\"title\": {\"text\": \"Drug Use (%)\"}}, \"colorscale\": [[0.0, \"rgb(44,123,182)\"], [0.3333333333333333, \"rgb(171,217,233)\"], [0.6666666666666666, \"rgb(253,174,97)\"], [1.0, \"rgb(215,25,28)\"]], \"dx\": 1, \"name\": \"2013\", \"visible\": false, \"x\": [\"15-19\", \"20-24\", \"25-29\", \"30-34\"], \"y\": [\"Brazil\", \"Canada\", \"China\", \"France\", \"Germany\", \"India\", \"Italy\", \"Japan\", \"Mexico\", \"Nigeria\", \"Russia\", \"Saudi Arabia\", \"South Africa\", \"Spain\", \"U.K.\", \"U.S.\"], \"z\": [[1.89928546907, 2.51018203821, 2.27090901386, 1.76864035561], [5.875453321869999, 5.83002367151, 4.29763623712, 3.0248175191500004], [1.5306621583700002, 2.69649003468, 2.69193564571, 2.0709676705], [2.70434034082, 2.94835658001, 2.58114463987, 1.97987560259], [2.08754890341, 2.26225313699, 1.95619352937, 1.47005839326], [0.462482450161, 1.08181786685, 1.2679677496100001, 1.09392288338], [3.0350065095599996, 3.27105392941, 2.74436078435, 2.10128267997], [1.9014178120900003, 2.33741968188, 1.95585450373, 1.4285421851], [1.47848598331, 1.85284144478, 1.6527828670000002, 1.28015260451], [0.34044627921000004, 1.0768695551799998, 1.24743702516, 0.968154923638], [1.68102040264, 2.52182563901, 2.4817353391599997, 1.98486314046], [1.03327505653, 3.21267922638, 4.15046407857, 3.7083648766800006], [1.18618930126, 2.41034892464, 2.64115012593, 2.07073354732], [4.001674233459999, 3.76404097189, 2.86515949761, 2.09238038099], [4.31308582329, 4.281134817190001, 3.3287517944200005, 2.6216742205], [7.033786961110001, 7.941815887410001, 6.5338723418699995, 4.8925107701]], \"zmax\": 8.56955510337, \"zmin\": 0.325727350016, \"type\": \"heatmap\", \"uid\": \"f199749d-1411-4bf8-bf2e-b22bfb872369\"}, {\"colorbar\": {\"title\": {\"text\": \"Drug Use (%)\"}}, \"colorscale\": [[0.0, \"rgb(44,123,182)\"], [0.3333333333333333, \"rgb(171,217,233)\"], [0.6666666666666666, \"rgb(253,174,97)\"], [1.0, \"rgb(215,25,28)\"]], \"dx\": 1, \"name\": \"2014\", \"visible\": false, \"x\": [\"15-19\", \"20-24\", \"25-29\", \"30-34\"], \"y\": [\"Brazil\", \"Canada\", \"China\", \"France\", \"Germany\", \"India\", \"Italy\", \"Japan\", \"Mexico\", \"Nigeria\", \"Russia\", \"Saudi Arabia\", \"South Africa\", \"Spain\", \"U.K.\", \"U.S.\"], \"z\": [[1.90198870836, 2.52310869681, 2.2850008601600003, 1.7801964373900003], [5.84985630483, 5.83663337278, 4.31759343828, 3.06354573752], [1.53967401937, 2.72367397931, 2.7203769503, 2.0949242976900004], [2.70773058884, 2.93899033977, 2.5655268820500003, 1.96585660509], [2.09078677806, 2.24887741211, 1.9364263723500001, 1.46285468125], [0.467096384883, 1.08625792001, 1.27363991656, 1.10132695887], [2.94884806422, 3.18307964473, 2.6769078091100003, 2.05482323618], [1.90360065019, 2.35100660806, 1.97383733285, 1.4412941916100002], [1.4956521991299998, 1.86747887063, 1.6642693520899998, 1.28993341035], [0.33983450174099994, 1.07719909207, 1.2491363604299999, 0.973865644937], [1.6531686106499999, 2.45211696665, 2.41176015465, 1.9471409086400002], [1.0427247954899999, 3.2615215669700004, 4.19419393209, 3.75002627473], [1.16651499515, 2.3580899263, 2.5832523587900003, 2.02286782317], [4.01729352915, 3.7913745622099997, 2.89184577293, 2.10198653759], [4.2524278003600005, 4.23776674919, 3.2939174287899995, 2.59667610327], [7.06237171599, 8.06476903671, 6.694422586669999, 5.03882321518]], \"zmax\": 8.56955510337, \"zmin\": 0.325727350016, \"type\": \"heatmap\", \"uid\": \"46621289-1e6d-4b66-8caf-6fae456b9902\"}, {\"colorbar\": {\"title\": {\"text\": \"Drug Use (%)\"}}, \"colorscale\": [[0.0, \"rgb(44,123,182)\"], [0.3333333333333333, \"rgb(171,217,233)\"], [0.6666666666666666, \"rgb(253,174,97)\"], [1.0, \"rgb(215,25,28)\"]], \"dx\": 1, \"name\": \"2015\", \"visible\": false, \"x\": [\"15-19\", \"20-24\", \"25-29\", \"30-34\"], \"y\": [\"Brazil\", \"Canada\", \"China\", \"France\", \"Germany\", \"India\", \"Italy\", \"Japan\", \"Mexico\", \"Nigeria\", \"Russia\", \"Saudi Arabia\", \"South Africa\", \"Spain\", \"U.K.\", \"U.S.\"], \"z\": [[1.90026256036, 2.53468908787, 2.30211131435, 1.7923681053599998], [5.83461280839, 5.857913029100001, 4.34812289637, 3.1120477713200003], [1.55050396506, 2.76089241834, 2.75752031223, 2.12449284075], [2.7181570580799996, 2.92228944348, 2.53947413225, 1.94246680396], [2.0953648468400004, 2.2443576067900004, 1.91677867808, 1.45389109456], [0.474345779848, 1.09165067043, 1.28002159057, 1.10883178594], [2.85975354288, 3.0850395640599997, 2.6036505219099997, 2.00263384652], [1.90567838658, 2.36511540201, 1.99184654332, 1.45516527861], [1.5113952579499998, 1.88735463638, 1.6782464675600002, 1.30175710717], [0.341279844515, 1.07946716649, 1.25586862892, 0.9759772023019999], [1.6214376765499998, 2.37200499494, 2.33011148957, 1.9009044500999999], [1.0538666883, 3.29277930098, 4.23720721836, 3.77019236708], [1.1467446828299999, 2.3052202491, 2.5209775566, 1.97157186016], [4.04068447805, 3.82498630982, 2.91563005255, 2.1134627775799997], [4.1880411874300005, 4.18707186904, 3.2577022306500005, 2.5705925717], [7.10475028174, 8.2113884477, 6.872668824600001, 5.19770796111]], \"zmax\": 8.56955510337, \"zmin\": 0.325727350016, \"type\": \"heatmap\", \"uid\": \"ebb1a065-23e6-4f7e-9bed-7445795f3082\"}, {\"colorbar\": {\"title\": {\"text\": \"Drug Use (%)\"}}, \"colorscale\": [[0.0, \"rgb(44,123,182)\"], [0.3333333333333333, \"rgb(171,217,233)\"], [0.6666666666666666, \"rgb(253,174,97)\"], [1.0, \"rgb(215,25,28)\"]], \"dx\": 1, \"name\": \"2016\", \"visible\": false, \"x\": [\"15-19\", \"20-24\", \"25-29\", \"30-34\"], \"y\": [\"Brazil\", \"Canada\", \"China\", \"France\", \"Germany\", \"India\", \"Italy\", \"Japan\", \"Mexico\", \"Nigeria\", \"Russia\", \"Saudi Arabia\", \"South Africa\", \"Spain\", \"U.K.\", \"U.S.\"], \"z\": [[1.89487161796, 2.546020474, 2.32074495474, 1.80412041963], [5.82973804375, 5.89308515319, 4.40132858017, 3.1608961728], [1.56136013463, 2.80119140273, 2.8017098652, 2.1576687899], [2.7328658686300003, 2.8984226952500003, 2.50691709882, 1.91560703252], [2.1103795060299997, 2.2353410119, 1.8906478082599998, 1.44110291128], [0.484992572345, 1.0983225863700001, 1.2863201896799998, 1.11650670734], [2.7610564071100003, 2.98344041451, 2.52818154224, 1.94774060427], [1.907232234, 2.3792825173299996, 2.0094167891, 1.4686940328], [1.5244130935100002, 1.9102669907, 1.69700458856, 1.31750007434], [0.339377434997, 1.08077708322, 1.25949198371, 0.981546647131], [1.58562908726, 2.28375650204, 2.23656568741, 1.8470863007599998], [1.0585931822499999, 3.32189044676, 4.2648593573700015, 3.7969650935300003], [1.12707909867, 2.25044475836, 2.4563776678, 1.91554876652], [4.05930626394, 3.8497642197900004, 2.94360593115, 2.12523172313], [4.1157314000300005, 4.13067387421, 3.21839027308, 2.54280525896], [7.16132436087, 8.37808301109, 7.063820177939999, 5.3660356181500015]], \"zmax\": 8.56955510337, \"zmin\": 0.325727350016, \"type\": \"heatmap\", \"uid\": \"261fdc50-aa16-407d-9ab3-b458ff09deda\"}, {\"colorbar\": {\"title\": {\"text\": \"Drug Use (%)\"}}, \"colorscale\": [[0.0, \"rgb(44,123,182)\"], [0.3333333333333333, \"rgb(171,217,233)\"], [0.6666666666666666, \"rgb(253,174,97)\"], [1.0, \"rgb(215,25,28)\"]], \"dx\": 1, \"name\": \"2017\", \"visible\": false, \"x\": [\"15-19\", \"20-24\", \"25-29\", \"30-34\"], \"y\": [\"Brazil\", \"Canada\", \"China\", \"France\", \"Germany\", \"India\", \"Italy\", \"Japan\", \"Mexico\", \"Nigeria\", \"Russia\", \"Saudi Arabia\", \"South Africa\", \"Spain\", \"U.K.\", \"U.S.\"], \"z\": [[1.88483694787, 2.55558149301, 2.33759626727, 1.8161089766499998], [5.832441503359999, 5.95114673712, 4.45137739786, 3.22177583587], [1.57518003141, 2.84832969648, 2.8543946540599996, 2.19774621201], [2.74279443802, 2.86034750997, 2.46099562251, 1.8741171845900002], [2.11407314657, 2.21190992199, 1.85197185847, 1.42500798745], [0.498977545109, 1.10698639151, 1.2930693826000002, 1.1235530270799998], [2.65800956517, 2.86982519385, 2.4420154161400003, 1.89246735704], [1.9104232627200002, 2.39577938411, 2.02993864721, 1.4842154909599998], [1.53463957099, 1.93636430791, 1.72022090604, 1.33386178796], [0.339167273094, 1.08387500994, 1.2645978195299998, 0.988625220808], [1.54663970803, 2.18731156458, 2.1332039974200003, 1.7861810590199998], [1.06510396998, 3.33750484662, 4.29999881194, 3.81130690579], [1.10949445715, 2.1932346574, 2.38864831497, 1.8595647208099997], [4.0789674621700005, 3.88135638103, 2.97875396885, 2.13627900561], [4.037589477719999, 4.06962176789, 3.1761337109600003, 2.51178456245], [7.234779111210001, 8.56955510337, 7.262913203869999, 5.54771992446]], \"zmax\": 8.56955510337, \"zmin\": 0.325727350016, \"type\": \"heatmap\", \"uid\": \"697321a0-40c5-4d46-bada-4d7c9349dd98\"}], {\"sliders\": [{\"active\": 0, \"currentvalue\": {\"prefix\": \"Year: \"}, \"pad\": {\"t\": 25}, \"steps\": [{\"args\": [\"visible\", [true, false, false, false, false, false, false, false, false, false, false, false, false, false, false, false, false, false, false, false, false, false, false, false, false, false, false, false]], \"label\": \"1990\"}, {\"args\": [\"visible\", [false, true, false, false, false, false, false, false, false, false, false, false, false, false, false, false, false, false, false, false, false, false, false, false, false, false, false, false]], \"label\": \"1991\"}, {\"args\": [\"visible\", [false, false, true, false, false, false, false, false, false, false, false, false, false, false, false, false, false, false, false, false, false, false, false, false, false, false, false, false]], \"label\": \"1992\"}, {\"args\": [\"visible\", [false, false, false, true, false, false, false, false, false, false, false, false, false, false, false, false, false, false, false, false, false, false, false, false, false, false, false, false]], \"label\": \"1993\"}, {\"args\": [\"visible\", [false, false, false, false, true, false, false, false, false, false, false, false, false, false, false, false, false, false, false, false, false, false, false, false, false, false, false, false]], \"label\": \"1994\"}, {\"args\": [\"visible\", [false, false, false, false, false, true, false, false, false, false, false, false, false, false, false, false, false, false, false, false, false, false, false, false, false, false, false, false]], \"label\": \"1995\"}, {\"args\": [\"visible\", [false, false, false, false, false, false, true, false, false, false, false, false, false, false, false, false, false, false, false, false, false, false, false, false, false, false, false, false]], \"label\": \"1996\"}, {\"args\": [\"visible\", [false, false, false, false, false, false, false, true, false, false, false, false, false, false, false, false, false, false, false, false, false, false, false, false, false, false, false, false]], \"label\": \"1997\"}, {\"args\": [\"visible\", [false, false, false, false, false, false, false, false, true, false, false, false, false, false, false, false, false, false, false, false, false, false, false, false, false, false, false, false]], \"label\": \"1998\"}, {\"args\": [\"visible\", [false, false, false, false, false, false, false, false, false, true, false, false, false, false, false, false, false, false, false, false, false, false, false, false, false, false, false, false]], \"label\": \"1999\"}, {\"args\": [\"visible\", [false, false, false, false, false, false, false, false, false, false, true, false, false, false, false, false, false, false, false, false, false, false, false, false, false, false, false, false]], \"label\": \"2000\"}, {\"args\": [\"visible\", [false, false, false, false, false, false, false, false, false, false, false, true, false, false, false, false, false, false, false, false, false, false, false, false, false, false, false, false]], \"label\": \"2001\"}, {\"args\": [\"visible\", [false, false, false, false, false, false, false, false, false, false, false, false, true, false, false, false, false, false, false, false, false, false, false, false, false, false, false, false]], \"label\": \"2002\"}, {\"args\": [\"visible\", [false, false, false, false, false, false, false, false, false, false, false, false, false, true, false, false, false, false, false, false, false, false, false, false, false, false, false, false]], \"label\": \"2003\"}, {\"args\": [\"visible\", [false, false, false, false, false, false, false, false, false, false, false, false, false, false, true, false, false, false, false, false, false, false, false, false, false, false, false, false]], \"label\": \"2004\"}, {\"args\": [\"visible\", [false, false, false, false, false, false, false, false, false, false, false, false, false, false, false, true, false, false, false, false, false, false, false, false, false, false, false, false]], \"label\": \"2005\"}, {\"args\": [\"visible\", [false, false, false, false, false, false, false, false, false, false, false, false, false, false, false, false, true, false, false, false, false, false, false, false, false, false, false, false]], \"label\": \"2006\"}, {\"args\": [\"visible\", [false, false, false, false, false, false, false, false, false, false, false, false, false, false, false, false, false, true, false, false, false, false, false, false, false, false, false, false]], \"label\": \"2007\"}, {\"args\": [\"visible\", [false, false, false, false, false, false, false, false, false, false, false, false, false, false, false, false, false, false, true, false, false, false, false, false, false, false, false, false]], \"label\": \"2008\"}, {\"args\": [\"visible\", [false, false, false, false, false, false, false, false, false, false, false, false, false, false, false, false, false, false, false, true, false, false, false, false, false, false, false, false]], \"label\": \"2009\"}, {\"args\": [\"visible\", [false, false, false, false, false, false, false, false, false, false, false, false, false, false, false, false, false, false, false, false, true, false, false, false, false, false, false, false]], \"label\": \"2010\"}, {\"args\": [\"visible\", [false, false, false, false, false, false, false, false, false, false, false, false, false, false, false, false, false, false, false, false, false, true, false, false, false, false, false, false]], \"label\": \"2011\"}, {\"args\": [\"visible\", [false, false, false, false, false, false, false, false, false, false, false, false, false, false, false, false, false, false, false, false, false, false, true, false, false, false, false, false]], \"label\": \"2012\"}, {\"args\": [\"visible\", [false, false, false, false, false, false, false, false, false, false, false, false, false, false, false, false, false, false, false, false, false, false, false, true, false, false, false, false]], \"label\": \"2013\"}, {\"args\": [\"visible\", [false, false, false, false, false, false, false, false, false, false, false, false, false, false, false, false, false, false, false, false, false, false, false, false, true, false, false, false]], \"label\": \"2014\"}, {\"args\": [\"visible\", [false, false, false, false, false, false, false, false, false, false, false, false, false, false, false, false, false, false, false, false, false, false, false, false, false, true, false, false]], \"label\": \"2015\"}, {\"args\": [\"visible\", [false, false, false, false, false, false, false, false, false, false, false, false, false, false, false, false, false, false, false, false, false, false, false, false, false, false, true, false]], \"label\": \"2016\"}, {\"args\": [\"visible\", [false, false, false, false, false, false, false, false, false, false, false, false, false, false, false, false, false, false, false, false, false, false, false, false, false, false, false, true]], \"label\": \"2017\"}]}], \"title\": {\"text\": \"Drug Use per Age Group (1990-2017)\"}, \"xaxis\": {\"tickmode\": \"array\", \"title\": {\"text\": \"Age Group\"}}}, {\"showLink\": false, \"linkText\": \"Export to plot.ly\", \"plotlyServerURL\": \"https://plot.ly\"}); \n",
       "}\n",
       "});</script><script type=\"text/javascript\">window.addEventListener(\"resize\", function(){if (document.getElementById(\"5fbf5cdb-3e5d-454e-9f7b-3f2f73fd36ac\")) {window._Plotly.Plots.resize(document.getElementById(\"5fbf5cdb-3e5d-454e-9f7b-3f2f73fd36ac\"));};})</script>"
      ]
     },
     "metadata": {},
     "output_type": "display_data"
    }
   ],
   "source": [
    "layout = go.Layout(xaxis=dict(title='Age Group', tickmode='array', ), \n",
    "                   title=go.layout.Title(\n",
    "                   text='Drug Use per Age Group (1990-2017)'),\n",
    "                   sliders = sliders )\n",
    "fig = dict( data = traces, layout = layout )\n",
    "\n",
    "iplot( fig, filename = 'drug_use_heatmap' )"
   ]
  },
  {
   "cell_type": "markdown",
   "metadata": {},
   "source": [
    "## Stacked Area Plot:"
   ]
  },
  {
   "cell_type": "markdown",
   "metadata": {},
   "source": [
    "## Treemap: Alcohol Use Disorder"
   ]
  },
  {
   "cell_type": "markdown",
   "metadata": {},
   "source": [
    "The following is a tree map of alcohol use disorder per share of population for 20 different countries. "
   ]
  },
  {
   "cell_type": "code",
   "execution_count": 24,
   "metadata": {
    "ExecuteTime": {
     "end_time": "2019-05-08T20:07:26.547138Z",
     "start_time": "2019-05-08T20:07:26.543639Z"
    }
   },
   "outputs": [],
   "source": [
    "import squarify"
   ]
  },
  {
   "cell_type": "markdown",
   "metadata": {},
   "source": [
    "Extracting relevant data:"
   ]
  },
  {
   "cell_type": "code",
   "execution_count": 25,
   "metadata": {
    "ExecuteTime": {
     "end_time": "2019-05-08T20:07:27.292341Z",
     "start_time": "2019-05-08T20:07:27.218697Z"
    }
   },
   "outputs": [],
   "source": [
    "# Let's just look at the top 20 countries by GDP\n",
    "top_20_gdp = ['Brazil', 'Canada', 'China', 'France', 'Germany',\n",
    "              'India', 'Italy', 'Japan', 'Mexico', 'Nigeria', 'Russia',\n",
    "              'Saudi Arabia', 'South Africa', 'Spain', 'United Kingdom',\n",
    "              'United States']\n",
    "\n",
    "# group and sum by entity and filter \n",
    "drug_vs_alcohol_treemap = drug_vs_alcohol.groupby(by='Entity', as_index=False).mean()\n",
    "drug_vs_alcohol_treemap = drug_vs_alcohol_treemap[drug_vs_alcohol_treemap.Entity.isin(top_20_gdp)]\n",
    "drug_vs_alcohol_treemap.sort_values(by='Share of population with alcohol use disorder (%)', \n",
    "                                    ascending=False, inplace=True)"
   ]
  },
  {
   "cell_type": "markdown",
   "metadata": {},
   "source": [
    "Grabbing rectangle and color information:"
   ]
  },
  {
   "cell_type": "code",
   "execution_count": 32,
   "metadata": {
    "ExecuteTime": {
     "end_time": "2019-05-08T20:10:17.853563Z",
     "start_time": "2019-05-08T20:10:17.844208Z"
    }
   },
   "outputs": [
    {
     "data": {
      "text/html": [
       "<div style=\"background-color:hsl(234.3793103448276, 32.58620689655172%, 64.48275862068965%);height:20px;width:20px;margin-bottom:0px;display:inline-block;\"></div><div style=\"background-color:hsl(226.3793103448276, 34.51724137931034%, 66.9655172413793%);height:20px;width:20px;margin-bottom:0px;display:inline-block;\"></div><div style=\"background-color:hsl(221.13793103448276, 37.55172413793103%, 68.89655172413794%);height:20px;width:20px;margin-bottom:0px;display:inline-block;\"></div><div style=\"background-color:hsl(215.89655172413794, 40.58620689655172%, 70.82758620689656%);height:20px;width:20px;margin-bottom:0px;display:inline-block;\"></div><div style=\"background-color:hsl(210.6551724137931, 43.62068965517241%, 72.75862068965517%);height:20px;width:20px;margin-bottom:0px;display:inline-block;\"></div><div style=\"background-color:hsl(209.75862068965517, 43.758620689655174%, 75.17241379310344%);height:20px;width:20px;margin-bottom:0px;display:inline-block;\"></div><div style=\"background-color:hsl(209.48275862068965, 43.48275862068966%, 77.65517241379311%);height:20px;width:20px;margin-bottom:0px;display:inline-block;\"></div><div style=\"background-color:hsl(209.20689655172413, 43.206896551724135%, 80.13793103448276%);height:20px;width:20px;margin-bottom:0px;display:inline-block;\"></div><div style=\"background-color:hsl(208.6551724137931, 43.275862068965516%, 82.62068965517241%);height:20px;width:20px;margin-bottom:0px;display:inline-block;\"></div><div style=\"background-color:hsl(207.27586206896552, 44.37931034482759%, 85.10344827586206%);height:20px;width:20px;margin-bottom:0px;display:inline-block;\"></div><div style=\"background-color:hsl(205.89655172413794, 45.48275862068965%, 87.58620689655173%);height:20px;width:20px;margin-bottom:0px;display:inline-block;\"></div><div style=\"background-color:hsl(204.51724137931035, 46.58620689655172%, 90.06896551724138%);height:20px;width:20px;margin-bottom:0px;display:inline-block;\"></div><div style=\"background-color:hsl(201.58620689655172, 49.241379310344826%, 92.20689655172414%);height:20px;width:20px;margin-bottom:0px;display:inline-block;\"></div><div style=\"background-color:hsl(197.72413793103448, 52.827586206896555%, 94.13793103448276%);height:20px;width:20px;margin-bottom:0px;display:inline-block;\"></div><div style=\"background-color:hsl(193.86206896551724, 56.41379310344828%, 96.06896551724138%);height:20px;width:20px;margin-bottom:0px;display:inline-block;\"></div><div style=\"background-color:hsl(190.0, 60.0%, 98.0%);height:20px;width:20px;margin-bottom:0px;display:inline-block;\"></div>"
      ],
      "text/plain": [
       "<IPython.core.display.HTML object>"
      ]
     },
     "execution_count": 32,
     "metadata": {},
     "output_type": "execute_result"
    }
   ],
   "source": [
    "# normalize and get rectangles for treemap \n",
    "x = 0 \n",
    "y = 0\n",
    "width = 2000\n",
    "height = 2000\n",
    "values = drug_vs_alcohol_treemap['Share of population with alcohol use disorder (%)'].values\n",
    "values = values.round(decimals=2)\n",
    "entities = list(drug_vs_alcohol_treemap['Entity'].values)\n",
    "entities = [entities[i] + '<br>' + '(' + str(values[i])+'%' + ')' for i in range(len(values))]\n",
    "normed = squarify.normalize_sizes(values, width, height)\n",
    "rects = squarify.squarify(normed, x, y, width, height)\n",
    "\n",
    "\n",
    "\n",
    "# # Choose colors from http://colorbrewer2.org/ under \"Export\"\n",
    "# color_brewer = ['rgb(166,206,227)','rgb(31,120,180)','rgb(178,223,138)',\n",
    "#                 'rgb(51,160,44)','rgb(251,154,153)','rgb(227,26,28)']\n",
    "bupu = cl.scales['9']['seq']['BuPu']\n",
    "bupu20 = cl.interp( bupu, 30 ) # Map color scale to 20 bins\n",
    "bupu20 = bupu20[::-1][14:]\n",
    "HTML( cl.to_html( bupu20 ) )"
   ]
  },
  {
   "cell_type": "code",
   "execution_count": 36,
   "metadata": {
    "ExecuteTime": {
     "end_time": "2019-05-08T20:11:11.184803Z",
     "start_time": "2019-05-08T20:11:11.034888Z"
    }
   },
   "outputs": [
    {
     "data": {
      "application/vnd.plotly.v1+json": {
       "config": {
        "linkText": "Export to plot.ly",
        "plotlyServerURL": "https://plot.ly",
        "showLink": false
       },
       "data": [
        {
         "type": "scatter",
         "uid": "a2970a8f-b62f-45a7-9dc1-de86bfd630e1",
         "x": [
          380.1620995754535,
          380.1620995754535,
          380.1620995754535,
          1098.2677352866303,
          1718.1056357111768,
          1075.8105556544187,
          1695.6484560789652,
          967.1674270827591,
          967.1674270827591,
          1397.027778160666,
          1810.0224506533605,
          1385.8638299532267,
          1385.8638299532267,
          1798.8585024459212,
          1709.028319072255,
          1910.1698166263338
         ],
         "y": [
          523.8578680203045,
          1314.720812182741,
          1790.8629441624362,
          234.12204234122046,
          234.12204234122046,
          676.2141967621421,
          676.2141967621421,
          1175.2666630570145,
          1733.174508636093,
          1117.8140599218593,
          1117.8140599218593,
          1520.8700064423967,
          1845.148100941459,
          1478.0849603328702,
          1802.3630548319325,
          1802.3630548319331
         ]
        }
       ],
       "layout": {
        "annotations": [
         {
          "showarrow": false,
          "text": "Russia<br>(5.16%)",
          "x": 380.1620995754535,
          "y": 523.8578680203045
         },
         {
          "showarrow": false,
          "text": "Brazil<br>(2.63%)",
          "x": 380.1620995754535,
          "y": 1314.720812182741
         },
         {
          "showarrow": false,
          "text": "Germany<br>(2.06%)",
          "x": 380.1620995754535,
          "y": 1790.8629441624362
         },
         {
          "showarrow": false,
          "text": "United States<br>(2.05%)",
          "x": 1098.2677352866303,
          "y": 234.12204234122046
         },
         {
          "showarrow": false,
          "text": "Mexico<br>(1.71%)",
          "x": 1718.1056357111768,
          "y": 234.12204234122046
         },
         {
          "showarrow": false,
          "text": "United Kingdom<br>(1.7%)",
          "x": 1075.8105556544187,
          "y": 676.2141967621421
         },
         {
          "showarrow": false,
          "text": "South Africa<br>(1.64%)",
          "x": 1695.6484560789652,
          "y": 676.2141967621421
         },
         {
          "showarrow": false,
          "text": "Canada<br>(1.56%)",
          "x": 967.1674270827591,
          "y": 1175.2666630570145
         },
         {
          "showarrow": false,
          "text": "France<br>(1.43%)",
          "x": 967.1674270827591,
          "y": 1733.174508636093
         },
         {
          "showarrow": false,
          "text": "India<br>(1.35%)",
          "x": 1397.027778160666,
          "y": 1117.8140599218593
         },
         {
          "showarrow": false,
          "text": "China<br>(1.15%)",
          "x": 1810.0224506533605,
          "y": 1117.8140599218593
         },
         {
          "showarrow": false,
          "text": "Nigeria<br>(0.93%)",
          "x": 1385.8638299532267,
          "y": 1520.8700064423967
         },
         {
          "showarrow": false,
          "text": "Spain<br>(0.85%)",
          "x": 1385.8638299532267,
          "y": 1845.148100941459
         },
         {
          "showarrow": false,
          "text": "Saudi Arabia<br>(0.66%)",
          "x": 1798.8585024459212,
          "y": 1478.0849603328702
         },
         {
          "showarrow": false,
          "text": "Japan<br>(0.57%)",
          "x": 1709.028319072255,
          "y": 1802.3630548319325
         },
         {
          "showarrow": false,
          "text": "Italy<br>(0.46%)",
          "x": 1910.1698166263338,
          "y": 1802.3630548319331
         }
        ],
        "height": 700,
        "hovermode": "closest",
        "shapes": [
         {
          "fillcolor": "hsl(234.3793103448276, 32.58620689655172%, 64.48275862068965%)",
          "line": {
           "width": 2
          },
          "type": "rect",
          "x0": 0,
          "x1": 760.324199150907,
          "y0": 0,
          "y1": 1047.715736040609
         },
         {
          "fillcolor": "hsl(226.3793103448276, 34.51724137931034%, 66.9655172413793%)",
          "line": {
           "width": 2
          },
          "type": "rect",
          "x0": 0,
          "x1": 760.324199150907,
          "y0": 1047.715736040609,
          "y1": 1581.7258883248728
         },
         {
          "fillcolor": "hsl(221.13793103448276, 37.55172413793103%, 68.89655172413794%)",
          "line": {
           "width": 2
          },
          "type": "rect",
          "x0": 0,
          "x1": 760.324199150907,
          "y0": 1581.7258883248728,
          "y1": 1999.9999999999998
         },
         {
          "fillcolor": "hsl(215.89655172413794, 40.58620689655172%, 70.82758620689656%)",
          "line": {
           "width": 2
          },
          "type": "rect",
          "x0": 760.324199150907,
          "x1": 1436.2112714223538,
          "y0": 0,
          "y1": 468.2440846824409
         },
         {
          "fillcolor": "hsl(210.6551724137931, 43.62068965517241%, 72.75862068965517%)",
          "line": {
           "width": 2
          },
          "type": "rect",
          "x0": 1436.2112714223538,
          "x1": 1999.9999999999998,
          "y0": 0,
          "y1": 468.2440846824409
         },
         {
          "fillcolor": "hsl(209.75862068965517, 43.758620689655174%, 75.17241379310344%)",
          "line": {
           "width": 2
          },
          "type": "rect",
          "x0": 760.324199150907,
          "x1": 1391.2969121579304,
          "y0": 468.2440846824409,
          "y1": 884.1843088418432
         },
         {
          "fillcolor": "hsl(209.48275862068965, 43.48275862068966%, 77.65517241379311%)",
          "line": {
           "width": 2
          },
          "type": "rect",
          "x0": 1391.2969121579304,
          "x1": 2000,
          "y0": 468.2440846824409,
          "y1": 884.1843088418432
         },
         {
          "fillcolor": "hsl(209.20689655172413, 43.206896551724135%, 80.13793103448276%)",
          "line": {
           "width": 2
          },
          "type": "rect",
          "x0": 760.324199150907,
          "x1": 1174.010655014611,
          "y0": 884.1843088418432,
          "y1": 1466.3490172721858
         },
         {
          "fillcolor": "hsl(208.6551724137931, 43.275862068965516%, 82.62068965517241%)",
          "line": {
           "width": 2
          },
          "type": "rect",
          "x0": 760.324199150907,
          "x1": 1174.010655014611,
          "y0": 1466.3490172721858,
          "y1": 2000
         },
         {
          "fillcolor": "hsl(207.27586206896552, 44.37931034482759%, 85.10344827586206%)",
          "line": {
           "width": 2
          },
          "type": "rect",
          "x0": 1174.010655014611,
          "x1": 1620.044901306721,
          "y0": 884.1843088418432,
          "y1": 1351.4438110018755
         },
         {
          "fillcolor": "hsl(205.89655172413794, 45.48275862068965%, 87.58620689655173%)",
          "line": {
           "width": 2
          },
          "type": "rect",
          "x0": 1620.044901306721,
          "x1": 1999.9999999999998,
          "y0": 884.1843088418432,
          "y1": 1351.4438110018755
         },
         {
          "fillcolor": "hsl(204.51724137931035, 46.58620689655172%, 90.06896551724138%)",
          "line": {
           "width": 2
          },
          "type": "rect",
          "x0": 1174.010655014611,
          "x1": 1597.7170048918424,
          "y0": 1351.4438110018755,
          "y1": 1690.296201882918
         },
         {
          "fillcolor": "hsl(201.58620689655172, 49.241379310344826%, 92.20689655172414%)",
          "line": {
           "width": 2
          },
          "type": "rect",
          "x0": 1174.010655014611,
          "x1": 1597.7170048918424,
          "y0": 1690.296201882918,
          "y1": 2000
         },
         {
          "fillcolor": "hsl(197.72413793103448, 52.827586206896555%, 94.13793103448276%)",
          "line": {
           "width": 2
          },
          "type": "rect",
          "x0": 1597.7170048918424,
          "x1": 2000,
          "y0": 1351.4438110018755,
          "y1": 1604.7261096638651
         },
         {
          "fillcolor": "hsl(193.86206896551724, 56.41379310344828%, 96.06896551724138%)",
          "line": {
           "width": 2
          },
          "type": "rect",
          "x0": 1597.7170048918424,
          "x1": 1820.3396332526677,
          "y0": 1604.7261096638651,
          "y1": 2000
         },
         {
          "fillcolor": "hsl(190.0, 60.0%, 98.0%)",
          "line": {
           "width": 2
          },
          "type": "rect",
          "x0": 1820.3396332526677,
          "x1": 2000,
          "y0": 1604.7261096638651,
          "y1": 2000.0000000000011
         }
        ],
        "title": {
         "text": "Share of population with alcohol use disorder (%)"
        },
        "width": 700,
        "xaxis": {
         "showgrid": false,
         "showline": false,
         "showticklabels": false,
         "ticks": "",
         "zeroline": false
        },
        "yaxis": {
         "showgrid": false,
         "showline": false,
         "showticklabels": false,
         "ticks": "",
         "zeroline": false
        }
       }
      },
      "text/html": [
       "<div id=\"eb36217c-be02-4f1a-8333-864acc1add49\" style=\"height: 700px; width: 700px;\" class=\"plotly-graph-div\"></div><script type=\"text/javascript\">require([\"plotly\"], function(Plotly) { window.PLOTLYENV=window.PLOTLYENV || {};window.PLOTLYENV.BASE_URL=\"https://plot.ly\";\n",
       "if (document.getElementById(\"eb36217c-be02-4f1a-8333-864acc1add49\")) {\n",
       "    Plotly.newPlot(\"eb36217c-be02-4f1a-8333-864acc1add49\", [{\"x\": [380.1620995754535, 380.1620995754535, 380.1620995754535, 1098.2677352866303, 1718.1056357111768, 1075.8105556544187, 1695.6484560789652, 967.1674270827591, 967.1674270827591, 1397.027778160666, 1810.0224506533605, 1385.8638299532267, 1385.8638299532267, 1798.8585024459212, 1709.028319072255, 1910.1698166263338], \"y\": [523.8578680203045, 1314.720812182741, 1790.8629441624362, 234.12204234122046, 234.12204234122046, 676.2141967621421, 676.2141967621421, 1175.2666630570145, 1733.174508636093, 1117.8140599218593, 1117.8140599218593, 1520.8700064423967, 1845.148100941459, 1478.0849603328702, 1802.3630548319325, 1802.3630548319331], \"type\": \"scatter\", \"uid\": \"ad91d56b-6faa-491d-82f7-78764b93bee4\"}], {\"annotations\": [{\"showarrow\": false, \"text\": \"Russia<br>(5.16%)\", \"x\": 380.1620995754535, \"y\": 523.8578680203045}, {\"showarrow\": false, \"text\": \"Brazil<br>(2.63%)\", \"x\": 380.1620995754535, \"y\": 1314.720812182741}, {\"showarrow\": false, \"text\": \"Germany<br>(2.06%)\", \"x\": 380.1620995754535, \"y\": 1790.8629441624362}, {\"showarrow\": false, \"text\": \"United States<br>(2.05%)\", \"x\": 1098.2677352866303, \"y\": 234.12204234122046}, {\"showarrow\": false, \"text\": \"Mexico<br>(1.71%)\", \"x\": 1718.1056357111768, \"y\": 234.12204234122046}, {\"showarrow\": false, \"text\": \"United Kingdom<br>(1.7%)\", \"x\": 1075.8105556544187, \"y\": 676.2141967621421}, {\"showarrow\": false, \"text\": \"South Africa<br>(1.64%)\", \"x\": 1695.6484560789652, \"y\": 676.2141967621421}, {\"showarrow\": false, \"text\": \"Canada<br>(1.56%)\", \"x\": 967.1674270827591, \"y\": 1175.2666630570145}, {\"showarrow\": false, \"text\": \"France<br>(1.43%)\", \"x\": 967.1674270827591, \"y\": 1733.174508636093}, {\"showarrow\": false, \"text\": \"India<br>(1.35%)\", \"x\": 1397.027778160666, \"y\": 1117.8140599218593}, {\"showarrow\": false, \"text\": \"China<br>(1.15%)\", \"x\": 1810.0224506533605, \"y\": 1117.8140599218593}, {\"showarrow\": false, \"text\": \"Nigeria<br>(0.93%)\", \"x\": 1385.8638299532267, \"y\": 1520.8700064423967}, {\"showarrow\": false, \"text\": \"Spain<br>(0.85%)\", \"x\": 1385.8638299532267, \"y\": 1845.148100941459}, {\"showarrow\": false, \"text\": \"Saudi Arabia<br>(0.66%)\", \"x\": 1798.8585024459212, \"y\": 1478.0849603328702}, {\"showarrow\": false, \"text\": \"Japan<br>(0.57%)\", \"x\": 1709.028319072255, \"y\": 1802.3630548319325}, {\"showarrow\": false, \"text\": \"Italy<br>(0.46%)\", \"x\": 1910.1698166263338, \"y\": 1802.3630548319331}], \"height\": 700, \"hovermode\": \"closest\", \"shapes\": [{\"fillcolor\": \"hsl(234.3793103448276, 32.58620689655172%, 64.48275862068965%)\", \"line\": {\"width\": 2}, \"type\": \"rect\", \"x0\": 0, \"x1\": 760.324199150907, \"y0\": 0, \"y1\": 1047.715736040609}, {\"fillcolor\": \"hsl(226.3793103448276, 34.51724137931034%, 66.9655172413793%)\", \"line\": {\"width\": 2}, \"type\": \"rect\", \"x0\": 0, \"x1\": 760.324199150907, \"y0\": 1047.715736040609, \"y1\": 1581.7258883248728}, {\"fillcolor\": \"hsl(221.13793103448276, 37.55172413793103%, 68.89655172413794%)\", \"line\": {\"width\": 2}, \"type\": \"rect\", \"x0\": 0, \"x1\": 760.324199150907, \"y0\": 1581.7258883248728, \"y1\": 1999.9999999999998}, {\"fillcolor\": \"hsl(215.89655172413794, 40.58620689655172%, 70.82758620689656%)\", \"line\": {\"width\": 2}, \"type\": \"rect\", \"x0\": 760.324199150907, \"x1\": 1436.2112714223538, \"y0\": 0, \"y1\": 468.2440846824409}, {\"fillcolor\": \"hsl(210.6551724137931, 43.62068965517241%, 72.75862068965517%)\", \"line\": {\"width\": 2}, \"type\": \"rect\", \"x0\": 1436.2112714223538, \"x1\": 1999.9999999999998, \"y0\": 0, \"y1\": 468.2440846824409}, {\"fillcolor\": \"hsl(209.75862068965517, 43.758620689655174%, 75.17241379310344%)\", \"line\": {\"width\": 2}, \"type\": \"rect\", \"x0\": 760.324199150907, \"x1\": 1391.2969121579304, \"y0\": 468.2440846824409, \"y1\": 884.1843088418432}, {\"fillcolor\": \"hsl(209.48275862068965, 43.48275862068966%, 77.65517241379311%)\", \"line\": {\"width\": 2}, \"type\": \"rect\", \"x0\": 1391.2969121579304, \"x1\": 2000.0, \"y0\": 468.2440846824409, \"y1\": 884.1843088418432}, {\"fillcolor\": \"hsl(209.20689655172413, 43.206896551724135%, 80.13793103448276%)\", \"line\": {\"width\": 2}, \"type\": \"rect\", \"x0\": 760.324199150907, \"x1\": 1174.010655014611, \"y0\": 884.1843088418432, \"y1\": 1466.3490172721858}, {\"fillcolor\": \"hsl(208.6551724137931, 43.275862068965516%, 82.62068965517241%)\", \"line\": {\"width\": 2}, \"type\": \"rect\", \"x0\": 760.324199150907, \"x1\": 1174.010655014611, \"y0\": 1466.3490172721858, \"y1\": 2000.0}, {\"fillcolor\": \"hsl(207.27586206896552, 44.37931034482759%, 85.10344827586206%)\", \"line\": {\"width\": 2}, \"type\": \"rect\", \"x0\": 1174.010655014611, \"x1\": 1620.044901306721, \"y0\": 884.1843088418432, \"y1\": 1351.4438110018755}, {\"fillcolor\": \"hsl(205.89655172413794, 45.48275862068965%, 87.58620689655173%)\", \"line\": {\"width\": 2}, \"type\": \"rect\", \"x0\": 1620.044901306721, \"x1\": 1999.9999999999998, \"y0\": 884.1843088418432, \"y1\": 1351.4438110018755}, {\"fillcolor\": \"hsl(204.51724137931035, 46.58620689655172%, 90.06896551724138%)\", \"line\": {\"width\": 2}, \"type\": \"rect\", \"x0\": 1174.010655014611, \"x1\": 1597.7170048918424, \"y0\": 1351.4438110018755, \"y1\": 1690.296201882918}, {\"fillcolor\": \"hsl(201.58620689655172, 49.241379310344826%, 92.20689655172414%)\", \"line\": {\"width\": 2}, \"type\": \"rect\", \"x0\": 1174.010655014611, \"x1\": 1597.7170048918424, \"y0\": 1690.296201882918, \"y1\": 2000.0}, {\"fillcolor\": \"hsl(197.72413793103448, 52.827586206896555%, 94.13793103448276%)\", \"line\": {\"width\": 2}, \"type\": \"rect\", \"x0\": 1597.7170048918424, \"x1\": 2000.0, \"y0\": 1351.4438110018755, \"y1\": 1604.7261096638651}, {\"fillcolor\": \"hsl(193.86206896551724, 56.41379310344828%, 96.06896551724138%)\", \"line\": {\"width\": 2}, \"type\": \"rect\", \"x0\": 1597.7170048918424, \"x1\": 1820.3396332526677, \"y0\": 1604.7261096638651, \"y1\": 2000.0}, {\"fillcolor\": \"hsl(190.0, 60.0%, 98.0%)\", \"line\": {\"width\": 2}, \"type\": \"rect\", \"x0\": 1820.3396332526677, \"x1\": 2000.0, \"y0\": 1604.7261096638651, \"y1\": 2000.0000000000011}], \"title\": {\"text\": \"Share of population with alcohol use disorder (%)\"}, \"width\": 700, \"xaxis\": {\"showgrid\": false, \"showline\": false, \"showticklabels\": false, \"ticks\": \"\", \"zeroline\": false}, \"yaxis\": {\"showgrid\": false, \"showline\": false, \"showticklabels\": false, \"ticks\": \"\", \"zeroline\": false}}, {\"showLink\": false, \"linkText\": \"Export to plot.ly\", \"plotlyServerURL\": \"https://plot.ly\"}); \n",
       "}\n",
       "});</script>"
      ],
      "text/vnd.plotly.v1+html": [
       "<div id=\"eb36217c-be02-4f1a-8333-864acc1add49\" style=\"height: 700px; width: 700px;\" class=\"plotly-graph-div\"></div><script type=\"text/javascript\">require([\"plotly\"], function(Plotly) { window.PLOTLYENV=window.PLOTLYENV || {};window.PLOTLYENV.BASE_URL=\"https://plot.ly\";\n",
       "if (document.getElementById(\"eb36217c-be02-4f1a-8333-864acc1add49\")) {\n",
       "    Plotly.newPlot(\"eb36217c-be02-4f1a-8333-864acc1add49\", [{\"x\": [380.1620995754535, 380.1620995754535, 380.1620995754535, 1098.2677352866303, 1718.1056357111768, 1075.8105556544187, 1695.6484560789652, 967.1674270827591, 967.1674270827591, 1397.027778160666, 1810.0224506533605, 1385.8638299532267, 1385.8638299532267, 1798.8585024459212, 1709.028319072255, 1910.1698166263338], \"y\": [523.8578680203045, 1314.720812182741, 1790.8629441624362, 234.12204234122046, 234.12204234122046, 676.2141967621421, 676.2141967621421, 1175.2666630570145, 1733.174508636093, 1117.8140599218593, 1117.8140599218593, 1520.8700064423967, 1845.148100941459, 1478.0849603328702, 1802.3630548319325, 1802.3630548319331], \"type\": \"scatter\", \"uid\": \"ad91d56b-6faa-491d-82f7-78764b93bee4\"}], {\"annotations\": [{\"showarrow\": false, \"text\": \"Russia<br>(5.16%)\", \"x\": 380.1620995754535, \"y\": 523.8578680203045}, {\"showarrow\": false, \"text\": \"Brazil<br>(2.63%)\", \"x\": 380.1620995754535, \"y\": 1314.720812182741}, {\"showarrow\": false, \"text\": \"Germany<br>(2.06%)\", \"x\": 380.1620995754535, \"y\": 1790.8629441624362}, {\"showarrow\": false, \"text\": \"United States<br>(2.05%)\", \"x\": 1098.2677352866303, \"y\": 234.12204234122046}, {\"showarrow\": false, \"text\": \"Mexico<br>(1.71%)\", \"x\": 1718.1056357111768, \"y\": 234.12204234122046}, {\"showarrow\": false, \"text\": \"United Kingdom<br>(1.7%)\", \"x\": 1075.8105556544187, \"y\": 676.2141967621421}, {\"showarrow\": false, \"text\": \"South Africa<br>(1.64%)\", \"x\": 1695.6484560789652, \"y\": 676.2141967621421}, {\"showarrow\": false, \"text\": \"Canada<br>(1.56%)\", \"x\": 967.1674270827591, \"y\": 1175.2666630570145}, {\"showarrow\": false, \"text\": \"France<br>(1.43%)\", \"x\": 967.1674270827591, \"y\": 1733.174508636093}, {\"showarrow\": false, \"text\": \"India<br>(1.35%)\", \"x\": 1397.027778160666, \"y\": 1117.8140599218593}, {\"showarrow\": false, \"text\": \"China<br>(1.15%)\", \"x\": 1810.0224506533605, \"y\": 1117.8140599218593}, {\"showarrow\": false, \"text\": \"Nigeria<br>(0.93%)\", \"x\": 1385.8638299532267, \"y\": 1520.8700064423967}, {\"showarrow\": false, \"text\": \"Spain<br>(0.85%)\", \"x\": 1385.8638299532267, \"y\": 1845.148100941459}, {\"showarrow\": false, \"text\": \"Saudi Arabia<br>(0.66%)\", \"x\": 1798.8585024459212, \"y\": 1478.0849603328702}, {\"showarrow\": false, \"text\": \"Japan<br>(0.57%)\", \"x\": 1709.028319072255, \"y\": 1802.3630548319325}, {\"showarrow\": false, \"text\": \"Italy<br>(0.46%)\", \"x\": 1910.1698166263338, \"y\": 1802.3630548319331}], \"height\": 700, \"hovermode\": \"closest\", \"shapes\": [{\"fillcolor\": \"hsl(234.3793103448276, 32.58620689655172%, 64.48275862068965%)\", \"line\": {\"width\": 2}, \"type\": \"rect\", \"x0\": 0, \"x1\": 760.324199150907, \"y0\": 0, \"y1\": 1047.715736040609}, {\"fillcolor\": \"hsl(226.3793103448276, 34.51724137931034%, 66.9655172413793%)\", \"line\": {\"width\": 2}, \"type\": \"rect\", \"x0\": 0, \"x1\": 760.324199150907, \"y0\": 1047.715736040609, \"y1\": 1581.7258883248728}, {\"fillcolor\": \"hsl(221.13793103448276, 37.55172413793103%, 68.89655172413794%)\", \"line\": {\"width\": 2}, \"type\": \"rect\", \"x0\": 0, \"x1\": 760.324199150907, \"y0\": 1581.7258883248728, \"y1\": 1999.9999999999998}, {\"fillcolor\": \"hsl(215.89655172413794, 40.58620689655172%, 70.82758620689656%)\", \"line\": {\"width\": 2}, \"type\": \"rect\", \"x0\": 760.324199150907, \"x1\": 1436.2112714223538, \"y0\": 0, \"y1\": 468.2440846824409}, {\"fillcolor\": \"hsl(210.6551724137931, 43.62068965517241%, 72.75862068965517%)\", \"line\": {\"width\": 2}, \"type\": \"rect\", \"x0\": 1436.2112714223538, \"x1\": 1999.9999999999998, \"y0\": 0, \"y1\": 468.2440846824409}, {\"fillcolor\": \"hsl(209.75862068965517, 43.758620689655174%, 75.17241379310344%)\", \"line\": {\"width\": 2}, \"type\": \"rect\", \"x0\": 760.324199150907, \"x1\": 1391.2969121579304, \"y0\": 468.2440846824409, \"y1\": 884.1843088418432}, {\"fillcolor\": \"hsl(209.48275862068965, 43.48275862068966%, 77.65517241379311%)\", \"line\": {\"width\": 2}, \"type\": \"rect\", \"x0\": 1391.2969121579304, \"x1\": 2000.0, \"y0\": 468.2440846824409, \"y1\": 884.1843088418432}, {\"fillcolor\": \"hsl(209.20689655172413, 43.206896551724135%, 80.13793103448276%)\", \"line\": {\"width\": 2}, \"type\": \"rect\", \"x0\": 760.324199150907, \"x1\": 1174.010655014611, \"y0\": 884.1843088418432, \"y1\": 1466.3490172721858}, {\"fillcolor\": \"hsl(208.6551724137931, 43.275862068965516%, 82.62068965517241%)\", \"line\": {\"width\": 2}, \"type\": \"rect\", \"x0\": 760.324199150907, \"x1\": 1174.010655014611, \"y0\": 1466.3490172721858, \"y1\": 2000.0}, {\"fillcolor\": \"hsl(207.27586206896552, 44.37931034482759%, 85.10344827586206%)\", \"line\": {\"width\": 2}, \"type\": \"rect\", \"x0\": 1174.010655014611, \"x1\": 1620.044901306721, \"y0\": 884.1843088418432, \"y1\": 1351.4438110018755}, {\"fillcolor\": \"hsl(205.89655172413794, 45.48275862068965%, 87.58620689655173%)\", \"line\": {\"width\": 2}, \"type\": \"rect\", \"x0\": 1620.044901306721, \"x1\": 1999.9999999999998, \"y0\": 884.1843088418432, \"y1\": 1351.4438110018755}, {\"fillcolor\": \"hsl(204.51724137931035, 46.58620689655172%, 90.06896551724138%)\", \"line\": {\"width\": 2}, \"type\": \"rect\", \"x0\": 1174.010655014611, \"x1\": 1597.7170048918424, \"y0\": 1351.4438110018755, \"y1\": 1690.296201882918}, {\"fillcolor\": \"hsl(201.58620689655172, 49.241379310344826%, 92.20689655172414%)\", \"line\": {\"width\": 2}, \"type\": \"rect\", \"x0\": 1174.010655014611, \"x1\": 1597.7170048918424, \"y0\": 1690.296201882918, \"y1\": 2000.0}, {\"fillcolor\": \"hsl(197.72413793103448, 52.827586206896555%, 94.13793103448276%)\", \"line\": {\"width\": 2}, \"type\": \"rect\", \"x0\": 1597.7170048918424, \"x1\": 2000.0, \"y0\": 1351.4438110018755, \"y1\": 1604.7261096638651}, {\"fillcolor\": \"hsl(193.86206896551724, 56.41379310344828%, 96.06896551724138%)\", \"line\": {\"width\": 2}, \"type\": \"rect\", \"x0\": 1597.7170048918424, \"x1\": 1820.3396332526677, \"y0\": 1604.7261096638651, \"y1\": 2000.0}, {\"fillcolor\": \"hsl(190.0, 60.0%, 98.0%)\", \"line\": {\"width\": 2}, \"type\": \"rect\", \"x0\": 1820.3396332526677, \"x1\": 2000.0, \"y0\": 1604.7261096638651, \"y1\": 2000.0000000000011}], \"title\": {\"text\": \"Share of population with alcohol use disorder (%)\"}, \"width\": 700, \"xaxis\": {\"showgrid\": false, \"showline\": false, \"showticklabels\": false, \"ticks\": \"\", \"zeroline\": false}, \"yaxis\": {\"showgrid\": false, \"showline\": false, \"showticklabels\": false, \"ticks\": \"\", \"zeroline\": false}}, {\"showLink\": false, \"linkText\": \"Export to plot.ly\", \"plotlyServerURL\": \"https://plot.ly\"}); \n",
       "}\n",
       "});</script>"
      ]
     },
     "metadata": {},
     "output_type": "display_data"
    }
   ],
   "source": [
    "shapes = []\n",
    "annotations = []\n",
    "counter = 0\n",
    "\n",
    "# gather rectangles \n",
    "for r in rects:\n",
    "    shapes.append( \n",
    "        dict(\n",
    "            type = 'rect', \n",
    "            x0 = r['x'], \n",
    "            y0 = r['y'], \n",
    "            x1 = r['x']+r['dx'], \n",
    "            y1 = r['y']+r['dy'],\n",
    "            line = dict( width = 2 ),\n",
    "            fillcolor = bupu20[counter]\n",
    "        ) \n",
    "    )\n",
    "    annotations.append(\n",
    "        dict(\n",
    "            x = r['x']+(r['dx']/2),\n",
    "            y = r['y']+(r['dy']/2),\n",
    "            text = entities[counter],\n",
    "            showarrow = False\n",
    "        )\n",
    "    )\n",
    "    counter = counter + 1\n",
    "\n",
    "# For hover text\n",
    "trace0 = go.Scatter(\n",
    "    x = [ r['x']+(r['dx']/2) for r in rects ], \n",
    "    y = [ r['y']+(r['dy']/2) for r in rects ]\n",
    ")    \n",
    "    \n",
    "layout = dict(\n",
    "    height=700, \n",
    "    width=700,\n",
    "    shapes=shapes,\n",
    "    annotations=annotations,\n",
    "    hovermode='closest',\n",
    "    title = go.layout.Title(\n",
    "                   text='Share of population with alcohol use disorder (%)'),\n",
    "    xaxis=dict(\n",
    "        showgrid=False,\n",
    "        zeroline=False,\n",
    "        showline=False,\n",
    "        ticks='',\n",
    "        showticklabels=False\n",
    "    ),\n",
    "    yaxis=dict(\n",
    "        showgrid=False,\n",
    "        zeroline=False,\n",
    "        showline=False,\n",
    "        ticks='',\n",
    "        showticklabels=False)\n",
    ")\n",
    "\n",
    "# With hovertext\n",
    "figure = dict(data=[trace0], layout=layout)\n",
    "iplot(figure, filename='squarify-treemap')"
   ]
  },
  {
   "cell_type": "code",
   "execution_count": null,
   "metadata": {},
   "outputs": [],
   "source": []
  }
 ],
 "metadata": {
  "kernelspec": {
   "display_name": "Python (conda3)",
   "language": "python",
   "name": "anaconda3"
  },
  "language_info": {
   "codemirror_mode": {
    "name": "ipython",
    "version": 3
   },
   "file_extension": ".py",
   "mimetype": "text/x-python",
   "name": "python",
   "nbconvert_exporter": "python",
   "pygments_lexer": "ipython3",
   "version": "3.7.2"
  },
  "toc": {
   "base_numbering": 1,
   "nav_menu": {},
   "number_sections": true,
   "sideBar": true,
   "skip_h1_title": false,
   "title_cell": "Table of Contents",
   "title_sidebar": "Contents",
   "toc_cell": false,
   "toc_position": {},
   "toc_section_display": true,
   "toc_window_display": true
  }
 },
 "nbformat": 4,
 "nbformat_minor": 2
}
