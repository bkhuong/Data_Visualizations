{
 "cells": [
  {
   "cell_type": "markdown",
   "metadata": {},
   "source": [
    "### Botnet Challenge"
   ]
  },
  {
   "cell_type": "markdown",
   "metadata": {},
   "source": [
    "This puzzle comes from Dr. Chiara Sabatti at Stanford University.\n",
    "\n",
    "A ~500K CSV with summary of some real network traffic data from the past. The dataset has ~21K rows and covers 10 local workstation IPs over a three month period. Half of these local IPs were compromised at some point during this period and became members of various botnets. \n",
    "\n",
    "Each row consists of four columns:\n",
    "\n",
    "* date: yyyy-mm-dd (from 2006-07-01 through 2006-09-30)\n",
    "* l_ipn: local IP (coded as an integer from 0-9)\n",
    "* r_asn: remote ASN (an integer which identifies the remote ISP)\n",
    "* f: flows (count of connnections for that day)\n",
    "\n",
    "\n",
    "Reports of \"odd\" activity or suspicions about a machine's behavior triggered investigations on the following days (although the machine might have been compromised earlier)\n",
    "* Date : IP\n",
    "* 08-24 : 1\n",
    "* 09-04 : 5\n",
    "* 09-18 : 4\n",
    "* 09-26 : 3 6"
   ]
  },
  {
   "cell_type": "markdown",
   "metadata": {},
   "source": [
    "### Parallel Coordinate Plot"
   ]
  },
  {
   "cell_type": "markdown",
   "metadata": {},
   "source": [
    "I thought that a good way to visualize network connections was to create a parallel coordinate plot:"
   ]
  },
  {
   "cell_type": "code",
   "execution_count": 1,
   "metadata": {
    "ExecuteTime": {
     "end_time": "2019-04-28T02:54:45.488309Z",
     "start_time": "2019-04-28T02:54:44.594984Z"
    }
   },
   "outputs": [],
   "source": [
    "import colorlover as cl\n",
    "from IPython.display import HTML\n",
    "import numpy as np\n",
    "import pandas as pd \n",
    "import plotly.plotly as py\n",
    "import plotly.graph_objs as go\n",
    "%matplotlib inline"
   ]
  },
  {
   "cell_type": "markdown",
   "metadata": {},
   "source": [
    "For this plot, I'm only going to look at the IPNs where suspicious activity was reported: "
   ]
  },
  {
   "cell_type": "code",
   "execution_count": 9,
   "metadata": {
    "ExecuteTime": {
     "end_time": "2019-04-28T02:58:46.409988Z",
     "start_time": "2019-04-28T02:58:46.392278Z"
    }
   },
   "outputs": [],
   "source": [
    "# Load data \n",
    "cs = pd.read_csv('computer_security.csv')\n",
    "\n",
    "# Grab the IPNs that had reports of suspicious activity \n",
    "reports = [1,3,4,5,6]\n",
    "cs = cs[cs.l_ipn.isin(reports)]"
   ]
  },
  {
   "cell_type": "markdown",
   "metadata": {},
   "source": [
    "For the parallel coordinate plot, it would be interesting to link the observations to report dates to see if there are is anything we can observe. Let's create a reported column to do so: "
   ]
  },
  {
   "cell_type": "code",
   "execution_count": 10,
   "metadata": {
    "ExecuteTime": {
     "end_time": "2019-04-28T02:59:38.861060Z",
     "start_time": "2019-04-28T02:59:38.365824Z"
    }
   },
   "outputs": [],
   "source": [
    "\n",
    "# Preprocess: add reports column indicating whether or not suspicious acitivity was reported on a given day / IPN\n",
    "def get_reports(x):\n",
    "    if x.date == '2006-08-24' and x.l_ipn == 1:\n",
    "        return 1\n",
    "    elif x.date == '2006-09-04' and x.l_ipn == 5:\n",
    "        return 1\n",
    "    elif x.date == '2006-09-18' and x.l_ipn == 4:\n",
    "        return 1 \n",
    "    elif x.date == '2006-09-26' and x.l_ipn == 3:\n",
    "        return 1\n",
    "    elif x.date == '2006-09-26' and x.l_ipn == 6:\n",
    "        return 1\n",
    "    else:\n",
    "        return 0\n",
    "cs['reported'] = cs.apply(lambda x: get_reports(x),axis=1)"
   ]
  },
  {
   "cell_type": "markdown",
   "metadata": {},
   "source": [
    "Let's go ahead and bucket the ASNs so the plot isn't as messy:"
   ]
  },
  {
   "cell_type": "code",
   "execution_count": 11,
   "metadata": {
    "ExecuteTime": {
     "end_time": "2019-04-28T03:00:04.946690Z",
     "start_time": "2019-04-28T03:00:04.934300Z"
    }
   },
   "outputs": [],
   "source": [
    "# Bucketize the ASNs for nicer plotting on parallel coord plot \n",
    "buckets = sum([[i]*2 for i in range(len(cs.r_asn.unique())//2)],[])\n",
    "unique_r_asn = list(cs.r_asn.unique())\n",
    "unique_r_asn.sort()\n",
    "r_asn_mapping = {unique_r_asn[i]:buckets[i] for i in range(len(buckets))}\n",
    "cs.r_asn = cs.r_asn.apply(lambda x: r_asn_mapping[x])"
   ]
  },
  {
   "cell_type": "markdown",
   "metadata": {},
   "source": [
    "Mapping date to integer:"
   ]
  },
  {
   "cell_type": "code",
   "execution_count": 12,
   "metadata": {
    "ExecuteTime": {
     "end_time": "2019-04-28T03:00:37.394305Z",
     "start_time": "2019-04-28T03:00:37.385797Z"
    }
   },
   "outputs": [],
   "source": [
    "# Map date to integer for plotting \n",
    "unique_date = list(cs.date.unique())\n",
    "unique_date.sort()\n",
    "date_mapping = {unique_date[i]:i for i in range(len(unique_date))}\n",
    "cs.date = cs.date.apply(lambda x: date_mapping[x])"
   ]
  },
  {
   "cell_type": "markdown",
   "metadata": {},
   "source": [
    "Normalizing connections:"
   ]
  },
  {
   "cell_type": "code",
   "execution_count": 13,
   "metadata": {
    "ExecuteTime": {
     "end_time": "2019-04-28T03:00:37.945071Z",
     "start_time": "2019-04-28T03:00:37.909552Z"
    }
   },
   "outputs": [],
   "source": [
    "# Normalize connections \n",
    "for i in reports:\n",
    "    max_connections = max(cs[cs.l_ipn == i].f)\n",
    "    cs.loc[cs.l_ipn==i,['f']] = cs[cs.l_ipn == i].f.apply(lambda x: x/max_connections)"
   ]
  },
  {
   "cell_type": "markdown",
   "metadata": {},
   "source": [
    "Parallel Coordinate Plot:\n",
    "    \n",
    "* create sliders by dragging a window over each column "
   ]
  },
  {
   "cell_type": "code",
   "execution_count": 14,
   "metadata": {
    "ExecuteTime": {
     "end_time": "2019-04-28T03:00:48.438869Z",
     "start_time": "2019-04-28T03:00:45.332327Z"
    }
   },
   "outputs": [
    {
     "data": {
      "text/html": [
       "<iframe id=\"igraph\" scrolling=\"no\" style=\"border:none;\" seamless=\"seamless\" src=\"https://plot.ly/~bkhuong/19.embed\" height=\"525px\" width=\"100%\"></iframe>"
      ],
      "text/plain": [
       "<plotly.tools.PlotlyDisplay object>"
      ]
     },
     "execution_count": 14,
     "metadata": {},
     "output_type": "execute_result"
    }
   ],
   "source": [
    "# Create Parallel Coord Plot \n",
    "reds = cl.scales['3']['seq']['Reds']\n",
    "level = np.linspace(0,1,len(reds))\n",
    "seq_colors = [[level[i],reds[i]]for i in range(len(reds))]\n",
    "\n",
    "data = [\n",
    "    go.Parcoords(\n",
    "        line = dict(color = cs['f'],\n",
    "                   colorscale=seq_colors,\n",
    "                   showscale = True),\n",
    "        dimensions = list([\n",
    "            dict(tickvals = [0,1],\n",
    "                label = 'Incident Reported?',\n",
    "                ticktext = ['No','Yes'],\n",
    "                values = cs.reported),\n",
    "            dict(range = [0,91],\n",
    "                label = 'Days from July 1st', values = cs.date),\n",
    "            dict(range = [1,6],\n",
    "                 tickvals = [1,3,4,5,6],\n",
    "                 label = 'Local IPN', values = cs.l_ipn),\n",
    "            dict(range = [0,470],\n",
    "                 label = 'Remote ASN Bucket', values = cs.r_asn),\n",
    "            dict(range = [0,1],\n",
    "                 label = 'Normalized Connections \\\n",
    "                 per IPN', values = cs.f)\n",
    "        ])\n",
    "    )\n",
    "]\n",
    "layout=go.Layout(title=\"Local IP and Remote ASN Interactions\")\n",
    "figure=go.Figure(data=data,layout=layout)\n",
    "\n",
    "py.iplot(figure, filename = 'Local IP and Remote ASN Interactions')"
   ]
  }
 ],
 "metadata": {
  "kernelspec": {
   "display_name": "Python 3",
   "language": "python",
   "name": "python3"
  },
  "language_info": {
   "codemirror_mode": {
    "name": "ipython",
    "version": 3
   },
   "file_extension": ".py",
   "mimetype": "text/x-python",
   "name": "python",
   "nbconvert_exporter": "python",
   "pygments_lexer": "ipython3",
   "version": "3.7.2"
  },
  "toc": {
   "base_numbering": 1,
   "nav_menu": {},
   "number_sections": true,
   "sideBar": true,
   "skip_h1_title": false,
   "title_cell": "Table of Contents",
   "title_sidebar": "Contents",
   "toc_cell": false,
   "toc_position": {},
   "toc_section_display": true,
   "toc_window_display": false
  }
 },
 "nbformat": 4,
 "nbformat_minor": 2
}
